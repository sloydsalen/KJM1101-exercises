{
 "cells": [
  {
   "cell_type": "markdown",
   "metadata": {},
   "source": [
    "All kode er skrevet i python 3.\n",
    "Programmet laster inn en data fil med volum tilsatt syre og temperatur endring per volum av tilsatt syre.\n",
    "Første del av koden konverterer data om til \"array\" som gjør databehandlingen mulig for python."
   ]
  },
  {
   "cell_type": "code",
   "execution_count": 3,
   "metadata": {},
   "outputs": [],
   "source": [
    "import numpy as np\n",
    "V_HCl = [] #volume HCl list\n",
    "Dt = [] #temperature list\n",
    "with open('data/volum_dt.txt', 'r') as data:\n",
    "    data.readline()\n",
    "    for line in data:\n",
    "        w1, w2 = map(float, line.strip().split(', '))\n",
    "        V_HCl.append(w1)\n",
    "        Dt.append(w2)\n",
    "#convert lists to array\n",
    "V_HCl = np.array(V_HCl)\n",
    "Dt = np.array(Dt)\n",
    "\n",
    "#print V_HCl[0]*V_HCl[0]"
   ]
  },
  {
   "cell_type": "markdown",
   "metadata": {},
   "source": [
    "Finner så stigningstallet $\\alpha$.\n",
    "\n",
    "Merk her at vi bruker numpy sin innebygde funksjon \"mean\" som finner gjennomsnittet $\\frac{1}{N}\\sum_{i=1}^N x_i$, hva skjer med $\\frac{1}{N}$?"
   ]
  },
  {
   "cell_type": "code",
   "execution_count": 6,
   "metadata": {},
   "outputs": [
    {
     "name": "stdout",
     "output_type": "stream",
     "text": [
      "396.395987639\n"
     ]
    }
   ],
   "source": [
    "def alpha(x,y):\n",
    "    return np.mean(x*y)/np.mean(x**2)\n",
    "print(alpha(V_HCl,Dt))"
   ]
  },
  {
   "cell_type": "markdown",
   "metadata": {},
   "source": [
    "Deretter finner vi standardavviket $\\sigma_\\alpha$.\n",
    "\n",
    "Igjen har vi nebyttet numpy sin funksjon \"sqrt\" som finner kavdratroten. Og innebygde funksjonen \"sum\" er også benyttet, denne returnerer summen av alle elementene i en \"array\"."
   ]
  },
  {
   "cell_type": "code",
   "execution_count": 8,
   "metadata": {},
   "outputs": [
    {
     "name": "stdout",
     "output_type": "stream",
     "text": [
      "0.234204973465\n"
     ]
    }
   ],
   "source": [
    "def sigma(x,y):\n",
    "    a = alpha(x,y)\n",
    "    new_x = a*x\n",
    "    return np.sqrt(sum((y-new_x)**2)/(len(x)-1)*sum((x**2)))\n",
    "print(sigma(V_HCl,Dt))"
   ]
  },
  {
   "cell_type": "markdown",
   "metadata": {},
   "source": [
    "Til slutt bruker vi matplotlib sin pyplot for å kunne plotte resultatene vi har funnet.\n",
    "\n"
   ]
  },
  {
   "cell_type": "code",
   "execution_count": 24,
   "metadata": {},
   "outputs": [
    {
     "data": {
      "image/png": "[encoded data removed]",
      "text/plain": [
       "<matplotlib.figure.Figure at 0x1dbdef057b8>"
      ]
     },
     "metadata": {},
     "output_type": "display_data"
    }
   ],
   "source": [
    "import matplotlib.pyplot as plt\n",
    "\n",
    "fitted_line = alpha(V_HCl,Dt)*V_HCl\n",
    "\n",
    "plt.figure(1)\n",
    "plt.grid('on')\n",
    "plt.title('Temperature change v.s. Acid volume.',size=17)\n",
    "plt.plot(V_HCl,Dt,'.')\n",
    "plt.plot(V_HCl, fitted_line)\n",
    "plt.xlabel('V_HCl')\n",
    "plt.ylabel('Dt')\n",
    "plt.show()"
   ]
  }
 ],
 "metadata": {
  "kernelspec": {
   "display_name": "Python 3",
   "language": "python",
   "name": "python3"
  },
  "language_info": {
   "codemirror_mode": {
    "name": "ipython",
    "version": 3
   },
   "file_extension": ".py",
   "mimetype": "text/x-python",
   "name": "python",
   "nbconvert_exporter": "python",
   "pygments_lexer": "ipython3",
   "version": "3.6.1"
  }
 },
 "nbformat": 4,
 "nbformat_minor": 2
}
