{
 "cells": [
  {
   "cell_type": "markdown",
   "metadata": {
    "nbgrader": {
     "grade": false,
     "grade_id": "intro",
     "locked": true,
     "schema_version": 1,
     "solution": false
    }
   },
   "source": [
    "# $Le$ $ Ch\\hat{a}teliers $ $prinsipp$\n",
    "\n",
    "I denne oppgaven skal vi se på følgende reaksjonsligning:\n",
    "\n",
    "$$ N_{2} + 3H_{2} \\rightleftharpoons 2NH_{3} $$ \n",
    " \n",
    "\n",
    "Likevektsutrykket for reaksjonen skrives slik: \n",
    "$$ K = \\frac { [NH_{3}]^2 } { [N_{2}][H_{2}]^3 } = 5.96\\times{}10^{-2}$$ \n",
    "hvor $[A]$ vil være likevektskonsentrasjonen til $A$.\n",
    "\n",
    "Å regne ut likevektskonsentrasjonene fra startkonsentrasjonene for denne reaksjonen, vil gi en ligning av 4. grad. Det skal derfor bli trinnvis forklart hvordan ligningen kan løses numerisk i python. Mye av koden er ferdigskrevet, og steder hvor du skal fylle inn kode er markert slik:\n",
    "```\n",
    "    ### FORKLARING PÅ HVA SOM SKAL KODES ###\n",
    "```\n",
    "\n",
    "\n",
    "```\n",
    "```\n",
    "```\n",
    "```\n",
    "Det ligger flere testfunksjoner i dette programmet. Koden til testfunksjonene er ferdigskrevet, og alt du trenger å gjøre er å kjøre koden når du har skrevet ferdig koden i cellen ovenfor. Testfunksjonen vil fortelle deg om koden din eventuelt ikke fungerer som forventet. Merk at testfunksjonen ikke alltid vil finne alle feil, og er derfor ingen absolutt garanti på at funksjonen er implementert helt riktig.\n",
    "\n",
    "Du kjører koden ved å trykke:   shift + enter\n",
    "\n",
    "\n",
    "<mark><strong>HUSK:</strong></mark> Programmet vil lagre variabler og funksjoner når du kjører bitene av programmet. For å unngå feil bør du nullstille \"output\"-en ofte. Dette gjør du slik:\n",
    "    - klikk på \"Cell\"\n",
    "    - velg \"All Output\"\n",
    "    - klikk på \"Clear\"\n",
    "    \n",
    "## Reaksjonskvotient\n",
    "\n",
    "La $x$ være endringen i $[N_{2}]$ fra startkonsentrasjon. Hvis du skulle løse denne oppgaven analytisk, ville du satt $x$ til endringen fra startkonsentrasjon til likevektskonsentrasjon. I stedet for å løse ligningen for $x$ (ettersom det blir fryktelig vanskelig å løse) skal du heller skrive en funksjon find_Q som regner ut reaksjonskvotienten $Q$ for en gitt verdi for $x$. Reaksjonskvotienten skrives slik: \n",
    "\n",
    "$$ Q = \\frac { [NH_{3}]^2 } { [N_{2}][H_{2}]^3 } $$ \n",
    "\n",
    "hvor $[B]$ er konsentrasjonen til $B$, regnet ut fra startkonsentrasjon og endring $x$. Hvis $ K = Q $ vil $[B]$ være likevektskonsentrasjonen til $B$.\n",
    "\n",
    "\n",
    "find_Q tar inn startkonsentrasjonene til de tre komponentene og en foreslått endring $x$. Funksjonen regner ut de nye konsentrasjonene til alle tre komponentene, for så å regne ut reaksjonskvotienten. Funksjonen returnerer alle fire verdiene."
   ]
  },
  {
   "cell_type": "code",
   "execution_count": 1,
   "metadata": {
    "collapsed": true,
    "nbgrader": {
     "grade": false,
     "grade_id": "Q",
     "locked": false,
     "schema_version": 1,
     "solution": true
    }
   },
   "outputs": [],
   "source": [
    "def find_Q(x, N2_0, H2_0, NH3_0):\n",
    "    N2 = N2_0 - x\n",
    "    H2 = H2_0 - 3*x\n",
    "    NH3 = NH3_0 + 2*x \n",
    "    Q = (NH3**2)/(N2*H2**3)\n",
    "    return Q, N2, H2, NH3  "
   ]
  },
  {
   "cell_type": "markdown",
   "metadata": {
    "nbgrader": {
     "grade": false,
     "grade_id": "Q_test_beskrivelse",
     "locked": true,
     "schema_version": 1,
     "solution": false
    }
   },
   "source": [
    "Neste celle inneholder en testfunksjon. Denne vil se etter noen typiske feil fra koden i ```find_Q```. Hvis den gjenkjenner en feil, vil du få tilbakemelding om hva den tror du har gjort galt. Les derfor eventuell feilmelding. Kjør denne når du har skrevet ferdig ```find_Q```."
   ]
  },
  {
   "cell_type": "code",
   "execution_count": 2,
   "metadata": {
    "nbgrader": {
     "grade": true,
     "grade_id": "Q_test",
     "locked": true,
     "points": 0,
     "schema_version": 1,
     "solution": false
    }
   },
   "outputs": [],
   "source": [
    "def test_find_Q():\n",
    "    N2_0 = 1.399\n",
    "    H2_0 = 1.197\n",
    "    NH3_0 = 0.202\n",
    "    x = 0.0505187943924\n",
    "    expected_N2 = 1.34848120561\n",
    "    expected_H2 = 1.04544361682\n",
    "    expected_NH3 = 0.303037588785\n",
    "    Q, N2, H2, NH3 = find_Q(x, N2_0, H2_0, NH3_0)\n",
    "   \n",
    "    wrong_sign = [1.44951879439, 1.34855638318, 0.100962411215]\n",
    "    wrong_stiochiometry = [float('nan'), 1.14648120561, 0.252518794392]\n",
    "    no_change = [N2_0, H2_0, NH3_0]\n",
    "    wrong_both = [float('nan'), 1.24751879439, 0.151481205608]\n",
    "    tol = 1e-9\n",
    "    i = 0\n",
    "    message = ' '\n",
    "    for value in [N2, H2, NH3]:\n",
    "        if abs(value - wrong_sign[i]) < tol:\n",
    "            message = 'Please consider the sign when calculating new concentrations!'\n",
    "            break\n",
    "        if abs(value - no_change[i]) < tol:\n",
    "            message = 'New concentrations will depend on given x!'\n",
    "            break\n",
    "        if abs(value - wrong_stiochiometry[i]) < tol or abs(value - wrong_both[i]) < tol:\n",
    "            message = 'Consider the stoichiometry when calculating new concentrations!'\n",
    "            break \n",
    "        i += 1\n",
    "    success = abs(Q - 5.96e-2) < 1e-12\n",
    "    assert success, message\n",
    "\n",
    "test_find_Q()   "
   ]
  },
  {
   "cell_type": "markdown",
   "metadata": {
    "nbgrader": {
     "grade": false,
     "grade_id": "x_intervall_beskrivelse",
     "locked": true,
     "schema_version": 1,
     "solution": false
    }
   },
   "source": [
    "## Begrense mulige verdier for $X$\n",
    "Ligningen til likevektsutrykket vil egentlig gi fire løsninger for $x$. Vi er bare interessert i én av disse. For å unngå falske løsninger, skal du lage en funksjon som regner ut både den minste og den største mulige verdien for $x$. Endringen $x$ kan hverken bli så stor i negativ eller positiv retning at noen av konsentrasjonene blir negativ. \n",
    "\n",
    "\n",
    "```min_x``` skal passe på at $[NH_{3}]$ ikke blir negativ.\n",
    "\n",
    "```max_x``` skal passe på at hverken $[H_{2}]$ eller $[N_{2}]$ blir negativ. Her er brukes en if-test for å avgjøre hvilken av reaktantene som er den begrensende."
   ]
  },
  {
   "cell_type": "code",
   "execution_count": 3,
   "metadata": {
    "collapsed": true,
    "nbgrader": {
     "grade": false,
     "grade_id": "x_intervall",
     "locked": false,
     "schema_version": 1,
     "solution": true
    }
   },
   "outputs": [],
   "source": [
    "def find_x_range(N2_0, H2_0, NH3_0):\n",
    "    min_x = - NH3_0/2 \n",
    "    if N2_0 < H2_0/3:\n",
    "        max_x = N2_0\n",
    "    else:\n",
    "        max_x = H2_0/3\n",
    "    return min_x, max_x"
   ]
  },
  {
   "cell_type": "markdown",
   "metadata": {
    "nbgrader": {
     "grade": false,
     "grade_id": "x_intervall_test_beskrivelse",
     "locked": true,
     "schema_version": 1,
     "solution": false
    }
   },
   "source": [
    "Neste celle inneholder en testfunksjon. Denne vil se etter noen typiske feil fra koden i ```find_x_range```. Hvis den gjenkjenner en feil, vil du få tilbakemelding om hva den tror du har gjort galt. Les derfor eventuell feilmelding. Kjør denne når du har skrevet ferdig ```find_x_range```. "
   ]
  },
  {
   "cell_type": "code",
   "execution_count": 4,
   "metadata": {
    "nbgrader": {
     "grade": true,
     "grade_id": "x_intervall_test",
     "locked": true,
     "points": 0,
     "schema_version": 1,
     "solution": false
    }
   },
   "outputs": [],
   "source": [
    "def test_find_x_range():\n",
    "    minNH3 = -0.101\n",
    "    maxH2 = 0.399\n",
    "    maxN2 = 0.299\n",
    "    computed = list(find_x_range(1.399,1.197,0.202))\n",
    "    case2 = find_x_range(0.299,1.197,0.202)\n",
    "    computed.append(case2[1])\n",
    "    w_sign = [0.101, -0.399, -0.299]    \n",
    "    w_stiochiometry = [-0.202, 1.197, float('nan')]\n",
    "    wrong_both = [0.202, -1.197, float('nan')]\n",
    "    tol = 1e-9\n",
    "    i = 0\n",
    "    message = ' '\n",
    "    for value in computed:\n",
    "        if abs(value - w_sign[i]) < tol:\n",
    "            message = 'Check if the numbers have the correct sign'\n",
    "            break\n",
    "        if abs(value - w_stiochiometry[i]) < tol or abs(value - wrong_both[i]) < tol:\n",
    "            message = 'Consider the stoichiometry when calculating min_x and max_x!'\n",
    "            break \n",
    "        i += 1\n",
    "    success_list = [abs(expected - computed) < tol for expected, computed in zip([minNH3, maxH2, maxN2], computed)] \n",
    "    success = False not in success_list\n",
    "    case3 = find_x_range(1.09,1.100,0.202)\n",
    "    if abs(case3[1] - 1.9) < tol:\n",
    "        message = 'Does the if-test consider the stoichiometry?'\n",
    "        success = False\n",
    "    assert success, message\n",
    "    \n",
    "test_find_x_range()    "
   ]
  },
  {
   "cell_type": "markdown",
   "metadata": {
    "nbgrader": {
     "grade": false,
     "grade_id": "likevektskons_beskrivelse",
     "locked": true,
     "schema_version": 1,
     "solution": false
    }
   },
   "source": [
    "## Beregne likevektskonsentrasjonene\n",
    "\n",
    "Funksjonen under skal, gitt startkonsentrasjonene, finne likevektskonsentrasjonene til reaksjonen. Ved å kalle på ```find_x_range``` kan det bestemmes på hvilket intervall endringen i $[N_{2}]$ fra startkonsentrasjon til likevektskonsentrasjon nødvendigvis må ligge. Vi har da at altså at $ x \\in [x_{min}, x _{max}] $. Funksjonen skal gå gjennom en løkke som oppdaterer verdien for $x$ frem til den finner en x slik at  $ Q = K $. ```Find_Q```, som returnerer både $Q$ og konsentrasjonene, skal kalles på i løkken. Når $ Q = K $, med en viss toleranse, vil løkken avsluttes ved at funksjonen returnerer likevektskonsentrasjonene. Så lenge $ Q \\neq K $, vil løkken fortsette.\n",
    "\n",
    "\n",
    "Oppdatering av verdien for $x$ i løkken skal ikke gjøres ved å gå fra $x_{min}$ til $x_{max}$ med kort steglengde. Dette vil både ta unødvendig mye tid og datakraft, og det vil være fare for at riktig verdi for $x$ hoppes over hvis steglengden er for lang. I stedet skal $x$ settes til midt mellom $x_{min}$ og $x_{max}$. Når $ Q \\neq K $, vil det lett kunne avgjøres om $x$ var for stor eller for liten. Hvis den var for stor, settes $x_{max}$ til $x$, og tilsvarende hvis $x$ var for liten. På denne måten vil intervallet til mulige verdier for $x$ halveres for hver løkke. "
   ]
  },
  {
   "cell_type": "code",
   "execution_count": 5,
   "metadata": {
    "collapsed": true,
    "nbgrader": {
     "grade": false,
     "grade_id": "likevektskonsentrasjon",
     "locked": false,
     "schema_version": 1,
     "solution": true
    }
   },
   "outputs": [],
   "source": [
    "def equilibrium(N2_0, H2_0, NH3_0):\n",
    "    K = 5.96e-2      # Equilibrium constant\n",
    "    tol = 1e-12 \n",
    "    min_x, max_x = find_x_range(N2_0, H2_0, NH3_0)\n",
    "    for tries in range(100):\n",
    "        x = (max_x + min_x)/2\n",
    "        Q, N2, H2, NH3 = find_Q(x, N2_0, H2_0, NH3_0)\n",
    "        if abs(Q - K) < tol:\n",
    "            return N2, H2, NH3\n",
    "        if Q > K:\n",
    "            max_x = x\n",
    "        else:\n",
    "            min_x = x"
   ]
  },
  {
   "cell_type": "markdown",
   "metadata": {
    "nbgrader": {
     "grade": false,
     "grade_id": "likevektskons_test_beskrivelse",
     "locked": true,
     "schema_version": 1,
     "solution": false
    }
   },
   "source": [
    "Når du har skrevet funksjonen ```equilibrium``` ferdig, bør du teste om den fungerer som forventet ved å kjøre testfunskjonen under."
   ]
  },
  {
   "cell_type": "code",
   "execution_count": 6,
   "metadata": {
    "nbgrader": {
     "grade": true,
     "grade_id": "likevektskons_test",
     "locked": true,
     "points": 0,
     "schema_version": 1,
     "solution": false
    }
   },
   "outputs": [],
   "source": [
    "def test_equilibrium():\n",
    "    expected = [1.34848120561, 1.04544361682, 0.303037588785]\n",
    "    computed = list(equilibrium(1.399,1.197,0.202))\n",
    "    success_list = [abs(ex - co) < 1e-9 for ex, co in zip(expected, computed)] \n",
    "    success = False not in success_list\n",
    "    assert success\n",
    "test_equilibrium()"
   ]
  },
  {
   "cell_type": "markdown",
   "metadata": {
    "nbgrader": {
     "grade": false,
     "grade_id": "plot_beskrivelse",
     "locked": true,
     "schema_version": 1,
     "solution": false
    }
   },
   "source": [
    "## Plotte likevektskonsentrasjon mot startkonsentrasjon\n",
    "Resten av programmet er ferdig skrevet. Det er likevel viktig at du forstår hva det gjør. I neste celle regnes likevektskonsentrasjon ut ved å kalle på ```equilibrium```. $[H_2]$ og $[NH_3]$ holdes konstant, mens $[N_2]$ variere. For alle tre komponenter plottes så likevektskonsentrasjon og startkonsentrasjon mot startkonsentrasjonen til $[N_2]$.\n",
    "\n",
    "Kjør koden."
   ]
  },
  {
   "cell_type": "code",
   "execution_count": 66,
   "metadata": {
    "nbgrader": {
     "grade": false,
     "grade_id": "plot",
     "locked": true,
     "schema_version": 1,
     "solution": false
    }
   },
   "outputs": [
    {
     "data": {
      "image/png": "[encoded data removed]",
      "text/plain": [
       "<matplotlib.figure.Figure at 0x11770b5f8>"
      ]
     },
     "metadata": {},
     "output_type": "display_data"
    },
    {
     "data": {
      "image/png": "[encoded data removed]",
      "text/plain": [
       "<matplotlib.figure.Figure at 0x117865d30>"
      ]
     },
     "metadata": {},
     "output_type": "display_data"
    },
    {
     "data": {
      "image/png": "[encoded data removed]",
      "text/plain": [
       "<matplotlib.figure.Figure at 0x11761fcf8>"
      ]
     },
     "metadata": {},
     "output_type": "display_data"
    }
   ],
   "source": [
    "import numpy as np\n",
    "import matplotlib.pyplot as plt\n",
    "\n",
    "N = 250\n",
    "# initial concentrations\n",
    "H2_0 = 1.097\n",
    "NH3_0 = 0.202\n",
    "N2_0_liste = np.linspace(0.47, 0.55, N)\n",
    "\n",
    "konsentrasjoner = np.zeros(N, dtype='3float')\n",
    "\n",
    "i = 0\n",
    "for N2_0 in N2_0_liste:\n",
    "    konsentrasjoner[i] = equilibrium(N2_0, H2_0, NH3_0)\n",
    "    i += 1\n",
    "\n",
    "H2_0 = np.zeros(N)+H2_0\n",
    "NH3_0 = np.zeros(N)+NH3_0\n",
    "\n",
    "yrange = 0.04\n",
    "x_size = 5\n",
    "y_size = 5\n",
    "\n",
    "plt.figure(figsize=(x_size, y_size*2))\n",
    "plt.plot(N2_0_liste, konsentrasjoner[:,0], label=\"equilibrium\")\n",
    "plt.plot(N2_0_liste, N2_0_liste, label=\"initial concentration\")\n",
    "plt.xlabel(\"initial concentration $N_{2}$\")\n",
    "plt.ylabel(\"concentration $N_{2}$\")\n",
    "plt.ylim([konsentrasjoner[:,0][0], konsentrasjoner[:,0][0] + yrange*2])\n",
    "plt.legend()\n",
    "plt.title(\"$N_{2}$\")\n",
    "plt.show()\n",
    "\n",
    "plt.figure(figsize=(x_size, y_size))\n",
    "plt.plot(N2_0_liste, konsentrasjoner[:,1], label=\"equilibrium\")\n",
    "plt.plot(N2_0_liste, H2_0, label=\"initial concentration\")\n",
    "plt.xlabel(\"initial concentration $N_{2}$\")\n",
    "plt.ylabel(\"concentration $H_{2}$\")\n",
    "plt.ylim([konsentrasjoner[:,1][0] - yrange, konsentrasjoner[:,1][0]])\n",
    "plt.legend()\n",
    "plt.title(\"$H_{2}$\")\n",
    "plt.show()\n",
    "\n",
    "plt.figure(figsize=(x_size, y_size))\n",
    "plt.plot(N2_0_liste, konsentrasjoner[:,2], label=\"equilibrium\")\n",
    "plt.plot(N2_0_liste, NH3_0, label=\"initial concentration\")\n",
    "plt.xlabel(\"initial concentration $N_{2}$\")\n",
    "plt.ylabel(\"concentration $NH_{3}$\")\n",
    "plt.ylim([konsentrasjoner[:,2][0], konsentrasjoner[:,2][0] + yrange])\n",
    "plt.legend()\n",
    "plt.title(\"$NH_{3}$\")\n",
    "plt.show()"
   ]
  },
  {
   "cell_type": "markdown",
   "metadata": {
    "nbgrader": {
     "grade": false,
     "grade_id": "Le_Chatelier",
     "locked": true,
     "schema_version": 1,
     "solution": false
    }
   },
   "source": [
    "## Forklar plottene ut fra Le Châteliers prinsipp."
   ]
  },
  {
   "cell_type": "code",
   "execution_count": null,
   "metadata": {
    "collapsed": true
   },
   "outputs": [],
   "source": []
  }
 ],
 "metadata": {
  "kernelspec": {
   "display_name": "Python 3",
   "language": "python",
   "name": "python3"
  },
  "language_info": {
   "codemirror_mode": {
    "name": "ipython",
    "version": 3
   },
   "file_extension": ".py",
   "mimetype": "text/x-python",
   "name": "python",
   "nbconvert_exporter": "python",
   "pygments_lexer": "ipython3",
   "version": "3.6.1"
  }
 },
 "nbformat": 4,
 "nbformat_minor": 2
}
