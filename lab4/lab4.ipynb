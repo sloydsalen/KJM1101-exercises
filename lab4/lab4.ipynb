{
 "cells": [
  {
   "cell_type": "markdown",
   "metadata": {},
   "source": [
    "# Lab 4 - databehandling\n",
    "I labøvelsen samlet du inn data for beregning av kalorimeterets varmekapasitet (Tabell 1 i labheftet bortsett fra kolonnen $C_\\mathrm{cal}$). Lag en fil med disse dataene. Den kan for eksempel se ut noe sånt som\n",
    "```\n",
    "\"t_K / degC\", \"t_V / degC\", \"t_mix / degC\"\n",
    "12.9, 42.3, 25.5\n",
    "...\n",
    "```\n",
    "Les dataene inn i variabler. Hvis du er usikker på hvordan, kan du se på øvelse [2](../lab2/lab2.ipynb) og [3](../lab3/lab3.ipynb) der NumPy sin `genfromtxt` ble brukt."
   ]
  },
  {
   "cell_type": "code",
   "execution_count": null,
   "metadata": {
    "collapsed": true
   },
   "outputs": [],
   "source": []
  },
  {
   "cell_type": "markdown",
   "metadata": {},
   "source": [
    "Nå som dataene er lest inn i variabler, kan kalorimeterets varmekapasitet $C_\\mathrm{cal}$ regnes ut ved\n",
    "$$C_\\mathrm{cal}=\\left(\\frac{t_\\mathrm{V}-t_\\mathrm{mix}}{t_\\mathrm{mix}-t_\\mathrm{K}}V_\\mathrm{V}-V_\\mathrm{K}\\right)\\rho_{H_2O}c_\\mathrm{H_2O}.$$\n",
    "Regn kalorimeterets gjennomsnittlige varmekapasitet i cellen under."
   ]
  },
  {
   "cell_type": "code",
   "execution_count": null,
   "metadata": {
    "collapsed": true
   },
   "outputs": [],
   "source": []
  },
  {
   "cell_type": "markdown",
   "metadata": {},
   "source": [
    "Lag en tilsvarende file for kolonnene $t_\\mathrm{HNO_3}$, $t_\\mathrm{NaOH}$ og $t_\\mathrm{slutt}$ i Tabell 2. Les dataene inn i variabler og regn ut $t_\\mathrm{start}$ ved\n",
    "$$t_\\mathrm{start} = \\frac{V_\\mathrm{HNO_3}t_\\mathrm{HNO_3} + V_\\mathrm{NaOH}t_\\mathrm{NaOH}}{V_\\mathrm{HNO_3} + V_\\mathrm{NaOH}}$$\n",
    "og temperaturforskjellen $\\Delta t$ gitt ved\n",
    "$$\\Delta t = t_\\mathrm{slutt} - t_\\mathrm{start}.$$"
   ]
  },
  {
   "cell_type": "code",
   "execution_count": null,
   "metadata": {
    "collapsed": true
   },
   "outputs": [],
   "source": []
  },
  {
   "cell_type": "markdown",
   "metadata": {},
   "source": [
    "# Statistikk\n",
    "\n",
    "## Lineærregresjon med `polyfit`\n",
    "I [tredje labøvelse](../lab3/lab3.ipynb) ble det gjort lineærregresjon med SciPy sin statistikkmodul. Men NumPy sin `polyfit` kan også brukes. Den tilpasser dataene til et polynom, og siden lineære funksjoner er førstegradspolynomer kan lineærregresjon utføres. Under er det gitt en måte å gjøre dette på. Ved å spesifisere `cov=True` får man også data om usikkerheten til regresjonskoeffisientene. `a` er stigningstallet og `b` er skjæringspunktet."
   ]
  },
  {
   "cell_type": "code",
   "execution_count": null,
   "metadata": {
    "collapsed": true
   },
   "outputs": [],
   "source": [
    "(a, b), cov = np.polyfit(volume, temperature, 1, cov=True)\n",
    "print('DT = %.3g*V%+.1g' % (a, b))"
   ]
  },
  {
   "cell_type": "markdown",
   "metadata": {},
   "source": [
    "Nå kan dataene og regresjonlinjen plottes i det samme vinduet. Ser det ut som skjæringspunktet er omtrent 0?"
   ]
  },
  {
   "cell_type": "code",
   "execution_count": null,
   "metadata": {
    "collapsed": true
   },
   "outputs": [],
   "source": []
  },
  {
   "cell_type": "markdown",
   "metadata": {},
   "source": [
    "## Students $t$-test\n",
    "I prelabben ble det vist at temperaturøkningen er proporsjonal med volum tilsatt syre (forutsatt at all syren reagerer). Denne påstanden kan undersøkes med hypotesetest. \n",
    "\n",
    "### Hypotesene\n",
    "Hvis måledataene våre er normalfordelte (ofte er de tilnærmet det), kan Students $t$-test brukes for å undersøke om en hypotese er statistisk signifikant. Her skal hypotsen\n",
    "$$H_0: \\text{Skjæringspunktet er null ($b = 0$)}$$\n",
    "testes mot den alternative hypotesen\n",
    "$$H_\\mathrm{a}: \\text{Skjæringspunktet er $ikke$ null ($b \\neq 0$)}.$$\n",
    "\n",
    "### Fun fact\n",
    "*Student* i \"Students $t$-test\" har ikke direkte noe med studenter å gjøre. Det var pseudonymet til kjemikeren W. S. Gosset som jobbet ved Guinness' bryggeri i Dublin. Det sies at enten så foretrakk arbeidsgiveren hans at de ansatte publiserte under pseudonymer eller at de ikke fikk lov til å publisere. Uansett bruke han pseudonymet *Student* når han publiserte artiklene sin om $t$-testen, og den ble derfor gjent som Students $t$-test. Ved Guinness brukte Gosset $t$-testen til å undersøke kvaliteten til bygg og stout.\n",
    "\n",
    "### $t^*$-observabelen\n",
    "For å utføre $t$-testen trenger man en såkalt $t^*$-observabel. I [andre labøvelse](../lab2/lab2.ipynb) ble også $t$-verdier brukt, men var en signifikansverdie bestemt og det ble slått opp hvilken $t$-verdi dette tilsvarte. I dette tilfellet vil $t$-verdien bli regnet ut og slå opp hvilket signifikansverdi dette tilsvarer. $t^*$ regnes ut ved\n",
    "$$t^*=\\frac{b}{\\mathrm{SE}_b}$$\n",
    "der $b$ er skjæringspunktet og $\\mathrm{SE}_b$ er standardfeilen til $b$. Under er det gitt hvordan $\\mathrm{SE}_b$ regnes ut. Regn ut $t^*$."
   ]
  },
  {
   "cell_type": "code",
   "execution_count": null,
   "metadata": {
    "collapsed": true
   },
   "outputs": [],
   "source": [
    "SE_b = math.sqrt(cov[1, 1])"
   ]
  },
  {
   "cell_type": "markdown",
   "metadata": {},
   "source": [
    "### $P$-verdi\n",
    "$P$-verdien er sannsynligheten for å observere en mer ekstrem verdi (i dette tilfellet større eller mindre) for $t^*$ gitt at nullhypotesen er sann.\n",
    "\n",
    "Dersom $P$-verdien er liten, altså at vi vil sjeldent se mer ekstreme verdier enn den observerte, må nullhypotensen forkastes. Man må på forhånd bestemme liten $P$-verdien skal være og kaller denne verdien signifikansnivået $\\alpha$ og settes ofte til $5 \\%$ eller lavere. Dersom $P\\leq\\alpha$ sier man at $H_0$ forkastes med signifikans $\\alpha$.  \n",
    "\n",
    "Det er ingen [enkel formel](https://en.wikipedia.org/wiki/Student%27s_t-distribution#Cumulative_distribution_function) for $P$-verdien, men SciPy har heldigvis noen innebyggede funksjoner til hjelp. Under er det gitt en funksjon for å regne ut $P$-verdien."
   ]
  },
  {
   "cell_type": "code",
   "execution_count": null,
   "metadata": {
    "collapsed": true
   },
   "outputs": [],
   "source": [
    "P = t.sf(np.abs(t_stat), np.size(volume) - 2) * 2"
   ]
  },
  {
   "cell_type": "markdown",
   "metadata": {},
   "source": [
    "Undersøk under om skjæringspunktet er signifikant lik null, bruk signifikansnivå $\\alpha=5\\%$."
   ]
  },
  {
   "cell_type": "code",
   "execution_count": null,
   "metadata": {
    "collapsed": true
   },
   "outputs": [],
   "source": []
  },
  {
   "cell_type": "markdown",
   "metadata": {},
   "source": [
    "### Reaksjonsvarme\n",
    "Nå som du har stigningstallet kan reaksjonsvarmen regnes ut. Bruk formelen\n",
    "$$\\Delta t = -q_\\mathrm{rxn}k\\cdot V_\\mathrm{a}$$\n",
    "der\n",
    "$$k=\\frac{[\\mathrm{HA}]_0}{\\rho_\\mathrm{H_2O}V_0c_\\mathrm{H_2O}+C_\\mathrm{cal}}$$\n",
    "til å regne ut $q_\\mathrm{rxn}$. Standardfeilen til $q_\\mathrm{rxn}$ `SE_a` er gitt under. Oppgi reaksjonsvarmen som $q_\\mathrm{rxn} \\pm \\mathrm{SE}$."
   ]
  },
  {
   "cell_type": "code",
   "execution_count": null,
   "metadata": {
    "collapsed": true
   },
   "outputs": [],
   "source": [
    "SE_a = math.sqrt(cov[0, 0])"
   ]
  }
 ],
 "metadata": {
  "kernelspec": {
   "display_name": "Python 3",
   "language": "python",
   "name": "python3"
  },
  "language_info": {
   "codemirror_mode": {
    "name": "ipython",
    "version": 3
   },
   "file_extension": ".py",
   "mimetype": "text/x-python",
   "name": "python",
   "nbconvert_exporter": "python",
   "pygments_lexer": "ipython3",
   "version": "3.6.1"
  }
 },
 "nbformat": 4,
 "nbformat_minor": 2
}
