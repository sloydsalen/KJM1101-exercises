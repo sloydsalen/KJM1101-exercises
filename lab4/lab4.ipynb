{
 "cells": [
  {
   "cell_type": "markdown",
   "metadata": {},
   "source": [
    "#### Lab 4 - statistikk\n",
    "I denne øvelsen skal vi se mer på lineærregresjon. Dersom det er kjent at skjæringspunktet er 0, altså at funksjonen er proporsjonal, er regresjonslinjen $y=\\hat\\beta x$ der\n",
    "$$\\hat\\beta=\\frac{\\sum_{i=1}^n x_i y_i}{\\sum_{i=1}^n x_i^2}=\\frac{\\overline{xy}}{\\overline{x^2}}$$\n",
    "der linjen over et uttrykk betyr gjennomsnitt."
   ]
  },
  {
   "cell_type": "code",
   "execution_count": 23,
   "metadata": {},
   "outputs": [],
   "source": [
    "import numpy as np\n",
    "V_HCl = []\n",
    "Dt = []\n",
    "with open('cal.dat', 'r') as data:\n",
    "    ### BEGIN SOLUTION\n",
    "    data.readline()\n",
    "    for line in data:\n",
    "        w1, w2 = map(float, line.strip().split(', '))\n",
    "        V_HCl.append(w1)\n",
    "        Dt.append(w2)\n",
    "V_HCl = np.array(V_HCl)\n",
    "Dt = np.array(Dt)\n",
    "    ### END SOLUTION"
   ]
  },
  {
   "cell_type": "markdown",
   "metadata": {},
   "source": []
  },
  {
   "cell_type": "code",
   "execution_count": 24,
   "metadata": {
    "collapsed": true
   },
   "outputs": [],
   "source": [
    "def beta_hat(x, y):\n",
    "    return np.mean(x*y) / np.mean(x**2)"
   ]
  },
  {
   "cell_type": "code",
   "execution_count": null,
   "metadata": {},
   "outputs": [],
   "source": []
  },
  {
   "cell_type": "code",
   "execution_count": 38,
   "metadata": {
    "collapsed": true
   },
   "outputs": [],
   "source": [
    "def beta_hat_mat(x, y):\n",
    "    beta, res, _, _ = np.linalg.lstsq(np.reshape(x, (-1, 1)), y)\n",
    "    SER = res.dot(res)/(np.size(x) - 1)\n",
    "    return beta"
   ]
  },
  {
   "cell_type": "code",
   "execution_count": 39,
   "metadata": {},
   "outputs": [
    {
     "name": "stdout",
     "output_type": "stream",
     "text": [
      "396.395987639\n",
      "[ 396.39598764]\n"
     ]
    }
   ],
   "source": [
    "print beta_hat(V_HCl, Dt)\n",
    "print beta_hat_mat(V_HCl, Dt)"
   ]
  },
  {
   "cell_type": "code",
   "execution_count": null,
   "metadata": {
    "collapsed": true
   },
   "outputs": [],
   "source": []
  }
 ],
 "metadata": {
  "celltoolbar": "Create Assignment",
  "kernelspec": {
   "display_name": "Python 2",
   "language": "python",
   "name": "python2"
  },
  "language_info": {
   "codemirror_mode": {
    "name": "ipython",
    "version": 2
   },
   "file_extension": ".py",
   "mimetype": "text/x-python",
   "name": "python",
   "nbconvert_exporter": "python",
   "pygments_lexer": "ipython2",
   "version": "2.7.13"
  }
 },
 "nbformat": 4,
 "nbformat_minor": 2
}
