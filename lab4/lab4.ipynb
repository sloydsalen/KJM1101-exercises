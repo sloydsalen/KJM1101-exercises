{
 "cells": [
  {
   "cell_type": "markdown",
   "metadata": {},
   "source": [
    "# Lab 4 - databehandling\n",
    "I labøvelsen samlet du inn data for beregning av kalorimeterets varmekapasitet (Tabell 1 i labheftet). Lag en fil med disse dataene som du leser inn i Python og regn ut kalorimeterets varmekapasitet ved å bruke vektorisering. Finn så den gjennomsnittlige varmekapasiteten."
   ]
  },
  {
   "cell_type": "code",
   "execution_count": null,
   "metadata": {
    "collapsed": true
   },
   "outputs": [],
   "source": []
  },
  {
   "cell_type": "markdown",
   "metadata": {},
   "source": [
    "Gjør tilsvarende for Tabell 2, og regn ut temperaturforskjellene i en NumPy array. "
   ]
  },
  {
   "cell_type": "code",
   "execution_count": null,
   "metadata": {
    "collapsed": true
   },
   "outputs": [],
   "source": []
  },
  {
   "cell_type": "markdown",
   "metadata": {},
   "source": [
    "# Statistikk\n",
    "\n",
    "## Lineærregresjon med `polyfit`\n",
    "I [tredje labøvelse](../lab3/lab3.ipynb) ble det gjort lineærregresjon med SciPy sin statistikkmodul. Men NumPy sin `polyfit` kan også brukes. Den tilpasser dataene til et polynom, og siden lineære funksjoner er førstegradspolynomer kan lineærregresjon utføres. Under er det gitt en måte å gjøre dette på. Ved å spesifisere `cov=True` får man også data om variasjonen til dataene. `a` er stigningstallet og `b` er skjæringspunktet."
   ]
  },
  {
   "cell_type": "code",
   "execution_count": null,
   "metadata": {
    "collapsed": true
   },
   "outputs": [],
   "source": [
    "(a, b), cov = np.polyfit(volume, temperature, 1, cov=True)\n",
    "print('DT = %.3g*V%+.1g' % (a, b))"
   ]
  },
  {
   "cell_type": "markdown",
   "metadata": {},
   "source": [
    "Nå kan dataene og regresjonlinjen plottes i det samme vinduet. Ser det ut som skjæringspunktet er omtrent 0?"
   ]
  },
  {
   "cell_type": "code",
   "execution_count": null,
   "metadata": {
    "collapsed": true
   },
   "outputs": [],
   "source": [
    "import matplotlib.pyplot as plt\n",
    "### YOUR ANSWER ###"
   ]
  },
  {
   "cell_type": "markdown",
   "metadata": {},
   "source": [
    "## Students $t$-test\n",
    "I prelabben ble det vist at temperaturøkningen er proporsjonal med volum tilsatt syre (forutsatt at all syren reagerer). Denne påstanden kan undersøkes med hypotesetest. \n",
    "\n",
    "### Hypotesene\n",
    "Hvis måledataene våre er normalfordelte (ofte er de tilnærmet det), kan Students $t$-test brukes for å undersøke om en hypotese er statistisk signifikant. Her skal hypotsen\n",
    "$$H_0: \\text{Skjæringspunktet er null ($b = 0$)}$$\n",
    "testes mot den alternative hypotesen\n",
    "$$H_\\mathrm{a}: \\text{Skjæringspunktet er $ikke$ null ($b \\neq 0$)}.$$\n",
    "\n",
    "### Fun fact\n",
    "*Student* i \"Students $t$-test\" har ikke direkte noe med studenter å gjøre. Det var pseudonymet til kjemikeren W. S. Gosset som jobbet ved Guinness' bryggeri i Dublin. Det sies at enten så foretrakk arbeidsgiveren hans at de ansatte publiserte under pseudonymer eller at de ikke fikk lov til å publisere. Uansett bruke han pseudonymet *Student* når han publiserte artiklene sin om $t$-testen, og den ble derfor gjent som Students $t$-test. Ved Guinness brukte Gosset $t$-testen til å undersøke kvaliteten til bygg og stout.\n",
    "\n",
    "### $t$-observabelen\n",
    "For å utføre $t$-testen trenger man en såkalt $t^*$-observabel. I [andre labøvelse](../lab2/lab2.ipynb) ble også $t$-verdier brukt, men var en signifikansverdie bestemt og det ble slått opp hvilken $t$-verdi dette tilsvarte. I dette tilfellet vil $t$-verdien bli regnet ut og slå opp hvilket signifikansverdi dette tilsvarer. $t^*$ regnes ut ved\n",
    "$t^*=\\frac{b}{\\mathrm{SE}_b}$\n",
    "der $b$ er skjæringspunktet og $\\mathrm{SE}_b$ er standardfeilen til $b$. Under er det gitt hvordan $\\mathrm{SE}_b$ regnes ut. Regn ut $t^*$."
   ]
  },
  {
   "cell_type": "code",
   "execution_count": null,
   "metadata": {
    "collapsed": true
   },
   "outputs": [],
   "source": [
    "SE = math.sqrt(cov[0, 0])\n",
    "### YOUR ANSWER ###"
   ]
  },
  {
   "cell_type": "markdown",
   "metadata": {},
   "source": [
    "### $P$-verdi\n",
    "$P$-verdien er sannsynligheten for å observere en mer ekstrem verdi (i dette tilfellet større eller mindre) for $t^*$ gitt at nullhypotesen er sann.\n",
    "\n",
    "Dersom $P$-verdien er liten, altså at vi vil sjeldent se mer ekstreme verdier enn den observerte, må nullhypotensen forkastes. Man må på forhånd bestemme liten $P$-verdien skal være og kaller denne verdien signifikansnivået $\\alpha$ og settes ofte til $5 \\%$ eller lavere. Dersom $P\\leq\\alpha$ sier man at $H_0$ forkastes med signifikans $\\alpha$.  \n",
    "\n",
    "Det er ingen [enkel formel](https://en.wikipedia.org/wiki/Student%27s_t-distribution#Cumulative_distribution_function) for $P$-verdien, men SciPy har heldigvis noen innebyggede funksjoner til hjelp. Under er det gitt en funksjon for å regne ut $P$-verdien."
   ]
  },
  {
   "cell_type": "code",
   "execution_count": null,
   "metadata": {
    "collapsed": true
   },
   "outputs": [],
   "source": [
    "P = t.sf(np.abs(t_stat), np.size(volume) - 2) * 2"
   ]
  },
  {
   "cell_type": "markdown",
   "metadata": {},
   "source": [
    "Undersøk under om skjæringspunktet er signifikant lik null, bruk signifikansnivå $\\alpha=5\\%$."
   ]
  },
  {
   "cell_type": "code",
   "execution_count": null,
   "metadata": {
    "collapsed": true
   },
   "outputs": [],
   "source": []
  }
 ],
 "metadata": {
  "kernelspec": {
   "display_name": "Python 3",
   "language": "python",
   "name": "python3"
  },
  "language_info": {
   "codemirror_mode": {
    "name": "ipython",
    "version": 3
   },
   "file_extension": ".py",
   "mimetype": "text/x-python",
   "name": "python",
   "nbconvert_exporter": "python",
   "pygments_lexer": "ipython3",
   "version": "3.6.0"
  }
 },
 "nbformat": 4,
 "nbformat_minor": 2
}
