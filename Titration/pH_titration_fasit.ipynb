{
 "cells": [
  {
   "cell_type": "markdown",
   "metadata": {
    "nbgrader": {
     "grade": false,
     "grade_id": "tittel",
     "locked": true,
     "schema_version": 1,
     "solution": false
    }
   },
   "source": [
    "# Titreringssimulator"
   ]
  },
  {
   "cell_type": "markdown",
   "metadata": {
    "collapsed": true,
    "nbgrader": {
     "grade": false,
     "grade_id": "intro",
     "locked": true,
     "schema_version": 1,
     "solution": false
    }
   },
   "source": [
    "Dette programmet simulerer en titrerkurve av en svak én-protonisk syre som titreres med sterk base. Programmet er delt inn in flere deler. Du skal:\n",
    "    - fylle inn data fra lab-øvelsen i lister\n",
    "    - skrive en funksjon som regner ut og returnerer pH-verdi \n",
    "    - kalle på funksjonen og lage et array med utregnet pH \n",
    "    - plotte både utregnet og observert pH mot tilsatt base i samme plot\n",
    "    \n",
    "    \n",
    "Du bør følge rekkefølgen slik programmet er skrevet for å unngå feilmeldinger. \n",
    "\n",
    "\n",
    "Noen steder er det lagt inn ferdig kode for test-funksjoner. Disse skal hverken kan eller skal endres på, men kjøres når du er ferdig med å fylle inn koden i feltet over. Test-funksjonen vil gi deg tilbakemelding på eventuelle feil i koden du har skrevet. At test-funksjonen ikke slår ut (altså at den kjører stille) er ikke en garanti for at du har skrevet alt riktig, men den vil plukke opp og gi feilmelding på noen typiske feil."
   ]
  },
  {
   "cell_type": "markdown",
   "metadata": {
    "nbgrader": {
     "grade": false,
     "grade_id": "Lister_beskrivelse",
     "locked": true,
     "schema_version": 1,
     "solution": false
    }
   },
   "source": [
    "Fyll inn observert pH fra lab i pH_obs.\n",
    "\n",
    "Fyll inn volumet tilsatt base ved tidspunkt for avlesning av pH."
   ]
  },
  {
   "cell_type": "code",
   "execution_count": null,
   "metadata": {
    "collapsed": false,
    "nbgrader": {
     "grade": false,
     "grade_id": "Lister",
     "locked": false,
     "schema_version": 1,
     "solution": true
    }
   },
   "outputs": [],
   "source": [
    "pH_obs = []\n",
    "\n",
    "V_when_obs = []"
   ]
  },
  {
   "cell_type": "code",
   "execution_count": null,
   "metadata": {
    "collapsed": false,
    "nbgrader": {
     "grade": true,
     "grade_id": "test_Lister",
     "locked": true,
     "points": 1,
     "schema_version": 1,
     "solution": false
    }
   },
   "outputs": [],
   "source": [
    "def test_lists():\n",
    "    success = len(pH_obs) == len(V_when_obs)\n",
    "    message = 'lengdene paa de to listene maa vaere lik!'\n",
    "    assert success, message\n",
    "test_lists()"
   ]
  },
  {
   "cell_type": "markdown",
   "metadata": {
    "nbgrader": {
     "grade": false,
     "grade_id": "calc_pH_beskrivelse",
     "locked": true,
     "schema_version": 1,
     "solution": false
    }
   },
   "source": [
    "Variabelnavnene V (volum), c (konsentrasjon) og n (antall mol) vil gjelde for a (syren) eller b (basen). pKa er for den svake syren.\n",
    "\n",
    "\n",
    "I dette programmet skal du fylle inn likninger for å regne ut pH.\n",
    "    - første tilfelle: det forekommer ren syre i løsningen. Formel for å regne ut pH for svak syre er brukt.\n",
    "    - andre tilfelle: mengde base er mindre enn mengde syre. Bufferligningen tas i bruk.\n",
    "    - tredje tilfelle: mengde base er lik mengde syre. Utregning av pH ved ekvivalenspunkt.\n",
    "    - fjerde tilfelle: mengde base er større enn mengde syre. Tilsatt base etter ekvivalenspunkt gir pH for sterk base i vann.\n",
    "    \n",
    "\n",
    "HINT: numpy har en funksjon som heter log10"
   ]
  },
  {
   "cell_type": "code",
   "execution_count": null,
   "metadata": {
    "collapsed": true,
    "nbgrader": {
     "grade": false,
     "grade_id": "calc_pH",
     "locked": false,
     "schema_version": 1,
     "solution": true
    }
   },
   "outputs": [],
   "source": [
    "import numpy as np\n",
    "import matplotlib.pyplot as plt\n",
    "\n",
    "def calculate_pH(Vb, Va, cb, ca, pKa):\n",
    "    na = ca*Va\n",
    "    nb = cb*Vb\n",
    "    Kb = 1e-14/10**(-pKa)\n",
    "    \n",
    "    if nb == 0:\n",
    "        pH = 0.5*(pKa - np.log10(ca))\n",
    "    elif 0 < nb < na:\n",
    "        pH = pKa + np.log10( nb/(na - nb) )\n",
    "    elif abs(na - nb) < 1e-12:\n",
    "        pH = 14 + 0.5*np.log10( Kb*ca*cb/(ca + cb))\n",
    "    else:\n",
    "        pH = 14 + np.log10((nb - na)/(Va + Vb))\n",
    "    return pH"
   ]
  },
  {
   "cell_type": "code",
   "execution_count": null,
   "metadata": {
    "collapsed": false,
    "nbgrader": {
     "grade": true,
     "grade_id": "calc_pH_test",
     "locked": true,
     "points": 4,
     "schema_version": 1,
     "solution": false
    }
   },
   "outputs": [],
   "source": [
    "def test_calculate_pH():\n",
    "    pKa = 4.75\n",
    "    ca = 0.15\n",
    "    cb = 0.15\n",
    "    Va = 0.1\n",
    "    \n",
    "    Vb = [0, 0.05, 0.1, 0.12]\n",
    "    pH_expected = [2.78695437047, 4.75, 8.81253063169585, 12.1346985739]\n",
    "    partOf = ['nb = 0', '0 < nb < na', 'nb == na', 'nb > na']\n",
    "    \n",
    "    tol = 1e-11\n",
    "    for i in range(4):\n",
    "        pH_calc = calculate_pH(Vb[i], Va, cb, ca, pKa)\n",
    "        success = abs(pH_expected[i] - pH_calc) < tol\n",
    "        message = 'Feil i funskjon naar %s' %partOf[i]\n",
    "        assert success, message\n",
    "\n",
    "test_calculate_pH()"
   ]
  },
  {
   "cell_type": "markdown",
   "metadata": {
    "nbgrader": {
     "grade": false,
     "grade_id": "lag_array_beskrivelse",
     "locked": true,
     "schema_version": 1,
     "solution": false
    }
   },
   "source": [
    "Fyll inn dataene for variablene. \n",
    "\n",
    "Vb_array inneholder en liste \"tilsatt\" base. pH for løsning regnes ut for hvert element i arrayet."
   ]
  },
  {
   "cell_type": "code",
   "execution_count": null,
   "metadata": {
    "collapsed": false,
    "nbgrader": {
     "grade": false,
     "grade_id": "lag_array",
     "locked": false,
     "schema_version": 1,
     "solution": true
    }
   },
   "outputs": [],
   "source": [
    "pKa = 4.75\n",
    "ca = 0.15\n",
    "cb = 0.15\n",
    "Va = 0.1\n",
    "\n",
    "maxVolumeBase = 0.15\n",
    "N = 100\n",
    "Vb_array = np.linspace(0, maxVolumeBase, N)\n",
    "\n",
    "pH_calculated = np.zeros(N)\n",
    "\n",
    "for i in range(N):\n",
    "    pH_calculated[i] = calculate_pH(Vb_array[i], Va, cb, ca, pKa)\n"
   ]
  },
  {
   "cell_type": "markdown",
   "metadata": {
    "nbgrader": {
     "grade": false,
     "grade_id": "plot_beskrivelse",
     "locked": true,
     "schema_version": 1,
     "solution": false
    }
   },
   "source": [
    "Koden for plottet er nesten ferdig skrevet. Både den utregnede pH-en og den observerte pH-en vil inkluderes i samme plot. Det er viktig å merke seg at observert pH IKKE er tegnet med en linje, men som punkter. Måten dette er blitt kodet, er ved å sette in 'o' bak punkt-listene til aksene. (plt.plot(x-akse, y-akse, 'o')) Du kan selvfølgelig legge til mer informasjon til plottet om du skulle ønske dette. Det eneste du trenger å gjøre er å fylle inn den manglende informasjonen. "
   ]
  },
  {
   "cell_type": "code",
   "execution_count": null,
   "metadata": {
    "collapsed": false,
    "nbgrader": {
     "grade": true,
     "grade_id": "plot",
     "locked": false,
     "points": 2,
     "schema_version": 1,
     "solution": true
    }
   },
   "outputs": [],
   "source": [
    "plt.plot(V_when_obs, pH_obs, 'ro', label='observert pH')\n",
    "plt.plot(Vb_array, pH_calculated, label='utregnet pH')\n",
    "plt.xlabel('tilsatt volum base')\n",
    "plt.ylabel('pH')\n",
    "plt.legend()\n",
    "plt.title('Titrering')\n",
    "plt.show()"
   ]
  },
  {
   "cell_type": "code",
   "execution_count": null,
   "metadata": {
    "collapsed": true
   },
   "outputs": [],
   "source": []
  }
 ],
 "metadata": {
  "celltoolbar": "Create Assignment",
  "kernelspec": {
   "display_name": "Python 2",
   "language": "python",
   "name": "python2"
  },
  "language_info": {
   "codemirror_mode": {
    "name": "ipython",
    "version": 2
   },
   "file_extension": ".py",
   "mimetype": "text/x-python",
   "name": "python",
   "nbconvert_exporter": "python",
   "pygments_lexer": "ipython2",
   "version": "2.7.13"
  }
 },
 "nbformat": 4,
 "nbformat_minor": 2
}
