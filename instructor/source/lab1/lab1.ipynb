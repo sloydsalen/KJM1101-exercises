{
 "cells": [
  {
   "cell_type": "markdown",
   "metadata": {
    "nbgrader": {
     "grade": false,
     "grade_id": "intro",
     "locked": true,
     "schema_version": 1,
     "solution": false
    }
   },
   "source": [
    "# Lab 1 - Statistikk\n",
    "I denne øvelsen skal vi lage våre egne funksjoner for å gjøre grunnleggende statistikk på datasett.\n",
    "\n",
    "## Gjennomsnitt\n",
    "Det første vi skal se på er gjennomsnitt. Dersom $x_1, x_2, x_3, \\ldots, x_n$ er måledata er gjennomsnittet $\\bar x$ gitt ved\n",
    "$$\\bar x = \\frac1n \\sum_{i=1}^n x_i = \\frac1n \\left(x_1 + x_2 + x_3 + \\ldots + x_n\\right).$$\n",
    "Implementer en funksjon `mean(data)` som regner ut og returnerer gjennomsnittet til listen av tall `data` ved å bruke en `for`-løkke som itererer over alle elementene i listen."
   ]
  },
  {
   "cell_type": "code",
   "execution_count": 1,
   "metadata": {
    "collapsed": true,
    "nbgrader": {
     "grade": false,
     "grade_id": "mean",
     "locked": false,
     "schema_version": 1,
     "solution": true
    }
   },
   "outputs": [],
   "source": [
    "def mean(data):\n",
    "    # Her skriver du koden for å regne ut gjennomsnittet.\n",
    "    # Husk a returnere gjennomsnittet. \n",
    "    ### BEGIN SOLUTION\n",
    "    return float(sum(data))/len(data)\n",
    "    ### END SOLUTION"
   ]
  },
  {
   "cell_type": "markdown",
   "metadata": {
    "nbgrader": {
     "grade": false,
     "grade_id": "test_instruction",
     "locked": true,
     "schema_version": 1,
     "solution": false
    }
   },
   "source": [
    "Kjør testkoden under for å sjekke at koden din er okay."
   ]
  },
  {
   "cell_type": "markdown",
   "metadata": {
    "nbgrader": {
     "grade": false,
     "grade_id": "int_div",
     "locked": true,
     "schema_version": 1,
     "solution": false
    }
   },
   "source": [
    "<div class=\"alert alert-danger\">Hvis alle bortsett fra de to siste testene fungerer burde du undersøke om du har heltallsdivisjon. Husk at i Python 2 vil et heltall delt på et heltall også gi et heltall så <code>1/2=0</code> mens <code>1./2=0.5</code>.</div>"
   ]
  },
  {
   "cell_type": "code",
   "execution_count": 2,
   "metadata": {
    "collapsed": true,
    "nbgrader": {
     "grade": true,
     "grade_id": "test_mean",
     "locked": true,
     "points": 1,
     "schema_version": 1,
     "solution": false
    }
   },
   "outputs": [],
   "source": [
    "assert mean([1, 4, 1, 3, 6]) == 3\n",
    "assert mean((5, -3, 8, -0, 33, -17, 9)) == 5\n",
    "assert abs(mean([1.5, 3.2, -0.17, 4, 1./3]) - 1.77267) < 1e-5\n",
    "assert mean([1, 2]) == 1.5\n",
    "assert abs(mean([1, -1, 1]) - 0.33333) < 1e-5"
   ]
  },
  {
   "cell_type": "markdown",
   "metadata": {
    "collapsed": true,
    "nbgrader": {
     "grade": false,
     "grade_id": "one_liner",
     "locked": true,
     "schema_version": 1,
     "solution": false
    }
   },
   "source": [
    "<div class=\"alert alert-warning\">Koden for gjennomsnittet kan skrives enklere uten å bruke en <code>for</code>-løkke. <code>sum( )</code>-funksjonen regner ut summen av elementene i en listen. Klarer du å lage en funksjon for å regne ut gjennomsnittet som er bare én linje?</div>"
   ]
  },
  {
   "cell_type": "markdown",
   "metadata": {
    "nbgrader": {
     "grade": false,
     "grade_id": "var_text",
     "locked": true,
     "schema_version": 1,
     "solution": false
    }
   },
   "source": [
    "## Varians og standardavvik\n",
    "Varians og standardavvik er et mål på spredningen til data. Den empiriske variansen $s^2$ regnes ut ved\n",
    "$$s^2 = \\frac1{n-1} \\sum_{i=1}^n \\left(x_i - \\bar x \\right)^2$$\n",
    "der $\\bar x$ er gjennomsnittet regnet ut i forrige oppgave.\n",
    "\n",
    "Standardavviket $s$ er følgelig $s = \\sqrt{s^2}$.\n",
    "\n",
    "Lag funksjonene `var(data)` og `stdev(data)` som regner ut henholdsvis variansen og standardavviket til listen med tall `data`. Funksjonen `var` *skal bruke funksjonen `mean` fra forrige del og `stdev` skal bruke bruke `var`*."
   ]
  },
  {
   "cell_type": "code",
   "execution_count": 6,
   "metadata": {
    "collapsed": true,
    "nbgrader": {
     "grade": false,
     "grade_id": "var",
     "locked": false,
     "schema_version": 1,
     "solution": true
    }
   },
   "outputs": [],
   "source": [
    "def var(data):\n",
    "    ### BEGIN SOLUTION\n",
    "    xbar = mean(data)\n",
    "    s2 = 0.\n",
    "    for e in data:\n",
    "        s2 += (e - xbar)**2\n",
    "    s2 /= (len(data) - 1)\n",
    "    return s2\n",
    "    ### END SOLUTION"
   ]
  },
  {
   "cell_type": "code",
   "execution_count": 12,
   "metadata": {
    "collapsed": true,
    "nbgrader": {
     "grade": false,
     "grade_id": "stdev",
     "locked": false,
     "schema_version": 1,
     "solution": true
    }
   },
   "outputs": [],
   "source": [
    "def stdev(data):\n",
    "    ### BEGIN SOLUTION\n",
    "    import math\n",
    "    return math.sqrt(var(data))\n",
    "    ### END SOLUTION"
   ]
  },
  {
   "cell_type": "code",
   "execution_count": 8,
   "metadata": {
    "collapsed": true,
    "nbgrader": {
     "grade": true,
     "grade_id": "var_stdev_test",
     "locked": true,
     "points": 1,
     "schema_version": 1,
     "solution": false
    }
   },
   "outputs": [],
   "source": [
    "assert abs(var([1, 2, 3, 4]) - 1.66667) < 1e-5\n",
    "\n",
    "#Check if a function uses another function\n",
    "def func_uses_func(func1, func2, args, expected, tol=1e-5):\n",
    "    temp_func1 = func1\n",
    "    del func1\n",
    "    try:\n",
    "        assert abs(func1(args) - expected) < tol\n",
    "    except NameError:\n",
    "        pass\n",
    "    else:\n",
    "        raise AssertionError(func1.__name__ + ' does not appear to use ' + func2.__name__)\n",
    "    finally:\n",
    "        func1 = temp_func1\n",
    "        del temp_func1\n",
    "        \n",
    "func_uses_func(var, mean, [1.6, 3.1, -3.6], 12.36333)\n",
    "func_uses_func(stdev, var, [1.45, -3.14, 6.7, 9, .620], 4.884391)"
   ]
  },
  {
   "cell_type": "markdown",
   "metadata": {
    "nbgrader": {
     "grade": false,
     "grade_id": "sunspot_info",
     "locked": true,
     "schema_version": 1,
     "solution": false
    }
   },
   "source": [
    "Datasettet [sunspot.month.csv](sunspot.month.csv) (hentet fra eksempeldata i programmeringsspråket R) inneholder informasjon om det gjennomsnittlige antallet solflekker hver måned. Last ned filen og se på innholdet. Lag en funksjon som regner ut antallet solflekker i en gjennomsnittlig måned."
   ]
  },
  {
   "cell_type": "code",
   "execution_count": 19,
   "metadata": {
    "collapsed": true,
    "nbgrader": {
     "grade": false,
     "grade_id": "sunspot",
     "locked": false,
     "schema_version": 1,
     "solution": true
    }
   },
   "outputs": [],
   "source": [
    "def sunspot_stat(file):\n",
    "    with open(file, 'r') as data_set:\n",
    "    ### BEGIN SOLUTION\n",
    "        data_set.readline()\n",
    "        spots = []\n",
    "        for line in data_set:\n",
    "            spots.append(float(line.split(',')[-1]))\n",
    "    return mean(spots), stdev(spots)\n",
    "    ### END SOLUTION"
   ]
  },
  {
   "cell_type": "code",
   "execution_count": 21,
   "metadata": {
    "collapsed": true,
    "nbgrader": {
     "grade": true,
     "grade_id": "sunspot_test",
     "locked": true,
     "points": 0,
     "schema_version": 1,
     "solution": false
    }
   },
   "outputs": [],
   "source": [
    "sunspot_mean, sunspot_stdev = sunspot_stat('sunspot.month.csv')\n",
    "assert abs(sunspot_mean - 51.96481) < 1e-5\n",
    "assert abs(sunspot_stdev - 44.12524) < 1e-5\n",
    "func_uses_func(sunspot_stat, stdev, 'sunspot.month.csv', 44.12524)"
   ]
  },
  {
   "cell_type": "code",
   "execution_count": null,
   "metadata": {
    "collapsed": true
   },
   "outputs": [],
   "source": []
  }
 ],
 "metadata": {
  "celltoolbar": "Create Assignment",
  "hide_code_all_hidden": false,
  "kernelspec": {
   "display_name": "Python 2",
   "language": "python",
   "name": "python2"
  },
  "language_info": {
   "codemirror_mode": {
    "name": "ipython",
    "version": 2
   },
   "file_extension": ".py",
   "mimetype": "text/x-python",
   "name": "python",
   "nbconvert_exporter": "python",
   "pygments_lexer": "ipython2",
   "version": "2.7.13"
  }
 },
 "nbformat": 4,
 "nbformat_minor": 2
}
