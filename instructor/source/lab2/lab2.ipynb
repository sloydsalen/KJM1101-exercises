{
 "cells": [
  {
   "cell_type": "markdown",
   "metadata": {
    "collapsed": true,
    "nbgrader": {
     "grade": false,
     "grade_id": "intro",
     "locked": true,
     "schema_version": 1,
     "solution": false
    }
   },
   "source": [
    "# Lab 2 - Statistikk\n",
    "\n",
    "## CSV-filer\n",
    "I denne oppgaven skal du gjøre statistikk på dataen fra andre labøvelse. Det er lagt ved eksempeldata i CSV-filen (CSV står for *comma seperated values*) og ser slik ut:\n",
    "```\n",
    "\"m_Zn / g\",\"V_\\mathrm{gass / mL\",\"P_0 / mmHg\",\"t / degC\",\"h_vann / mm\"\n",
    "0.090,34.4,1.013,23.2,135\n",
    "0.092,35.1,0.9926,22,133\n",
    "...\n",
    "```\n",
    "\n",
    "\"`,`\" i CSV-filen er skilletegnet mellom celler så teksten over tilsvarer følgende tabell: \n",
    "\n",
    "| $m_\\mathrm{Zn} / \\mathrm g$ | $V_\\mathrm{gass} / \\mathrm{mL}$ | $P_0 / \\mathrm{mmHg}$ | $t / \\mathrm{^\\circ C}$ | $h_\\mathrm{vann} / \\mathrm{mm}$ |\n",
    "|:--- |:--- |:--- |:--- |:--- |\n",
    "| 0.090 | 34.4 | 1.013 | 23.2 | 135 |\n",
    "| 0.092 | 35.1 | 0.9926 | 22 | 133 |\n",
    "| $$\\vdots$$ | $$\\vdots$$ | $$\\vdots$$ | $$\\vdots$$ | $$\\vdots$$ |\n",
    "\n",
    "CSV-filer er veldig enkle å lese for programmer fordi de er så enkelt skrevet (sammenlignet med f.eks. xlsx-filer fra Microsoft Excel). \n",
    "\n",
    "## Dine data\n",
    "\n",
    "<div class=\"alert alert-warning\">\n",
    "Det er anbefalt at du også lagrer filene dine i et CSV-format eller lignende. Hvis du har dataene allerede i et regneprogram som Excel eller LibreOffice Calc er det lett å eksportere dem til .csv med *Lagre som*-funksjonen.\n",
    "</div>\n",
    "\n",
    "## Lese CSV med NumPy\n",
    "Under er det et eksempel på hvordan man kan lese en CSV-fil med NumPy. Funksjonen `np.genfromtxt` kan lett konvertere tekstfiler til NumPy-arrayer. Det første argumentet er filnavnet. For å lese filen slik på ønsket måte må man legge til noen instillinger:\n",
    "- `delimiter`-variabelen sier hvilke(t) tegn som skiller verdiene. For CSV er dette gjerne \"`,`\" (det er jo tross alt *comma* serperated values), men kan også være andre ting som mellomrom.\n",
    "- `skip_header`-variabelen er hvor mange linjer på starten av filen som ikke er selve verdiene. I eksempelfilen er det én linje med navn på hver kolonne med data.\n",
    "- `unpack`-variablen er om vi vil ha arrays med kolonnene (`unpack=True`) eller radene (`unpack=False` *standard*).\n",
    "\n",
    "<div class=\"alert alert-danger\">\n",
    "Pass godt på enhetene til verdiene du bruker. Python vet ikke hvilke enheter variabler er i så du må sørge for at alle beregninger skjer i kompatible enheter. I denne labben er det anbefalt å endre alle verdier for \n",
    "<ul>\n",
    "  <li>masse til gram</li>\n",
    "  <li>volum til liter</li>\n",
    "  <li>trykk til atmosfærer</li>\n",
    "  <li>temperatur til Kelvin</li>\n",
    "</ul> \n",
    "</div>"
   ]
  },
  {
   "cell_type": "code",
   "execution_count": 1,
   "metadata": {
    "nbgrader": {
     "grade": false,
     "grade_id": "extract_example",
     "locked": true,
     "schema_version": 1,
     "solution": false
    }
   },
   "outputs": [
    {
     "name": "stdout",
     "output_type": "stream",
     "text": [
      "[ 0.09   0.092  0.086  0.088  0.082]\n",
      "[ 296.35  295.15  295.15  295.15  295.15]\n"
     ]
    }
   ],
   "source": [
    "# Extract variables from data source using NumPy\n",
    "import numpy as np\n",
    "m, V_gas, P_0, t, h_H2O = np.genfromtxt('example_data.csv', delimiter=',', skip_header=1, unpack=True)\n",
    "# Convert degrees Celsius to Kelvin and mL to L\n",
    "T = t + 273.15\n",
    "V_gas = V_gas / 1000\n",
    "\n",
    "# Print masses to check if values were extracted correcly\n",
    "print m\n",
    "print T"
   ]
  },
  {
   "cell_type": "markdown",
   "metadata": {
    "nbgrader": {
     "grade": false,
     "grade_id": "intro_molar_mass",
     "locked": true,
     "schema_version": 1,
     "solution": false
    }
   },
   "source": [
    "## Beregn molar masse\n",
    "\n",
    "<div class=\"alert alert-warning\">\n",
    "De neste delen tar for seg prelabben, men med programmering. Det kan være lurt å ha den fullførte prelabben forran seg når man gjør disse oppgavene. \n",
    "</div>\n",
    "\n",
    "Du skal i slutten av denne oppgaven ha laget en funksjon som regner ut molarmassen til metallet. Men det er lurt å dele beregningene opp i flere mindre funksjoner — da blir det mye mer oversiktlig!\n",
    "\n",
    "### Vannets damptrykk\n",
    "I prelabben gir Tabell 2 vannets damptrykk ved forskjellige temperaturer og du må bruke formelen\n",
    "$$P(t)=\\frac{P_1-P_2}{t_1-t_2}\\left(t-t_2\\right)+P_2$$\n",
    "til lineær interpolasjon.\n",
    "\n",
    "NumPy har denne formelen innebygget. Den heter `interp(t, ti, Pi)` der `t` er temperaturen man vil interpolore for, `ti` og `Pi` er arrays med henholdsvis de kjente temperaturene og damptrykkene. (`interp` fungere så klart for andre ting en temperatur og trykk, men det er disse størrelse vi er interessert i.) Under er et eksempel på bruk av av funksjonen med visualisering."
   ]
  },
  {
   "cell_type": "code",
   "execution_count": 13,
   "metadata": {
    "nbgrader": {
     "grade": false,
     "grade_id": "interpol_demo",
     "locked": true,
     "schema_version": 1,
     "solution": false
    }
   },
   "outputs": [
    {
     "data": {
      "image/png": "[encoded data removed]",
      "text/plain": [
       "<matplotlib.figure.Figure at 0x7fa039f2abd0>"
      ]
     },
     "metadata": {},
     "output_type": "display_data"
    }
   ],
   "source": [
    "# Known values\n",
    "x = [0, 3, 4, 7, 9]\n",
    "y = [2, 15, 18, 19, 19]\n",
    "# Interpolate\n",
    "x_int = np.linspace(0, 9, 30)\n",
    "y_int = np.interp(xvals, x, y)\n",
    "\n",
    "# Visualise interpolation\n",
    "import matplotlib.pyplot as plt\n",
    "plt.plot(x, y, 'o', label='known values')\n",
    "plt.plot(x_int, y_int, '.', label='interpolated values')\n",
    "plt.legend()\n",
    "plt.show()"
   ]
  },
  {
   "cell_type": "markdown",
   "metadata": {
    "nbgrader": {
     "grade": false,
     "grade_id": "vap_pres_data",
     "locked": true,
     "schema_version": 1,
     "solution": false
    }
   },
   "source": [
    "Filen `vapour_pressure_water.csv` inneholder samme data som Tabell 2 i prelabben og ser slik ut:\n",
    "```\n",
    "\"t / degC\",\"P_vanndamp / atm\"\n",
    "16,0.01793\n",
    "18,0.02036\n",
    "...\n",
    "```\n",
    "Bruk funksjonen `np.genfromtxt` til å lese dataene fra CSV-filen (se [delen om å lese CSV-filer](#Lese-CSV-med-NumPy)) og bruk `np.interp` til å lage funksjonen `P_vap_H2O(T)` som gir vannets damptrykk ved en (absolutt) temperatur `T`.\n",
    "\n",
    "<div class=\"alert alert-danger\">\n",
    "Husk å sjekke enheter og konvertere der det er nødvendig. \n",
    "</div>"
   ]
  },
  {
   "cell_type": "code",
   "execution_count": 73,
   "metadata": {
    "collapsed": true,
    "nbgrader": {
     "grade": false,
     "grade_id": "vap_pres_H2O",
     "locked": false,
     "schema_version": 1,
     "solution": true
    }
   },
   "outputs": [],
   "source": [
    "def P_vap_H2O(T):\n",
    "    ### BEGIN SOLUTION ###\n",
    "    t_data, P_data = np.genfromtxt('vapour_pressure_water.csv', delimiter=',', skip_header=1, unpack=True)\n",
    "    T_data = t_data + 273.15\n",
    "    return np.interp(T, T_data, P_data)\n",
    "    ### END SOLUTION ###"
   ]
  },
  {
   "cell_type": "markdown",
   "metadata": {
    "nbgrader": {
     "grade": false,
     "grade_id": "npt_intro",
     "locked": true,
     "schema_version": 1,
     "solution": false
    }
   },
   "source": [
    "Du har allerede sett en del testfunksjoner med `assert`. Pythons innebygde `assert` egner seg dårlig for arrays, men NumPy har en klasse med funksjoner kalt `numpy.testing` som gjør det kjapt å skrive testfunksjoner for arrays. \n",
    "\n",
    "Under brukes testfunksjonen `assert_almost_equal(actual, expected, decimal=d)` som gir `AssertionError` hvis arrayene er forskjellig inntil det desimal nummer `d`. Hvis testen feiler vises arrayene så det er lett å se hvor de er forskjellige."
   ]
  },
  {
   "cell_type": "code",
   "execution_count": 86,
   "metadata": {
    "collapsed": true,
    "hideCode": false,
    "hideOutput": false,
    "hidePrompt": false,
    "nbgrader": {
     "grade": true,
     "grade_id": "vap_H2O_test",
     "locked": true,
     "points": 1,
     "schema_version": 1,
     "solution": false
    }
   },
   "outputs": [],
   "source": [
    "import numpy.testing as npt\n",
    "npt.assert_almost_equal(P_vap_H2O([297.5, 302.7, 298.6, 299.1, 294.2]), \n",
    "                                  [.0301, .0408, .0321, .0331, .0247], decimal=4)"
   ]
  },
  {
   "cell_type": "markdown",
   "metadata": {
    "nbgrader": {
     "grade": false,
     "grade_id": "pres_H2O_intro",
     "locked": true,
     "schema_version": 1,
     "solution": false
    }
   },
   "source": [
    "### Vanntrykket\n",
    "Lag en funksjon `P_H2O(h_H2O)` som regner ut vanntrykket i atmosfærer gitt vannhøyden `h_H2O` i millimeter. I koden er det allerede noen konstanter som kan være nyttige."
   ]
  },
  {
   "cell_type": "code",
   "execution_count": 94,
   "metadata": {
    "collapsed": true,
    "nbgrader": {
     "grade": false,
     "grade_id": "pres_H2O",
     "locked": false,
     "schema_version": 1,
     "solution": true
    }
   },
   "outputs": [],
   "source": [
    "def P_H2O(h_H2O):\n",
    "    d_H2O = 1.00\n",
    "    d_Hg = 13.6\n",
    "    mmHg_per_atm = 760. \n",
    "    ### BEGIN SOLUTION ###\n",
    "    P_H2O_mmHg = h_H2O * d_H2O / d_Hg\n",
    "    return P_H2O_mmHg / mmHg_per_atm\n",
    "    ### END SOLUTION ###"
   ]
  },
  {
   "cell_type": "code",
   "execution_count": 97,
   "metadata": {
    "collapsed": true,
    "nbgrader": {
     "grade": true,
     "grade_id": "P_H2O_test",
     "locked": true,
     "points": 1,
     "schema_version": 1,
     "solution": false
    }
   },
   "outputs": [],
   "source": [
    "npt.assert_almost_equal(P_H2O(np.array([93.8, 25.6, 190.8, 9.4, 118.])), \n",
    "                                       [.0091, .0025, .0185, .0009, .0114], decimal=4)"
   ]
  },
  {
   "cell_type": "markdown",
   "metadata": {
    "nbgrader": {
     "grade": false,
     "grade_id": "pres_H2_intro",
     "locked": true,
     "schema_version": 1,
     "solution": false
    }
   },
   "source": [
    "### Hydrogentrykket\n",
    "Lag en funksjon `P_H2(P_H2O, P_0, T)` som regner ut hydrogentrykket i atmosfærer gitt vanntrykket `P_H2O` i atmosfærer, barometertrykket `P_0` i atmosfærer og temperature `T` i Kelvin. "
   ]
  },
  {
   "cell_type": "code",
   "execution_count": 24,
   "metadata": {
    "collapsed": true,
    "nbgrader": {
     "grade": false,
     "grade_id": "pres_H2",
     "locked": false,
     "schema_version": 1,
     "solution": true
    }
   },
   "outputs": [],
   "source": [
    "def P_H2(P_H2O, P_0, T):\n",
    "    ### BEGIN SOLUTION ###\n",
    "    return P_0 - P_vap_H2O(T) - P_H2O\n",
    "    ### END SOLUTION ###"
   ]
  },
  {
   "cell_type": "markdown",
   "metadata": {
    "nbgrader": {
     "grade": false,
     "grade_id": "molarmass_intro",
     "locked": true,
     "schema_version": 1,
     "solution": false
    }
   },
   "source": [
    "### Sett funksjonene sammen for å beregne molarmasse\n",
    "Funksjonen `molar_mass(h, V, T, m)` kan lages nå. `h` er vannhøyden i millimeter, `V` er det målte volumet i liter, `T` er den (absolutte) temperaturen og `m` er massen til metallet. Gasskonstanten `R` er allerede oppgitt i passende enheter."
   ]
  },
  {
   "cell_type": "code",
   "execution_count": 22,
   "metadata": {
    "collapsed": true,
    "nbgrader": {
     "grade": false,
     "grade_id": "molarmass",
     "locked": false,
     "schema_version": 1,
     "solution": true
    }
   },
   "outputs": [],
   "source": [
    "def molar_mass(h, V, T, m):\n",
    "    R = 8.2057338e-2 # L atm / K mol\n",
    "    ### BEGIN SOLUTION ###\n",
    "    return R * T * m / P_H2(P_H2O(h), P_0, T) / V\n",
    "    ### END SOLUTION ###"
   ]
  },
  {
   "cell_type": "markdown",
   "metadata": {
    "nbgrader": {
     "grade": false,
     "grade_id": "molarmass_check",
     "locked": true,
     "schema_version": 1,
     "solution": false
    }
   },
   "source": [
    "Cellen under burde nå printe fornuftige verdier for molarmassen til metallet."
   ]
  },
  {
   "cell_type": "code",
   "execution_count": 26,
   "metadata": {
    "nbgrader": {
     "grade": true,
     "grade_id": "molarmass_calc",
     "locked": false,
     "points": 1,
     "schema_version": 1,
     "solution": true
    }
   },
   "outputs": [
    {
     "data": {
      "text/plain": [
       "array([ 65.46585518,  66.56644928,  65.60199217,  65.13310982,  65.19108733])"
      ]
     },
     "execution_count": 26,
     "metadata": {},
     "output_type": "execute_result"
    }
   ],
   "source": [
    "molar_mass(h_H2O, V_gas, T, m)"
   ]
  },
  {
   "cell_type": "markdown",
   "metadata": {
    "nbgrader": {
     "grade": false,
     "grade_id": "confint_intro",
     "locked": true,
     "schema_version": 1,
     "solution": false
    }
   },
   "source": [
    "## Konfidensintervall\n",
    "\n",
    "\n",
    "Konfidensintervall er et intervall som en gitt andel av gangene vil inneholde den sanne verdien av konstant. Antar man at målingene er normalfordelte, er det $p$-konfidensintervallet gitt ved\n",
    "$$\\left(\\bar x-t_p\\frac s{\\sqrt{n}}, \\bar x+t_p\\frac s{\\sqrt{n}}\\right)$$\n",
    "der $\\bar x$ er gjennomsnittet, $s$ er standardavviket, $n$ er antall obserbasjoner og $t_p$ er en konstant bestemt av $p$.\n",
    "\n",
    "Skriv en funksjon `conf_int` som returnerer de to grensene til intervallet. Kode for å regne ut konstanten $t_p$ er allerede oppgitt."
   ]
  },
  {
   "cell_type": "code",
   "execution_count": 28,
   "metadata": {
    "collapsed": true,
    "nbgrader": {
     "grade": false,
     "grade_id": "confint",
     "locked": false,
     "schema_version": 1,
     "solution": true
    }
   },
   "outputs": [],
   "source": [
    "def conf_int(data, p=.95):\n",
    "    from scipy.stats import t\n",
    "    n = np.size(data)\n",
    "    tp = t.cdf(p, n - 1)\n",
    "    ### BEGIN SOLUTION ###\n",
    "    from math import sqrt\n",
    "    x_bar = np.mean(data)\n",
    "    s = np.std(data)\n",
    "    h = tp*s/sqrt(n)\n",
    "    return x_bar - h, x_bar + h\n",
    "    ### END SOLUTION ###"
   ]
  },
  {
   "cell_type": "markdown",
   "metadata": {
    "nbgrader": {
     "grade": false,
     "grade_id": "confint_meaning",
     "locked": true,
     "schema_version": 1,
     "solution": false
    }
   },
   "source": [
    "Bruk `conf_int` på verdiene du fikk for molarmassen. Er litteraturverdien for molarmassen i intervallet? Hva forteller svaret deg?\n",
    "\n",
    "Hvis litteraturverdien ikke er innenfor, er det greit? Kan du evt. forklare hvorfor den ikke er innenfor?"
   ]
  },
  {
   "cell_type": "code",
   "execution_count": 29,
   "metadata": {
    "nbgrader": {
     "grade": true,
     "grade_id": "confint_calc",
     "locked": false,
     "points": 1,
     "schema_version": 1,
     "solution": true
    }
   },
   "outputs": [
    {
     "data": {
      "text/plain": [
       "(65.406228279901413, 65.777169232232794)"
      ]
     },
     "execution_count": 29,
     "metadata": {},
     "output_type": "execute_result"
    }
   ],
   "source": [
    "### BEGIN SOLUTION\n",
    "conf_int(molar_mass(h_H2O, V_gas, T, m))\n",
    "### END SOLUTION"
   ]
  },
  {
   "cell_type": "markdown",
   "metadata": {
    "nbgrader": {
     "grade": false,
     "grade_id": "ttest_intro",
     "locked": true,
     "schema_version": 1,
     "solution": false
    }
   },
   "source": [
    "## Students $t$-test\n",
    "\n",
    "### Hypotesene\n",
    "Hvis måledataene våre er normalfordelte (ofte er de tilnærmet det), kan Students $t$-test brukes for å undersøke om en hypotese er statistisk signifikant. Her skal hypotsen\n",
    "$$H_0: \\text{Molarmassen til metallet er lik litteraturverdien ($\\bar x = \\mu_0$)}$$\n",
    "testes mot den alternative hypotesen\n",
    "$$H_\\mathrm{a}: \\text{Molarmassen til metallet er $ikke$ lik litteraturverdien ($\\bar x \\neq \\mu_0$)}.$$\n",
    "\n",
    "### Fun fact\n",
    "*Student* i \"Students $t$-test\" har ikke direkte noe med studenter å gjøre. Det var pseudonymet til kjemikeren W. S. Gosset som jobbet ved Guinness' bryggeri i Dublin. Det sies at enten så foretrakk arbeidsgiveren hans at de ansatte publiserte under pseudonymer eller at de ikke fikk lov til å publisere. Uansett bruke han pseudonymet *Student* når han publiserte artiklene sin om $t$-testen, og den ble derfor gjent som Students $t$-test. Ved Guinness brukte Gosset $t$-testen til å undersøke kvaliteten til bygg og stout.\n",
    "\n",
    "### $t$-observabelen\n",
    "Først må $t^*$-observabelen beregnes som er gitt ved\n",
    "$$t^*=\\frac{\\bar x-\\mu_0}{s/\\sqrt n}$$\n",
    "    der $\\bar x$ er gjennomsnittet til måledataene (i dette tilfellet molarmassene), $\\mu_0$ er verdien i nullhypotesen vi skal teste for (i dette tilfellet litteraturverdien), $s$ er standardavviket og $n$ er antallet observasjoner.\n",
    "\n",
    "Lag en funksjon `t_stat(data, mu_0)` som beregner $t^*$-observabelen."
   ]
  },
  {
   "cell_type": "code",
   "execution_count": 98,
   "metadata": {
    "collapsed": true,
    "nbgrader": {
     "grade": false,
     "grade_id": "t_stat",
     "locked": false,
     "schema_version": 1,
     "solution": true
    }
   },
   "outputs": [],
   "source": [
    "def t_stat(data, mu_0):\n",
    "    ### BEGIN SOLUTION ###\n",
    "    from math import sqrt\n",
    "    return (np.mean(data)-mu_0)*sqrt(np.size(data))/np.std(data)\n",
    "    ### END SOLUTION ###"
   ]
  },
  {
   "cell_type": "markdown",
   "metadata": {
    "nbgrader": {
     "grade": false,
     "grade_id": "pval_intro",
     "locked": true,
     "schema_version": 1,
     "solution": false
    }
   },
   "source": [
    "### $P$-verdi\n",
    "$P$-verdien er sannsynligheten for å observere en mer ekstrem verdi (i dette tilfellet større eller mindre) for $t^*$ gitt at nullhypotesen er sann.\n",
    "\n",
    "Dersom $P$-verdien er liten, altså at vi vil sjeldent se mer ekstreme verdier enn den observerte, må nullhypotensen forkastes. Man må på forhånd bestemme liten $P$-verdien skal være og kaller denne verdien signifikansnivået $\\alpha$ og settes ofte til $5 \\%$ eller lavere. Dersom $P\\leq\\alpha$ sier man at $H_0$ forkastes med signifikans $\\alpha$.  \n",
    "\n",
    "Det er ingen [enkel formel](https://en.wikipedia.org/wiki/Student%27s_t-distribution#Cumulative_distribution_function) for $P$-verdien, men SciPy har heldigvis noen innebyggede funksjoner til hjelp. Under er det gitt en funksjon for å regne ut $P$-verdien."
   ]
  },
  {
   "cell_type": "code",
   "execution_count": 56,
   "metadata": {
    "collapsed": true,
    "nbgrader": {
     "grade": false,
     "grade_id": "pval",
     "locked": true,
     "schema_version": 1,
     "solution": false
    }
   },
   "outputs": [],
   "source": [
    "def P_value(data, mu_0):\n",
    "    from scipy.stats import t\n",
    "    return t.sf(np.abs(t_stat(data, mu_0)), np.size(data)-1)*2"
   ]
  },
  {
   "cell_type": "markdown",
   "metadata": {
    "nbgrader": {
     "grade": false,
     "grade_id": "significance_text",
     "locked": true,
     "schema_version": 1,
     "solution": false
    }
   },
   "source": [
    "Undersøk under om molarmassen du beregnet til signifikant lik litteraturverdien, bruk $\\alpha=5\\%$."
   ]
  },
  {
   "cell_type": "code",
   "execution_count": null,
   "metadata": {
    "collapsed": true,
    "nbgrader": {
     "grade": true,
     "grade_id": "significance",
     "locked": false,
     "points": 1,
     "schema_version": 1,
     "solution": true
    }
   },
   "outputs": [],
   "source": []
  }
 ],
 "metadata": {
  "celltoolbar": "Create Assignment",
  "kernelspec": {
   "display_name": "Python 2",
   "language": "python",
   "name": "python2"
  },
  "language_info": {
   "codemirror_mode": {
    "name": "ipython",
    "version": 2
   },
   "file_extension": ".py",
   "mimetype": "text/x-python",
   "name": "python",
   "nbconvert_exporter": "python",
   "pygments_lexer": "ipython2",
   "version": "2.7.13"
  }
 },
 "nbformat": 4,
 "nbformat_minor": 2
}
