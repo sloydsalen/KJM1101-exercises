{
 "cells": [
  {
   "cell_type": "markdown",
   "metadata": {
    "deletable": false,
    "editable": false,
    "nbgrader": {
     "checksum": "8421d8f43ec9c28c332c779df3fd1681",
     "grade": false,
     "grade_id": "intro",
     "locked": true,
     "schema_version": 1,
     "solution": false
    }
   },
   "source": [
    "# Lab 1 - Statistikk\n",
    "I denne øvelsen skal vi lage våre egne funksjoner for å gjøre grunnleggende statistikk på datasett.\n",
    "\n",
    "## Gjennomsnitt\n",
    "Det første vi skal se på er gjennomsnitt. Dersom $x_1, x_2, x_3, \\ldots, x_n$ er måledata er gjennomsnittet $\\bar x$ gitt ved\n",
    "$$\\bar x = \\frac1n \\sum_{i=1}^n x_i = \\frac1n \\left(x_1 + x_2 + x_3 + \\ldots + x_n\\right).$$\n",
    "Implementer en funksjon `mean(data)` som regner ut og returnerer gjennomsnittet til listen av tall `data` ved å bruke en `for`-løkke som itererer over alle elementene i listen."
   ]
  },
  {
   "cell_type": "code",
   "execution_count": 10,
   "metadata": {
    "deletable": false,
    "nbgrader": {
     "checksum": "e399b0304b1518d326930c86decb75a5",
     "grade": false,
     "grade_id": "mean",
     "locked": false,
     "schema_version": 1,
     "solution": true
    }
   },
   "outputs": [],
   "source": [
    "def mean(data):\n",
    "    # Her skriver du koden for å regne ut gjennomsnittet.\n",
    "    # Husk a returnere gjennomsnittet. \n",
    "    # SKRIV DITT SVAR HER\n",
    "    return float(sum(data))/len(data)"
   ]
  },
  {
   "cell_type": "markdown",
   "metadata": {
    "deletable": false,
    "editable": false,
    "nbgrader": {
     "checksum": "8227db0bfe0a6a8ec6fb5f85091d719c",
     "grade": false,
     "grade_id": "test_instruction",
     "locked": true,
     "schema_version": 1,
     "solution": false
    }
   },
   "source": [
    "Kjør testkoden under for å sjekke at koden din er okay."
   ]
  },
  {
   "cell_type": "markdown",
   "metadata": {
    "deletable": false,
    "editable": false,
    "nbgrader": {
     "checksum": "00f0463982b821919c22c572389b8f02",
     "grade": false,
     "grade_id": "int_div",
     "locked": true,
     "schema_version": 1,
     "solution": false
    }
   },
   "source": [
    "<div class=\"alert alert-danger\">Hvis alle bortsett fra de to siste testene fungerer burde du undersøke om du har heltallsdivisjon. Husk at i Python 2 vil et heltall delt på et heltall også gi et heltall så <code>1/2=0</code> mens <code>1./2=0.5</code>.</div>"
   ]
  },
  {
   "cell_type": "code",
   "execution_count": 11,
   "metadata": {
    "deletable": false,
    "editable": false,
    "nbgrader": {
     "checksum": "d284ba2b3e2900b83d36d691f1a8e78a",
     "grade": true,
     "grade_id": "test_mean",
     "locked": true,
     "points": 1,
     "schema_version": 1,
     "solution": false
    }
   },
   "outputs": [],
   "source": [
    "assert mean([1, 4, 1, 3, 6]) == 3\n",
    "assert mean((5, -3, 8, -0, 33, -17, 9)) == 5\n",
    "assert abs(mean([1.5, 3.2, -0.17, 4, 1./3]) - 1.77267) < 1e-5\n",
    "assert mean([1, 2]) == 1.5\n",
    "assert abs(mean([1, -1, 1]) - 0.33333) < 1e-5"
   ]
  },
  {
   "cell_type": "markdown",
   "metadata": {
    "collapsed": true,
    "deletable": false,
    "editable": false,
    "nbgrader": {
     "checksum": "7641cc3fde653176fb92b6846f571ca9",
     "grade": false,
     "grade_id": "one_liner",
     "locked": true,
     "schema_version": 1,
     "solution": false
    }
   },
   "source": [
    "<div class=\"alert alert-warning\">Koden for gjennomsnittet kan skrives enklere uten å bruke en <code>for</code>-løkke. <code>sum( )</code>-funksjonen regner ut summen av elementene i en listen. Klarer du å lage en funksjon for å regne ut gjennomsnittet som er bare én linje?</div>"
   ]
  },
  {
   "cell_type": "markdown",
   "metadata": {
    "deletable": false,
    "editable": false,
    "nbgrader": {
     "checksum": "6d00571dead1d6fd29ab7bf92bd3522b",
     "grade": false,
     "grade_id": "var_text",
     "locked": true,
     "schema_version": 1,
     "solution": false
    }
   },
   "source": [
    "## Varians og standardavvik\n",
    "Varians og standardavvik er et mål på spredningen til data. Den empiriske variansen $s^2$ regnes ut ved\n",
    "$$s^2 = \\frac1{n-1} \\sum_{i=1}^n \\left(x_i - \\bar x \\right)^2$$\n",
    "der $\\bar x$ er gjennomsnittet regnet ut i forrige oppgave.\n",
    "\n",
    "Standardavviket $s$ er følgelig $s = \\sqrt{s^2}$.\n",
    "\n",
    "Lag funksjonene `var(data)` og `stdev(data)` som regner ut henholdsvis variansen og standardavviket til listen med tall `data`. Funksjonen `var` *skal bruke funksjonen `mean` fra forrige del og `stdev` skal bruke bruke `var`*."
   ]
  },
  {
   "cell_type": "code",
   "execution_count": 13,
   "metadata": {
    "collapsed": true,
    "deletable": false,
    "nbgrader": {
     "checksum": "3a9497332a8ebec0bdec0d9aef740aa8",
     "grade": false,
     "grade_id": "var",
     "locked": false,
     "schema_version": 1,
     "solution": true
    }
   },
   "outputs": [],
   "source": [
    "def var(data):\n",
    "    return 1"
   ]
  },
  {
   "cell_type": "code",
   "execution_count": 14,
   "metadata": {
    "collapsed": true,
    "deletable": false,
    "nbgrader": {
     "checksum": "15fd55ac2e32f5dc3a2eb5e6890b259b",
     "grade": false,
     "grade_id": "stdev",
     "locked": false,
     "schema_version": 1,
     "solution": true
    }
   },
   "outputs": [],
   "source": [
    "def stdev(data):\n",
    "    # SKRIV DITT SVAR HER\n",
    "    raise NotImplementedError"
   ]
  },
  {
   "cell_type": "code",
   "execution_count": 15,
   "metadata": {
    "deletable": false,
    "editable": false,
    "nbgrader": {
     "checksum": "7037cdca01a57aa8efc87a8143f6cfc9",
     "grade": true,
     "grade_id": "var_stdev_test",
     "locked": true,
     "points": 1,
     "schema_version": 1,
     "solution": false
    }
   },
   "outputs": [
    {
     "ename": "AssertionError",
     "evalue": "",
     "output_type": "error",
     "traceback": [
      "\u001b[0;31m---------------------------------------------------------------------------\u001b[0m",
      "\u001b[0;31mAssertionError\u001b[0m                            Traceback (most recent call last)",
      "\u001b[0;32m<ipython-input-15-7f80600094d4>\u001b[0m in \u001b[0;36m<module>\u001b[0;34m()\u001b[0m\n\u001b[0;32m----> 1\u001b[0;31m \u001b[0;32massert\u001b[0m \u001b[0mabs\u001b[0m\u001b[0;34m(\u001b[0m\u001b[0mvar\u001b[0m\u001b[0;34m(\u001b[0m\u001b[0;34m[\u001b[0m\u001b[0;36m1\u001b[0m\u001b[0;34m,\u001b[0m \u001b[0;36m2\u001b[0m\u001b[0;34m,\u001b[0m \u001b[0;36m3\u001b[0m\u001b[0;34m,\u001b[0m \u001b[0;36m4\u001b[0m\u001b[0;34m]\u001b[0m\u001b[0;34m)\u001b[0m \u001b[0;34m-\u001b[0m \u001b[0;36m1.66667\u001b[0m\u001b[0;34m)\u001b[0m \u001b[0;34m<\u001b[0m \u001b[0;36m1e-5\u001b[0m\u001b[0;34m\u001b[0m\u001b[0m\n\u001b[0m\u001b[1;32m      2\u001b[0m \u001b[0;34m\u001b[0m\u001b[0m\n\u001b[1;32m      3\u001b[0m \u001b[0;31m#Check if a function uses another function\u001b[0m\u001b[0;34m\u001b[0m\u001b[0;34m\u001b[0m\u001b[0m\n\u001b[1;32m      4\u001b[0m \u001b[0;32mdef\u001b[0m \u001b[0mfunc_uses_func\u001b[0m\u001b[0;34m(\u001b[0m\u001b[0mfunc1\u001b[0m\u001b[0;34m,\u001b[0m \u001b[0mfunc2\u001b[0m\u001b[0;34m,\u001b[0m \u001b[0margs\u001b[0m\u001b[0;34m,\u001b[0m \u001b[0mexpected\u001b[0m\u001b[0;34m,\u001b[0m \u001b[0mtol\u001b[0m\u001b[0;34m=\u001b[0m\u001b[0;36m1e-5\u001b[0m\u001b[0;34m)\u001b[0m\u001b[0;34m:\u001b[0m\u001b[0;34m\u001b[0m\u001b[0m\n\u001b[1;32m      5\u001b[0m     \u001b[0mtemp_func1\u001b[0m \u001b[0;34m=\u001b[0m \u001b[0mfunc1\u001b[0m\u001b[0;34m\u001b[0m\u001b[0m\n",
      "\u001b[0;31mAssertionError\u001b[0m: "
     ]
    }
   ],
   "source": [
    "assert abs(var([1, 2, 3, 4]) - 1.66667) < 1e-5\n",
    "\n",
    "#Check if a function uses another function\n",
    "def func_uses_func(func1, func2, args, expected, tol=1e-5):\n",
    "    temp_func1 = func1\n",
    "    del func1\n",
    "    try:\n",
    "        assert abs(func1(args) - expected) < tol\n",
    "    except NameError:\n",
    "        pass\n",
    "    else:\n",
    "        raise AssertionError(func1.__name__ + ' does not appear to use ' + func2.__name__)\n",
    "    finally:\n",
    "        func1 = temp_func1\n",
    "        del temp_func1\n",
    "        \n",
    "func_uses_func(var, mean, [1.6, 3.1, -3.6], 12.36333)\n",
    "func_uses_func(stdev, var, [1.45, -3.14, 6.7, 9, .620], 4.884391)"
   ]
  },
  {
   "cell_type": "code",
   "execution_count": null,
   "metadata": {
    "collapsed": true
   },
   "outputs": [],
   "source": []
  }
 ],
 "metadata": {
  "hide_code_all_hidden": false,
  "kernelspec": {
   "display_name": "Python 2",
   "language": "python",
   "name": "python2"
  },
  "language_info": {
   "codemirror_mode": {
    "name": "ipython",
    "version": 2
   },
   "file_extension": ".py",
   "mimetype": "text/x-python",
   "name": "python",
   "nbconvert_exporter": "python",
   "pygments_lexer": "ipython2",
   "version": "2.7.13"
  }
 },
 "nbformat": 4,
 "nbformat_minor": 2
}
