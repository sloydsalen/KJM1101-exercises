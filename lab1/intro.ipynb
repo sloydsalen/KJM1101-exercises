{
 "cells": [
  {
   "cell_type": "markdown",
   "metadata": {
    "nbgrader": {
     "grade": false,
     "grade_id": "txt_intro",
     "locked": true,
     "schema_version": 1,
     "solution": false
    }
   },
   "source": [
    "# Introduksjon til Jupyter Notebook\n",
    "Programmet du nå er inne i heter *Jupyter Notebook*. Det er et program som lar deg kjøre Python-kode *mens* du skriver den. Det gjør det raskere å skrive korte programmer, og det er også et fantastisk verktøy for å visualisere data som du vil se etter hvert.\n",
    "\n",
    "## Celler\n",
    "Jupyter er bygd opp av celler. Celler kan være tekst (som denne cellen) eller kode. Under er det en celle med kode. Man kan se at det er en kode-celle fordi det står \n",
    "<div class=\"input\"><div class=\"prompt input_prompt\">\n",
    "In [ ]:\n",
    "</div></div>\n",
    "til venstre for cellen.\n",
    "\n",
    "For å kjøre en celle med kode setter du markøren inni cellen ved å trykke på den og trykke `ctrl-Enter`. Prøv det på cellen under."
   ]
  },
  {
   "cell_type": "code",
   "execution_count": 7,
   "metadata": {},
   "outputs": [
    {
     "name": "stdout",
     "output_type": "stream",
     "text": [
      "Hello, World!\n"
     ]
    }
   ],
   "source": [
    "print 'Hello, World!'"
   ]
  },
  {
   "cell_type": "markdown",
   "metadata": {
    "nbgrader": {
     "grade": false,
     "grade_id": "txt_print",
     "locked": true,
     "schema_version": 1,
     "solution": false
    }
   },
   "source": [
    "Til venstre for cellen burde det nå stå\n",
    "<div class=\"input\"><div class=\"prompt input_prompt\">\n",
    "In [1]:\n",
    "</div></div>\n",
    "`1`-tallet betyr det er den første cellen med kode som er kjørt. Du kan gjøre cellen flere ganger, og da vil tallet øke.\n",
    "\n",
    "Under cellen burde det nå stå \"`Hello, World!`\" som er det koden produserte.\n",
    "\n",
    "<div class=\"alert alert-danger\">Hvis du dobbelttrykker på en tekstcelle vil teksten forandre seg til koden som lager teksten. Dette er ikke viktig for deg. Hvis du ved et uhell dobbelttrykket på en tekstcelle, kan du gjøre den om til vanlig tekst ved å trykke `ctrl-Enter`, akkurat som for celler med kode.</div>\n",
    "\n",
    "Prøv å skrive \"`print 1 + 1`\" i cellen under og kjøre den. Den burde skrive ut \"`2`\"."
   ]
  },
  {
   "cell_type": "code",
   "execution_count": null,
   "metadata": {
    "collapsed": true
   },
   "outputs": [],
   "source": []
  },
  {
   "cell_type": "markdown",
   "metadata": {
    "nbgrader": {
     "grade": false,
     "grade_id": "txt_exercises",
     "locked": true,
     "schema_version": 1,
     "solution": false
    }
   },
   "source": [
    "## Labøvelser i Jupyter Notebook\n",
    "Du skal gjøre deler av labøvelsene i Jupyter Notebook. Da vil det stå instrukser for hva du skal gjøre. I de fleste oppgavene vil du bli hjulpet ved at deler av koden allerede er oppgitt og du bare trenger å fylle ut noen linjer. Under er det et eksempel der man lager en fuksjon som skriver tekst baklengs."
   ]
  },
  {
   "cell_type": "code",
   "execution_count": 7,
   "metadata": {
    "collapsed": true,
    "nbgrader": {
     "grade": false,
     "grade_id": "test_reverse",
     "locked": false,
     "schema_version": 1,
     "solution": true
    }
   },
   "outputs": [],
   "source": [
    "def reverse(text):\n",
    "    ### BEGIN SOLUTION ###\n",
    "    return text[::-1]\n",
    "    ### END SOLUTION ###"
   ]
  },
  {
   "cell_type": "markdown",
   "metadata": {
    "nbgrader": {
     "grade": false,
     "grade_id": "txt_reverse",
     "locked": true,
     "schema_version": 1,
     "solution": false
    }
   },
   "source": [
    "Der hvor det står at du skal fylle inn din kode, skal du så klart skrive din besvarelse. Fyll ut cellen over slik at det står\n",
    "```python\n",
    "def reverse(text):\n",
    "    return text[::-1]\n",
    "```\n",
    "og kjør koden ved å trykke `ctrl-Enter`. Kjør så cellen under for å undersøke om funksjonen oppfører seg som forventet. Du kan prøve å skrive inn andre ting også."
   ]
  },
  {
   "cell_type": "code",
   "execution_count": 8,
   "metadata": {},
   "outputs": [
    {
     "name": "stdout",
     "output_type": "stream",
     "text": [
      "!dlroW ,olleH\n"
     ]
    }
   ],
   "source": [
    "print reverse('Hello, World!')"
   ]
  },
  {
   "cell_type": "markdown",
   "metadata": {
    "nbgrader": {
     "grade": false,
     "grade_id": "txt_tests",
     "locked": true,
     "schema_version": 1,
     "solution": false
    }
   },
   "source": [
    "<div class=\"alert alert-danger\">Hvis du får opp en feilmelding som\n",
    "<pre><span class=\"ansi-red-fg\">---------------------------------------------------------------------------</span>\n",
    "<span class=\"ansi-red-fg\">NameError</span>                                 Traceback (most recent call last)\n",
    "<span class=\"ansi-green-fg\">&lt;ipython-input-X-XXXXXXXXXXXX&gt;</span> in <span class=\"ansi-cyan-fg\">&lt;module&gt;</span><span class=\"ansi-blue-fg\">()</span>\n",
    "<span class=\"ansi-green-fg\">----&gt; 1</span><span class=\"ansi-red-fg\"> </span><span class=\"ansi-green-fg\">print</span> reverse<span class=\"ansi-blue-fg\">(</span><span class=\"ansi-blue-fg\">'Hello, World!'</span><span class=\"ansi-blue-fg\">)</span>\n",
    "\n",
    "<span class=\"ansi-red-fg\">NameError</span>: name 'reverse' is not defined\n",
    "\n",
    "</pre>\n",
    "så har du glemt å kjøre cellen over.\n",
    "</div>\n",
    "\n",
    "## Testfunksjoner\n",
    "Når du løser programmeringsoppgaver knyttet til labben vil du bli hjulpet ved at det er oppgitt testfunksjoner. Testfunksjonene kjører det du har programmert og sjekker at svaret som kommer ut er fornuftig. Under er det gitt et eksempel på en testfunksjon for `reverse`-funksjonen over.\n",
    "\n",
    "<div class=\"alert alert-warning\">Hvis testfunksjonen ikke får det svaret den forventet, får du en feilmelding som ser slik ut:\n",
    "<pre><span class=\"ansi-red-fg\">---------------------------------------------------------------------------</span>\n",
    "<span class=\"ansi-red-fg\">AssertionError</span>                            Traceback (most recent call last)\n",
    "<span class=\"ansi-green-fg\">&lt;ipython-input-X-XXXXXXXXXXXX&gt;</span> in <span class=\"ansi-cyan-fg\">&lt;module&gt;</span><span class=\"ansi-blue-fg\">()</span>\n",
    "<span class=\"ansi-green-fg\">----&gt; 1</span><span class=\"ansi-red-fg\"> </span><span class=\"ansi-green-fg\">assert</span> <span class=\"ansi-cyan-fg\">YYY</span> <span class=\"ansi-blue-fg\">==</span> <span class=\"ansi-cyan-fg\">ZZZ</span>\n",
    "\n",
    "<span class=\"ansi-red-fg\">AssertionError</span>: \n",
    "\n",
    "</pre>\n",
    "Da må du gå tilbake og prøve å finne feilen i programmet ditt.\n",
    "</div>"
   ]
  },
  {
   "cell_type": "code",
   "execution_count": 20,
   "metadata": {
    "collapsed": true,
    "nbgrader": {
     "grade": true,
     "grade_id": "palindrome_test",
     "locked": true,
     "points": 1,
     "schema_version": 1,
     "solution": false
    }
   },
   "outputs": [],
   "source": [
    "assert reverse('abc 123') == '321 cba'\n",
    "assert reverse('grav ned den varg') == 'grav ned den varg'"
   ]
  },
  {
   "cell_type": "markdown",
   "metadata": {
    "nbgrader": {
     "grade": false,
     "grade_id": "txt_delivery",
     "locked": true,
     "schema_version": 1,
     "solution": false
    }
   },
   "source": [
    "## Levere\n",
    "For å levere koden din går du tilbake til menyen og velger fanen *Assignments*.\n",
    "<ul id=\"tabs\" class=\"nav nav-tabs\">\n",
    "    <li><a>Files</a></li>\n",
    "    <li><a>Running</a></li>\n",
    "    <li><a>Clusters</a></li>\n",
    "    <li class=\"active\" ><a>Assignments</a></li>\n",
    "</ul>\n",
    "\n",
    "Du kan da trykke <button class=\"btn btn-default btn-xs\">Validate</button>-knappen for at Jupyter skal kjøre koden din om igjen.\n",
    "\n",
    "<div class=\"alert alert-danger\">\n",
    "Dersom koden din ikke blir validert selv om du kunne ha sverget på at den fungerte er det nok fordi du hadde definert variabler og så slettet definisjonene senere. Variabler Jupyter blir hengende selv om du sletter definisjonene av dem. Du kan trykke <button class=\"btn btn-default\"><i class=\"fa-repeat fa\"></i></button>-knappen øverst som sletter alle variablene. Du må da gjøre all koden igjen som du kan gjøre ved å trykke *Cell - Run all* fra menyen øverst.\n",
    "</div>\n",
    "\n",
    "Så kan du levere koden din ved å trykke <button class=\"btn btn-primary btn-xs\">Submit</button>."
   ]
  }
 ],
 "metadata": {
  "celltoolbar": "Create Assignment",
  "kernelspec": {
   "display_name": "Python 2",
   "language": "python",
   "name": "python2"
  },
  "language_info": {
   "codemirror_mode": {
    "name": "ipython",
    "version": 2
   },
   "file_extension": ".py",
   "mimetype": "text/x-python",
   "name": "python",
   "nbconvert_exporter": "python",
   "pygments_lexer": "ipython2",
   "version": "2.7.13"
  }
 },
 "nbformat": 4,
 "nbformat_minor": 2
}
