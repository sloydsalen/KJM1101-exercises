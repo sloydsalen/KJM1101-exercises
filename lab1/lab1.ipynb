{
 "cells": [
  {
   "cell_type": "markdown",
   "metadata": {},
   "source": [
    "<div class=\"alert alert-danger\"><b>Før du gjør denne øvelsen, bør du gjøre [intro.ipynb](intro.ipynb) som introduserer deg til hvordan disse øvelsene fungerer.</b></div>\n",
    "\n",
    "# Lab 1 - Statistikk\n",
    "I denne øvelsen skal vi se på noen enkle funksjoner for å gjøre grunnleggende statistikk på datasett.\n",
    "\n",
    "## Gjennomsnitt\n",
    "Det første vi skal se på er beregning av gjennomsnitt. Dersom $x_1, x_2, x_3, \\ldots, x_n$ er måledata, er gjennomsnittet $\\bar x$ (uttales \"x bar\") gitt ved\n",
    "$$\\bar x = \\frac1n \\sum_{i=1}^n x_i = \\frac1n \\left(x_1 + x_2 + x_3 + \\ldots + x_n\\right).$$\n",
    "Under er det gitt kode for en funksjon `mean` som regner ut gjennomsnittet til en liste med tall.\n",
    "\n",
    "Du trenger ikke å forstå all koden, men ta en titt på den, og prøv å skjønne hva hver linje gjør. Python-kode er ganske lett å forstå så det burde ikke være helt kryptisk!\n",
    "\n",
    "<div class=\"alert alert-warning\">\"`#`\" i koden under betyr at linjen er en kommentar. Kommentarene skriver programmereren for å forklare hva koden gjør. Når du kjører programmer blir teksten etter en # ignorert.</div>"
   ]
  },
  {
   "cell_type": "code",
   "execution_count": null,
   "metadata": {
    "collapsed": true
   },
   "outputs": [],
   "source": [
    "# This is a simple function to calculate the mean of the elements in a list\n",
    "def mean(data):\n",
    "    \n",
    "    # Find the number of elements\n",
    "    n = len(data)\n",
    "    \n",
    "    # For each element in the list, add the element to the total\n",
    "    total = 0\n",
    "    for x in data:\n",
    "        total = total + x\n",
    "    \n",
    "    # The mean is the total divided by the number of elements\n",
    "    return total / n"
   ]
  },
  {
   "cell_type": "markdown",
   "metadata": {},
   "source": [
    "<div class=\"alert alert-danger\">Husk å kjøre koden over ved å sette markøren i cellen og trykke `ctrl-Enter`.</div>\n",
    "\n",
    "Nedenfor ser du hvordan vi kan bruke funksjonen <b>mean</b> til å utføre en beregning på et sett med tall og samtidig skrive ut resultatet. Vi legger tallene i en liste. Eksempel på en liste som inneholder fire tall er: [1,2,3,4].    \n",
    "Prøv å regne ut gjennomsnittet til noen lister ved å endre koden under. Du kan endre verdiene og legge til eller fjerne tall fra listen.\n",
    "\n",
    "<div class=\"alert alert-warning\">Legg merke til at man bruker punktum som desimaltegn i Python, i motsetning til komma som man bruker på norsk. Komma brukes derimot som skilletegn mellom hver verdi.</div>"
   ]
  },
  {
   "cell_type": "code",
   "execution_count": null,
   "metadata": {
    "collapsed": true
   },
   "outputs": [],
   "source": [
    "print(mean([1.2, 2.7, 5.3]))"
   ]
  },
  {
   "cell_type": "markdown",
   "metadata": {},
   "source": [
    "<b>Oppgave:</b> Regn ut det gjennomsnittlige volumet til pipetten, målesylinderen og begerglasset fra verdiene du har fått oppgitt i prelab. Kopier koden under til neste tomme celle. Du kan nå bytte ut tallene fra eksemplet med tallene fra prelab, og kjøre koden slik du har lært. (Du har bare tall for pipette og målesylinder fra prelab).\n",
    "\n",
    "```python\n",
    "pipette_data = [25.000, 25.000, 25.000, 25.000, 25.000]\n",
    "pipette_mean = mean(pipette_data)\n",
    "print('Mean volume pipette:', pipette_mean, 'mL')\n",
    "\n",
    "cylinder_data = [25.000, 25.000, 25.000, 25.000, 25.000]\n",
    "cylinder_mean = mean(pipette_data)\n",
    "print('Mean volume graduated cylinder:', cylinder_mean, 'mL')\n",
    "\n",
    "beaker_data = [25.000, 25.000, 25.000, 25.000, 25.000]\n",
    "beaker_mean = mean(beaker_data)\n",
    "print('Mean volume graduated beaker:', beaker_mean, 'mL')\n",
    "```"
   ]
  },
  {
   "cell_type": "code",
   "execution_count": null,
   "metadata": {
    "collapsed": true
   },
   "outputs": [],
   "source": []
  },
  {
   "cell_type": "markdown",
   "metadata": {},
   "source": [
    "## Varians og standardavvik\n",
    "Varians og standardavvik er et mål på spredningen til data. Den empiriske variansen $s^2$ regnes ut ved\n",
    "$$s^2 = \\frac1{n-1} \\sum_{i=1}^n \\left(x_i - \\bar x \\right)^2$$\n",
    "der $\\bar x$ er gjennomsnittet regnet ut i forrige oppgave.\n",
    "\n",
    "Standardavviket $s = \\sqrt{s^2}$.\n",
    "\n",
    "Under er det gitt en funksjon for å regne ut variansen til en liste med tall."
   ]
  },
  {
   "cell_type": "code",
   "execution_count": null,
   "metadata": {
    "collapsed": true
   },
   "outputs": [],
   "source": [
    "# This function calulcates the variance of the elements in \n",
    "# a list by using the `mean` function made previously\n",
    "def variance(data):\n",
    "    # First calculate the mean:\n",
    "    xbar = mean(data)\n",
    "    \n",
    "    # Find the number of elements\n",
    "    n = len(data)\n",
    "    \n",
    "    # For each element in the list subtract the mean,\n",
    "    # square the difference and add it to the total.\n",
    "    total = 0\n",
    "    for x in data:\n",
    "        total += (x - xbar)**2\n",
    "    \n",
    "    # Finally, the variance is the total divided by (n - 1)\n",
    "    return total / (n - 1)"
   ]
  },
  {
   "cell_type": "markdown",
   "metadata": {},
   "source": [
    "<div class=\"alert alert-danger\">Husk å kjøre koden over ved å sette markøren i cellen og trykke `ctrl-Enter`.</div>\n",
    "\n",
    "\n",
    "<b>Oppgave:</b>\n",
    "Regn ut variansen til volumet til pipetten, målesylinderen og begerglasset fra prelab verdiene. Dersom du la inn prelab verdiene tidligere er det ikke nødvendig å skrive inn dataene på nytt. De er allerede lagret i variablene `pipette_data`, `cylinder_data` og `beaker_data` fra cellene over der gjennomsnittet ble regnet ut. Under er det vist hvordan man kan gjøre dette for pipetten. Skriv det inn i cellen under og gjør tilsvarende for målesylinderen og målebegeret.\n",
    "\n",
    "```python\n",
    "pipette_var = variance(pipette_data)\n",
    "print('Variance volume pipette:', pipette_var, 'mL^2')\n",
    "```"
   ]
  },
  {
   "cell_type": "code",
   "execution_count": null,
   "metadata": {
    "collapsed": true
   },
   "outputs": [],
   "source": []
  },
  {
   "cell_type": "markdown",
   "metadata": {},
   "source": [
    "Standardavviket er kvadratroten av variansen.\n",
    "Under ser du en funksjon som beregner standardavvik:"
   ]
  },
  {
   "cell_type": "code",
   "execution_count": null,
   "metadata": {
    "collapsed": true
   },
   "outputs": [],
   "source": [
    "# This function calulcates the standard deviation\n",
    "def standard_deviation(data):\n",
    "    return (variance(data))**0.5"
   ]
  },
  {
   "cell_type": "markdown",
   "metadata": {},
   "source": [
    "<b>Oppgave:</b> \n",
    "```python\n",
    "pipette_std = standard_deviation(pipette_data)\n",
    "print('Standard deviation volume pipette:', pipette_std, 'mL^2')\n",
    "```\n",
    "\n",
    "Beregn standardavvik ved å kopiere koden inn i cellen under. Gjør tilsvarende for målesylinderen og målebegeret."
   ]
  },
  {
   "cell_type": "code",
   "execution_count": null,
   "metadata": {
    "collapsed": true
   },
   "outputs": [],
   "source": []
  },
  {
   "cell_type": "markdown",
   "metadata": {},
   "source": [
    "# Varians og standardavvik for data målt på lab\n",
    "\n",
    "<b>Oppgave:</b>\n",
    "Bytt ut prelab data med dine egne målte data og regn ut standardavvik og varians på nytt."
   ]
  },
  {
   "cell_type": "markdown",
   "metadata": {},
   "source": [
    "## Tetthet\n",
    "Som en del av prelab skal du beregne gjennomsnittlig tetthet og standardavvik i en saltløsning. Du kan regne om massene dine til tetthet ved å dele på volumet på følgende måte:\n",
    "```python\n",
    "solution_masses = [26.2,26.3,26.4,26.2,26.3]\n",
    "solution_density = [mass/pipette_mean for mass in solution_masses]\n",
    "```\n",
    "Hvis du vil se tetthetene du har beregnet, kan du legge til en linje med\n",
    "\n",
    "print(solution_density)\n",
    "\n",
    "Bruk dette sammen med det du har lært tidligere i denne øvelsen til å regne ut gjennomsnittlig tetthet og standardavvik for saltløsningene. Når du er ferdig med det eksperimentelle arbeidet, kan du bruke den samme funksjonen for å beregne tetthet i løsningene du laget, men da må du huske å bruke det kalibrerte volumet av pipetten, altså pipette_mean for de eksperimentelle dataene.\n",
    "\n",
    "\n",
    "\n",
    "### Gjennomsnitt"
   ]
  },
  {
   "cell_type": "code",
   "execution_count": null,
   "metadata": {
    "collapsed": true
   },
   "outputs": [],
   "source": []
  },
  {
   "cell_type": "markdown",
   "metadata": {},
   "source": [
    "### Varians og standardavvik"
   ]
  },
  {
   "cell_type": "code",
   "execution_count": null,
   "metadata": {
    "collapsed": true
   },
   "outputs": [],
   "source": []
  }
 ],
 "metadata": {
  "kernelspec": {
   "display_name": "Python 3",
   "language": "python",
   "name": "python3"
  },
  "language_info": {
   "codemirror_mode": {
    "name": "ipython",
    "version": 3
   },
   "file_extension": ".py",
   "mimetype": "text/x-python",
   "name": "python",
   "nbconvert_exporter": "python",
   "pygments_lexer": "ipython3",
   "version": "3.6.1"
  }
 },
 "nbformat": 4,
 "nbformat_minor": 2
}
