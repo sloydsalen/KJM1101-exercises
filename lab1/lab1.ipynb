{
 "cells": [
  {
   "cell_type": "markdown",
   "metadata": {
    "nbgrader": {
     "grade": false,
     "grade_id": "intro",
     "locked": true,
     "schema_version": 1,
     "solution": false
    }
   },
   "source": [
    "<div class=\"alert alert-danger\"><b>Før du gjør denne øvelsen, burde du gjøre [intro.ipynb](intro.ipynb) som introduserer deg til hvordan disse øvelsene fungerer.</b></div>\n",
    "\n",
    "# Lab 1 - Statistikk\n",
    "I denne øvelsen skal se på noen enkle funksjoner for å gjøre grunnleggende statistikk på datasett.\n",
    "\n",
    "## Gjennomsnitt\n",
    "Det første vi skal se på er gjennomsnitt. Dersom $x_1, x_2, x_3, \\ldots, x_n$ er måledata, er gjennomsnittet $\\bar x$ (uttales \"x bar\") gitt ved\n",
    "$$\\bar x = \\frac1n \\sum_{i=1}^n x_i = \\frac1n \\left(x_1 + x_2 + x_3 + \\ldots + x_n\\right).$$\n",
    "Under er det gitt kode for en funksjone `mean` som regner ut gjennomsnittet til en liste tall.\n",
    "\n",
    "På dette tidspunktet kan du nok lite programmering så du trenger ikke å forstå all koden. Men ta en titt på den, og prøv å skjønne hva hver linje gjør. Python-kode er ganske lett å forstå så det burde ikke være helt kryptisk!\n",
    "\n",
    "<div class=\"alert alert-warning\">\"`#`\" i koden under betyr at linjen er en kommentar. Kommentarene forteller deg hva hver bit med kode gjør. Når du kjører programmer blir ikke linjene med kode kjørt.</div>"
   ]
  },
  {
   "cell_type": "code",
   "execution_count": null,
   "metadata": {
    "collapsed": true,
    "nbgrader": {
     "grade": false,
     "grade_id": "mean",
     "locked": true,
     "schema_version": 1,
     "solution": false
    }
   },
   "outputs": [],
   "source": [
    "# This is a simple function to calculate the mean of the elements in a list\n",
    "def mean(data):\n",
    "    \n",
    "    # Find the number of elements\n",
    "    n = len(data)\n",
    "    \n",
    "    # For each element in the list, add the element to the total\n",
    "    total = 0\n",
    "    for x in data:\n",
    "        total = total + x\n",
    "    \n",
    "    # The mean is the total divided by the number of elements\n",
    "    return total / n"
   ]
  },
  {
   "cell_type": "markdown",
   "metadata": {
    "nbgrader": {
     "grade": false,
     "grade_id": "mean_text",
     "locked": true,
     "schema_version": 1,
     "solution": false
    }
   },
   "source": [
    "<div class=\"alert alert-danger\">Husk å kjøre koden over ved å sette markøren i cellen og trykke `ctrl-Enter`.</div>\n",
    "\n",
    "Prøv å regne ut gjennomsnittet til noen lister ved å endre koden under. Du kan endre verdiene og legge til eller fjerne tall fra listen.\n",
    "\n",
    "<div class=\"alert alert-warning\">Legg merke til at man bruker punktum som desimaltegn i Python i motsetning til komma som man bruker på norsk. Komma brukes derimot som skilletegn mellom hver verdi.</div>"
   ]
  },
  {
   "cell_type": "code",
   "execution_count": null,
   "metadata": {
    "collapsed": true
   },
   "outputs": [],
   "source": [
    "print(mean([1.2, 2.8, 5.3]))"
   ]
  },
  {
   "cell_type": "markdown",
   "metadata": {
    "nbgrader": {
     "grade": false,
     "grade_id": "mean_text2",
     "locked": true,
     "schema_version": 1,
     "solution": false
    }
   },
   "source": [
    "Regn ut det gjennomsnittetlige volumet til pipetten, målesylinderen og begerglasset fra verdiene du målte på lab ved å kopiere koden under. Du trenger bare endre tallene på slutten av hver linje til dine egne.\n",
    "```python\n",
    "pipette_data = [25.000, 25.000, 25.000, 25.000, 25.000]\n",
    "pipette_mean = mean(pipette_data)\n",
    "print('Mean volume pipette:', pipette_mean, 'mL')\n",
    "\n",
    "cylinder_data = [25.000, 25.000, 25.000, 25.000, 25.000]\n",
    "cylinder_mean = mean(pipette_data)\n",
    "print('Mean volume graduated cylinder:', cylinder_mean, 'mL')\n",
    "\n",
    "beaker_data = [25.000, 25.000, 25.000, 25.000, 25.000]\n",
    "beaker_mean = mean(beaker_data)\n",
    "print('Mean volume graduated beaker:', beaker_mean, 'mL')\n",
    "```"
   ]
  },
  {
   "cell_type": "code",
   "execution_count": null,
   "metadata": {
    "collapsed": true,
    "nbgrader": {
     "grade": true,
     "grade_id": "mean_volume",
     "locked": false,
     "points": 1,
     "schema_version": 1,
     "solution": true
    }
   },
   "outputs": [],
   "source": []
  },
  {
   "cell_type": "markdown",
   "metadata": {
    "nbgrader": {
     "grade": false,
     "grade_id": "var_text",
     "locked": true,
     "schema_version": 1,
     "solution": false
    }
   },
   "source": [
    "## Varians og standardavvik\n",
    "Varians og standardavvik er et mål på spredningen til data. Den empiriske variansen $s^2$ regnes ut ved\n",
    "$$s^2 = \\frac1{n-1} \\sum_{i=1}^n \\left(x_i - \\bar x \\right)^2$$\n",
    "der $\\bar x$ er gjennomsnittet regnet ut i forrige oppgave.\n",
    "\n",
    "Standardavviket $s$ er følgelig $s = \\sqrt{s^2}$.\n",
    "\n",
    "Under er det gitt en funksjon for å regne ut variansen til en liste med tall."
   ]
  },
  {
   "cell_type": "code",
   "execution_count": null,
   "metadata": {
    "collapsed": true,
    "nbgrader": {
     "grade": false,
     "grade_id": "var_code",
     "locked": true,
     "schema_version": 1,
     "solution": false
    }
   },
   "outputs": [],
   "source": [
    "# This function calulcates the variance of the elements in \n",
    "# a list by using the `mean` function made previously\n",
    "def var(data):\n",
    "    # First calculate the mean, it will be used later\n",
    "    xbar = mean(data)\n",
    "    \n",
    "    # Find the number of elements\n",
    "    n = len(data)\n",
    "    \n",
    "    # For each element in the list, take the difference\n",
    "    # from the mean and square it to the total of the sum\n",
    "    total = 0\n",
    "    for x in data:\n",
    "        total += (x - xbar)**2\n",
    "    \n",
    "    # Finally, the variance is the total divided by (n - 1)\n",
    "    return total / (n - 1)"
   ]
  },
  {
   "cell_type": "markdown",
   "metadata": {
    "nbgrader": {
     "grade": false,
     "grade_id": "var_text2",
     "locked": true,
     "schema_version": 1,
     "solution": false
    }
   },
   "source": [
    "<div class=\"alert alert-danger\">Husk å kjøre koden over ved å sette markøren i cellen og trykke `ctrl-Enter`.</div>\n",
    "\n",
    "Regn ut det variansen til volumet til pipetten, målesylinderen og begerglasset fra verdiene du målte på lab. Legg merke til at det ikke er nødvendig å skrive inn dataene på nytt siden de allerede er lagret i variablene `pipette_data`, `cylinder_data` og `beaker_data` fra cellene over der gjennomsnittet ble regnet ut. Under er detvist hvordan man kan gjøre det for pipetten. Skriv det inn i cellen under og gjør tilsvarende for målesylinderen og målebegeret.\n",
    "\n",
    "```python\n",
    "pipette_var = var(pipette_data)\n",
    "print('Variance volume pipette:', pipette_var, 'mL^2')\n",
    "```"
   ]
  },
  {
   "cell_type": "code",
   "execution_count": null,
   "metadata": {
    "collapsed": true,
    "nbgrader": {
     "grade": true,
     "grade_id": "var_volume",
     "locked": false,
     "points": 1,
     "schema_version": 1,
     "solution": true
    }
   },
   "outputs": [],
   "source": []
  },
  {
   "cell_type": "markdown",
   "metadata": {
    "nbgrader": {
     "grade": false,
     "grade_id": "density_text",
     "locked": true,
     "schema_version": 1,
     "solution": false
    }
   },
   "source": [
    "## Tetthet\n",
    "I øvelsen målte du også tetthetene til et utvalg saltløsninger. Bruk det du har lært tidligere i denne øvelsen til å regne ut gjennomsnittlig tetthet og varians for saltløsningene.\n",
    "\n",
    "### Gjennomsnitt"
   ]
  },
  {
   "cell_type": "code",
   "execution_count": null,
   "metadata": {
    "collapsed": true,
    "nbgrader": {
     "grade": true,
     "grade_id": "mean_density",
     "locked": false,
     "points": 1,
     "schema_version": 1,
     "solution": true
    }
   },
   "outputs": [],
   "source": []
  },
  {
   "cell_type": "markdown",
   "metadata": {
    "nbgrader": {
     "grade": false,
     "grade_id": "density_text2",
     "locked": true,
     "schema_version": 1,
     "solution": false
    }
   },
   "source": [
    "### Varians"
   ]
  },
  {
   "cell_type": "code",
   "execution_count": null,
   "metadata": {
    "collapsed": true,
    "nbgrader": {
     "grade": true,
     "grade_id": "var_density",
     "locked": false,
     "points": 1,
     "schema_version": 1,
     "solution": true
    }
   },
   "outputs": [],
   "source": []
  }
 ],
 "metadata": {
  "hide_code_all_hidden": false,
  "kernelspec": {
   "display_name": "Python 3",
   "language": "python",
   "name": "python3"
  },
  "language_info": {
   "codemirror_mode": {
    "name": "ipython",
    "version": 3
   },
   "file_extension": ".py",
   "mimetype": "text/x-python",
   "name": "python",
   "nbconvert_exporter": "python",
   "pygments_lexer": "ipython3",
   "version": "3.6.1"
  }
 },
 "nbformat": 4,
 "nbformat_minor": 2
}
