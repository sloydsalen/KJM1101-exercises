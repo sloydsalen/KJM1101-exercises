{
 "cells": [
  {
   "cell_type": "markdown",
   "metadata": {},
   "source": [
    "# Konsentrasjonsfordelingen til en treprotisk syre\n",
    "\n",
    "Dette programmet skal inneholde en funksjon som regner ut konsentrasjonene til SPECIES av en treprotisk syre. Programmet skal lage et tilsvarende plot for arsensyre som for fosforsyre på side 221 i læreboken. Plottet viser sammenhengen mellom pH og konsentrasjonene av de forskjellige SPIECIES til den treprotiske syren.\n",
    "\n",
    "\n",
    "Mye av koden er ferdigskrevet. De stedene hvor du skal fylle inn kode er markert slik:\n",
    " \n",
    "```\n",
    "        ### FORKLARING PÅ HVA SOM SKAL KODES ###\n",
    "```\n",
    "\n",
    "Du kjører koden ved å trykke:   shift + enter\n",
    "\n",
    "\n",
    "<mark><strong>HUSK:</strong></mark> Programmet vil lagre variabler og funksjoner når du kjører bitene av programmet. For å unngå feil bør du nullstille \"output\"-en ofte. Dette gjør du slik:\n",
    "    - klikk på \"Cell\"\n",
    "    - velg \"All Output\"\n",
    "    - klikk på \"Clear\"\n",
    "    \n",
    " ````\n",
    "````\n",
    "## Utregning av konsentrasjon ved gitt pH\n",
    "\n",
    "Funksjonen `triprotic_acid` regner ut returnerer konsentrasjonene til alle fire SPECIES til en tre-protisk syre. Syrekonstantene $K_{a1}$, $K_{a2}$ og $K_{a3}$ samt pH-verdien til løsningen tas inn som parameter. \n",
    "\n",
    "`p` er konsentrasjonen proton i løsningen, eller $[H^+]$.\n",
    "\n",
    "Plottet som lages senere i programmet vil være for arsensyre. I funksjonen vil variabelnavnene for konsentrasjonene som skal regnes ut da være som følger:  \n",
    "\n",
    "`H3X ` $= [H_{3}AsO_{4}]$\n",
    "\n",
    "`H2X ` $= [H_{2}AsO_{4}^{-1}]$\n",
    "\n",
    "`HX ` $= [HAsO_{4}^{-2}]$\n",
    "\n",
    "`X ` $= [AsO_{4}^{-3}]$\n",
    "\n",
    "Forklaring på hvordan konsentrasjonene regnes ut finner du i læreboken på side 221. \n"
   ]
  },
  {
   "cell_type": "code",
   "execution_count": null,
   "metadata": {
    "collapsed": true
   },
   "outputs": [],
   "source": [
    "import numpy as np\n",
    "import matplotlib.pyplot as plt\n",
    "\n",
    "\n",
    "def triprotic_acid(pH, Ka1, Ka2, Ka3):\n",
    "    ''' calculates concentration. \n",
    "    1 M solution of a triprotic acid.\n",
    "    Ka is the acid dissociation constant.'''\n",
    "    p = 10**(-pH)    \n",
    "    H3X = 1/(1 + Ka1/p + Ka1*Ka2/p**2 + Ka1*Ka2*Ka3/p**3) \n",
    "    H2X = H3X*Ka1/p         \n",
    "    HX= H2X*Ka2/p   \n",
    "    X = HX*Ka3/p             \n",
    "    return H3X, H2X, HX, X "
   ]
  },
  {
   "cell_type": "markdown",
   "metadata": {},
   "source": [
    "<div class=\"alert alert-info\">\n",
    "TIL LÆRERE:\n",
    "\n",
    "Det er ingen testfunksjon til denne oppgaven, men det ligner såpass på det som er i boken at man kan lett forstå om man har gjort riktig. Hvis man gjør feil, vil nok oftest plottet se veldig annerledes ut.\n",
    "\n",
    "\n",
    "Slik ser plottet ut i boken:\n",
    "</div>"
   ]
  },
  {
   "cell_type": "code",
   "execution_count": null,
   "metadata": {
    "collapsed": false
   },
   "outputs": [],
   "source": [
    "# entire cell for teachers only\n",
    "N = 400\n",
    "pH = np.linspace(1e-5, 14, N)\n",
    "\n",
    "# phosphoric acid\n",
    "\n",
    "H3PO4, H2PO4, HPO4, PO4 = triprotic_acid(pH, 7.5e-3, 6.2e-8, 4.8e-13)\n",
    "\n",
    "plt.plot(pH, H3PO4, label='$H_{3}PO_{4}$')\n",
    "plt.plot(pH, H2PO4, label='$H_{2}PO_{4}^{-1}$')\n",
    "plt.plot(pH, HPO4, label='$HPO_{4}^{-2}$')\n",
    "plt.plot(pH, PO4, label='$PO_{4}^{-3}$')\n",
    "plt.legend()\n",
    "plt.title('Phosphoric acid')\n",
    "plt.xlabel('pH')\n",
    "plt.ylabel('fraction')\n",
    "plt.show()"
   ]
  },
  {
   "cell_type": "markdown",
   "metadata": {},
   "source": [
    "## Beregning og plot\n",
    "\n",
    "Koden for plotting under er ferdigskrevet. Alt du trenger å gjøre, er å kjøre koden.\n",
    "\n",
    "Her er en forklaring på hva som skjer i koden under:\n",
    "\n",
    "`pH` er et array med pH-verdier fra (nesten) null til 14. Det blir opprettet tomme array til hvert av SPECIES, som er like store som `pH`. `triprotic_acid` blir så kalt på med hele arrayet `pH`, og de tomme arrayene til SPECIES blir fylt opp med utregnet konsentrasjon for hver pH-verdi i arrayet. Alle SPECIES plottes så mot pH i samme plot. "
   ]
  },
  {
   "cell_type": "code",
   "execution_count": null,
   "metadata": {
    "collapsed": false,
    "scrolled": true
   },
   "outputs": [],
   "source": [
    "N = 400\n",
    "pH = np.linspace(1e-5, 14, N)\n",
    "\n",
    "# arsenic acid\n",
    "Ka1 = 5.5e-3\n",
    "Ka2 = 1.7e-7\n",
    "Ka3 = 5.1e-12\n",
    "\n",
    "H3AsO4, H2AsO4, HAsO4, AsO4 = triprotic_acid(pH, Ka1, Ka2, Ka3)\n",
    "\n",
    "plt.figure(figsize=(20,12))\n",
    "plt.plot(pH, H3AsO4, label='$H_{3}AsO_{4}$')\n",
    "plt.plot(pH, H2AsO4, label='$H_{2}AsO_{4}^{-1}$')\n",
    "plt.plot(pH, HAsO4, label='$HAsO_{4}^{-2}$')\n",
    "plt.plot(pH, AsO4, label='$AsO_{4}^{-3}$')\n",
    "plt.legend()\n",
    "plt.xticks(range(15))\n",
    "plt.title('Arsenic acid')\n",
    "plt.xlabel('pH')\n",
    "plt.ylabel('fraction')\n",
    "plt.show()\n",
    "\n"
   ]
  },
  {
   "cell_type": "markdown",
   "metadata": {},
   "source": [
    "## Toprotisk syre\n",
    "Plottet nedenfor er laget ved hjelp av ```triprotic_acid``` selv om det er en toprotisk syre. Hvordan tror du dette ble gjort?\n",
    "\n",
    "<div class=\"alert alert-info\">\n",
    "<strong>TIL LÆRERE:</strong> Det er ikke noe problem å bruke funksjonen til to-protiske syrer også. Det gjøres enkelt ved å sette Ka3 til 0. Dette leddet faller da bare bort ved utregning av, i dette tilfellet, $ H_2C_2O_4 $, og den siste konsentrasjonen som returneres vil være null (som stemmer ganske bra). Det eneste \"problemet\" er mer et estetisk problem, nemlig at variabelnavnene blir noe misvisende.\n",
    "</div>\n",
    "\n",
    "\n",
    "Studer plottet og avgjør hvilken av syrene fra tabell 7.4 (side 219 i læreboken) dette bjerrumplottet tilhører. Syren kan enkelt indentifiseres ved å lese av pKa-verdiene for protolysetrinnene. \n",
    "\n",
    "<div class=\"alert alert-info\">\n",
    "<strong>TIL LÆRERE:</strong> Dette er Oxalic acid. </div>\n",
    "![unknown acid](unknownAcid.png)"
   ]
  },
  {
   "cell_type": "markdown",
   "metadata": {},
   "source": [
    "<div class=\"alert alert-info\">\n",
    "<strong>TIL LÆRERE: </strong>Resten av cellene nedenfor er bare laget for å plukke ut syre for siste spørsmålet.\n",
    "</div>"
   ]
  },
  {
   "cell_type": "code",
   "execution_count": null,
   "metadata": {
    "collapsed": false
   },
   "outputs": [],
   "source": [
    "# Choosing acid for next question.\n",
    "\n",
    "N = 400\n",
    "pH = np.linspace(1e-5, 14, N)\n",
    "\n",
    "LIST = [(Ka1, Ka2), (1.5e-2, 1e-7), (1e-7, 1e-19), (6.5e-2, 6.1e-5), (7.9e-5, 1.6e-12)]\n",
    "names = ['Carbonic acid', 'Sulfurous acid', 'Hydrosulfuric acid', 'Oxalic acid', 'Ascorbic acid']\n",
    "\n",
    "i = 0\n",
    "for Ka1, Ka2 in LIST:\n",
    "    H2X, HX, X, nothing = triprotic_acid(pH, Ka1, Ka2, 0)\n",
    "\n",
    "    plt.plot(pH, H2X, label='$H_{2}X$')\n",
    "    plt.plot(pH, HX, label='$HX^{-1}$')\n",
    "    plt.plot(pH, X, label='$X^{-2}$')\n",
    "    plt.legend()\n",
    "    plt.title(names[i])\n",
    "    plt.xlabel('pH')\n",
    "    plt.ylabel('fraction')\n",
    "    plt.show()\n",
    "    i += 1"
   ]
  },
  {
   "cell_type": "code",
   "execution_count": null,
   "metadata": {
    "collapsed": false
   },
   "outputs": [],
   "source": [
    "# Oxalic acid\n",
    "\n",
    "N = 400\n",
    "pH = np.linspace(1e-5, 14, N)\n",
    "\n",
    "H2C2O4, HC2O4, C2O4, nothing = triprotic_acid(pH, 6.5e-2, 6.1e-5, 0)\n",
    "\n",
    "\n",
    "plt.figure(figsize=(20,12))\n",
    "plt.plot(pH, H2C2O4, label='$H_{2}X$')\n",
    "plt.plot(pH, HC2O4, label='$HX^{-1}$')\n",
    "plt.plot(pH, C2O4, label='$X^{-2}$')\n",
    "plt.legend()\n",
    "plt.xticks(np.linspace(0,14,29))\n",
    "plt.grid(True)\n",
    "plt.title('Unknown acid')\n",
    "plt.xlabel('pH')\n",
    "plt.ylabel('fraction')\n",
    "plt.show()"
   ]
  },
  {
   "cell_type": "code",
   "execution_count": null,
   "metadata": {
    "collapsed": true
   },
   "outputs": [],
   "source": []
  }
 ],
 "metadata": {
  "kernelspec": {
   "display_name": "Python 3",
   "language": "python",
   "name": "python3"
  },
  "language_info": {
   "codemirror_mode": {
    "name": "ipython",
    "version": 3
   },
   "file_extension": ".py",
   "mimetype": "text/x-python",
   "name": "python",
   "nbconvert_exporter": "python",
   "pygments_lexer": "ipython3",
   "version": "3.6.0"
  }
 },
 "nbformat": 4,
 "nbformat_minor": 2
}
