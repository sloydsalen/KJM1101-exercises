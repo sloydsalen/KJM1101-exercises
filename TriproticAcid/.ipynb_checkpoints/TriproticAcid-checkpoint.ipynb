{
 "cells": [
  {
   "cell_type": "markdown",
   "metadata": {},
   "source": [
    "# Konsentrasjonsfordelingen til en treprotisk syre"
   ]
  },
  {
   "cell_type": "markdown",
   "metadata": {},
   "source": [
    "Dette programmet skal inneholde en funksjon som regner ut konsentrasjonene til SPECIES av en treprotisk syre. Programmet skal lage et tilsvarende plot for arsensyre som for fosforsyre på side 221 i læreboken. Plottet viser sammenhengen mellom pH og konsentrasjonene av de forskjellige SPIECIES til den treprotiske syren.\n",
    "\n",
    "\n",
    "Mye av koden er ferdigskrevet. De stedene hvor du skal fylle inn kode er markert slik:\n",
    " \n",
    "```\n",
    "        # FORKLARING PÅ HVA SOM SKAL KODES\n",
    "```\n",
    "\n",
    "Du kjører koden ved å trykke:   shift + enter\n",
    "\n",
    "\n",
    "HUSK: Programmet vil lagre variabler og funksjoner når du kjører bitene av programmet. For å unngå feil bør du nullstille \"output\"-en ofte. Dette gjør du slik:\n",
    "    - klikk på \"Cell\"\n",
    "    - velg \"All Output\"\n",
    "    - klikk på \"Clear\"\n",
    "    \n",
    " ````\n",
    "````\n"
   ]
  },
  {
   "cell_type": "markdown",
   "metadata": {},
   "source": [
    "Funksjonen `triprotic_acid` regner ut returnerer konsentrasjonene til alle fire SPECIES til en tre-protisk syre. Syrekonstantene $K_{a1}$, $K_{a2}$ og $K_{a3}$ samt pH-verdien til løsningen tas inn som parameter. \n",
    "\n",
    "`p` er konsentrasjonen proton i løsningen, eller $[H^+]$.\n",
    "\n",
    "Plottet som lages senere i programmet vil være for arsensyre. I funksjonen vil variabelnavnene for konsentrasjonene som skal regnes ut da være som følger:  \n",
    "\n",
    "`H3X ` $= [H_{3}AsO_{4}]$\n",
    "\n",
    "`H2X ` $= [H_{2}AsO_{4}^{-1}]$\n",
    "\n",
    "`HX ` $= [HAsO_{4}^{-2}]$\n",
    "\n",
    "`X ` $= [AsO_{4}^{-3}]$\n",
    "\n",
    "Forklaring på hvordan konsentrasjonene regnes ut finner du i læreboken på side 221. "
   ]
  },
  {
   "cell_type": "code",
   "execution_count": null,
   "metadata": {
    "collapsed": true
   },
   "outputs": [],
   "source": [
    "import numpy as np\n",
    "import matplotlib.pyplot as plt\n",
    "\n",
    "\n",
    "def triprotic_acid(pH, Ka1, Ka2, Ka3):\n",
    "    ''' calculates concentration. \n",
    "    1 M solution of a triprotic acid.\n",
    "    Ka is the acid dissociation constant.'''\n",
    "    p =       # regn ut konsentrasjon proton\n",
    "    H3X =     # regn ut konsentrasjon treprotisk syre\n",
    "    H2X =     # regn ut konsentrasjon toprotisk syre\n",
    "    HX =      # regn ut konsentrasjon énprotisk syre\n",
    "    X =       # regn ut konsentrasjon konjungert base\n",
    "    return H3X, H2X, HX, X "
   ]
  },
  {
   "cell_type": "markdown",
   "metadata": {},
   "source": [
    "Koden for plotting under er ferdigskrevet. Alt du trenger å gjøre, er å kjøre koden.\n",
    "\n",
    "Her er en forklaring på hva som skjer i koden under:\n",
    "\n",
    "`pH` er et array med pH-verdier fra (nesten) null til 14. Det blir opprettet tomme array til hvert av SPECIES, som er like store som `pH`. `triprotic_acid` blir så kalt på med hele arrayet `pH`, og de tomme arrayene til SPECIES blir fylt opp med utregnet konsentrasjon for hver pH-verdi i arrayet. Alle SPECIES plottes så mot pH i samme plot. "
   ]
  },
  {
   "cell_type": "code",
   "execution_count": null,
   "metadata": {
    "collapsed": false
   },
   "outputs": [],
   "source": [
    "N = 400\n",
    "pH = np.linspace(1e-5, 14, N)\n",
    "\n",
    "''' arsenic acid'''\n",
    "Ka1 = 5.5e-3\n",
    "Ka2 = 1.7e-7\n",
    "Ka3 = 5.1e-12\n",
    "\n",
    "H3AsO4 = np.zeros(N)\n",
    "H2AsO4 = np.zeros(N)\n",
    "HAsO4 = np.zeros(N)\n",
    "AsO4 = np.zeros(N)\n",
    "\n",
    "H3AsO4, H2AsO4, HAsO4, AsO4 = triprotic_acid(pH, Ka1, Ka2, Ka3)\n",
    "\n",
    "plt.figure(figsize=(20,12))\n",
    "plt.plot(pH, H3AsO4, label='$H_{3}AsO_{4}$')\n",
    "plt.plot(pH, H2AsO4, label='$H_{2}AsO_{4}^{-1}$')\n",
    "plt.plot(pH, HAsO4, label='$HAsO_{4}^{-2}$')\n",
    "plt.plot(pH, AsO4, label='$AsO_{4}^{-3}$')\n",
    "plt.legend()\n",
    "plt.xticks(range(15))\n",
    "plt.grid(True)\n",
    "plt.title('Arsenic acid')\n",
    "plt.xlabel('pH')\n",
    "plt.ylabel('fraction')\n",
    "plt.show()"
   ]
  },
  {
   "cell_type": "markdown",
   "metadata": {},
   "source": [
    "Bestem pKa-en for de tre protolysetrinnene ved å studere grafen."
   ]
  }
 ],
 "metadata": {
  "kernelspec": {
   "display_name": "Python 2",
   "language": "python",
   "name": "python2"
  },
  "language_info": {
   "codemirror_mode": {
    "name": "ipython",
    "version": 2
   },
   "file_extension": ".py",
   "mimetype": "text/x-python",
   "name": "python",
   "nbconvert_exporter": "python",
   "pygments_lexer": "ipython2",
   "version": "2.7.13"
  }
 },
 "nbformat": 4,
 "nbformat_minor": 2
}
