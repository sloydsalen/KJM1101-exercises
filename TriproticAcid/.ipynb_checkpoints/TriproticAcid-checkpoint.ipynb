{
 "cells": [
  {
   "cell_type": "markdown",
   "metadata": {},
   "source": [
    "# Konsentrasjonsfordelingen til en treprotisk syre"
   ]
  },
  {
   "cell_type": "markdown",
   "metadata": {},
   "source": [
    "Dette programmet skal inneholde en funksjon som regner ut konsentrasjonene til SPECIES av en treprotisk syre. Programmet skal lage et tilsvarende plot for arsensyre som for fosforsyre på side 221 i læreboken. Plottet viser sammenhengen mellom pH og konsentrasjonene av de forskjellige SPIECIES til den treprotoniske syren.\n",
    "\n",
    "\n",
    "Mye av koden er ferdigskrevet. De stedene hvor du må fylle inn kode er markert slik:\n",
    " \n",
    "```\n",
    "        # FORKLARING PÅ HVA SOM SKAL KODES\n",
    "```\n",
    "\n",
    "Du kjører koden ved å trykke:   shift + enter\n",
    "\n",
    "\n",
    "HUSK: Programmet vil lagre variabler og funksjoner når du kjører bitene av programmet. For å unngå feil bør du nullstille \"output\"-en ofte. Dette gjør du slik:\n",
    "    - klikk på \"Cell\"\n",
    "    - velg \"All Output\"\n",
    "    - klikk på \"Clear\"\n",
    "    \n",
    " ````\n",
    "````\n"
   ]
  },
  {
   "cell_type": "markdown",
   "metadata": {},
   "source": [
    "Funksjonen `triprotic_acid` regner ut returnerer konsentrasjonene til alle fire SPECIES til en tre-protisk syre. Syrekonstantene $K_{a1}$, $K_{a2}$ og $K_{a3}$ samt pH-verdien til løsningen tas inn som parameter. \n",
    "\n",
    "`p` er konsentrasjonen proton i løsningen, eller $[H^+]$.\n",
    "\n",
    "Plottet som lages senere i programmet vil være for arsensyre. Variabelnavnene i funksjonen for konsentrasjonene som skal regnes ut vil da være som følger:  \n",
    "\n",
    "`H3X ` $= [H_{3}AsO_{4}]$\n",
    "\n",
    "`H2X ` $= [H_{2}AsO_{4}^{-1}]$\n",
    "\n",
    "`HX ` $= [HAsO_{4}^{-2}]$\n",
    "\n",
    "`X ` $= [AsO_{4}^{-3}]$\n",
    "\n",
    "Forklaring på hvordan konsentrasjonene regnes ut finner du i læreboken på side 221. "
   ]
  },
  {
   "cell_type": "code",
   "execution_count": null,
   "metadata": {
    "collapsed": true
   },
   "outputs": [],
   "source": [
    "import numpy as np\n",
    "import matplotlib.pyplot as plt\n",
    "\n",
    "\n",
    "def triprotic_acid(pH, Ka1, Ka2, Ka3):\n",
    "    ''' calculates concentration. \n",
    "    1 M solution of a triprotic acid.\n",
    "    Ka is the acid dissociation constant.'''\n",
    "    p = 10**(-pH)                        # regn ut konsentrasjon proton\n",
    "    H3X = 1/(1 + Ka1/p + Ka1*Ka2/p**2 + Ka1*Ka2*Ka3/p**3)     # regn ut konsentrasjon treprotisk syre\n",
    "    H2X = H3X*Ka1/p                       # regn ut konsentrasjon toprotisk syre\n",
    "    HX= H2X*Ka2/p                         # regn ut konsentrasjon énprotisk syre\n",
    "    X = HX*Ka3/p                          # regn ut konsentrasjon konjungert base\n",
    "    return H3X, H2X, HX, X "
   ]
  },
  {
   "cell_type": "markdown",
   "metadata": {},
   "source": [
    "TIL LÆRERE:\n",
    "\n",
    "Det er ingen testfunksjon til denne oppgaven, men det ligner såpass på det som er i boken at man kan lett forstå om man har gjort riktig. Hvis man gjør feil, vil nok oftest plottet se veldig annerledes ut.\n",
    "\n",
    "\n",
    "Slik ser plottet ut i boken:"
   ]
  },
  {
   "cell_type": "code",
   "execution_count": null,
   "metadata": {
    "collapsed": false
   },
   "outputs": [],
   "source": [
    "N = 400\n",
    "pH = np.linspace(1e-5, 14, N)\n",
    "\n",
    "# phosphoric acid\n",
    "\n",
    "H3PO4 = np.zeros(N)\n",
    "H2PO4 = np.zeros(N)\n",
    "HPO4 = np.zeros(N)\n",
    "PO4 = np.zeros(N)\n",
    "\n",
    "H3PO4, H2PO4, HPO4, PO4 = triprotic_acid(pH, 7.5e-3, 6.2e-8, 4.8e-13)\n",
    "\n",
    "plt.plot(pH, H3PO4, label='$H_{3}PO_{4}$')\n",
    "plt.plot(pH, H2PO4, label='$H_{2}PO_{4}^{-1}$')\n",
    "plt.plot(pH, HPO4, label='$HPO_{4}^{-2}$')\n",
    "plt.plot(pH, PO4, label='$PO_{4}^{-3}$')\n",
    "plt.legend()\n",
    "plt.title('Phosphoric acid')\n",
    "plt.xlabel('pH')\n",
    "plt.ylabel('fraction')\n",
    "plt.show()"
   ]
  },
  {
   "cell_type": "markdown",
   "metadata": {},
   "source": [
    "Koden for plotting under er ferdigskrevet. Alt du trenger å gjøre, er å kjøre koden.\n",
    "\n",
    "Her er en forklaring på hva som skjer i koden under:\n",
    "\n",
    "`pH` er et array med pH-verdier fra (nesten) null til 14. Det blir opprettet tomme array til hvert av SPECIES, som er like store som `pH`. `triprotic_acid` blir så kalt på med hele arrayet `pH`, og de tomme arrayene til SPECIES blir fylt opp. Alle SPECIES plottes så mot pH i samme plot. "
   ]
  },
  {
   "cell_type": "code",
   "execution_count": null,
   "metadata": {
    "collapsed": false
   },
   "outputs": [],
   "source": [
    "N = 400\n",
    "pH = np.linspace(1e-5, 14, N)\n",
    "\n",
    "''' arsenic acid'''\n",
    "Ka1 = 5.5e-3\n",
    "Ka2 = 1.7e-7\n",
    "Ka3 = 5.1e-12\n",
    "\n",
    "H3AsO4 = np.zeros(N)\n",
    "H2AsO4 = np.zeros(N)\n",
    "HAsO4 = np.zeros(N)\n",
    "AsO4 = np.zeros(N)\n",
    "\n",
    "H3AsO4, H2AsO4, HAsO4, AsO4 = triprotic_acid(pH, Ka1, Ka2, Ka3)\n",
    "\n",
    "plt.figure(figsize=(20,12))\n",
    "plt.plot(pH, H3AsO4, label='$H_{3}AsO_{4}$')\n",
    "plt.plot(pH, H2AsO4, label='$H_{2}AsO_{4}^{-1}$')\n",
    "plt.plot(pH, HAsO4, label='$HAsO_{4}^{-2}$')\n",
    "plt.plot(pH, AsO4, label='$AsO_{4}^{-3}$')\n",
    "plt.legend()\n",
    "plt.xticks([0,1,2,3,4,5,6,7,8,9,10,11,12,13,14])\n",
    "plt.grid(True)\n",
    "plt.title('Arsenic acid')\n",
    "plt.xlabel('pH')\n",
    "plt.ylabel('fraction')\n",
    "plt.show()"
   ]
  },
  {
   "cell_type": "markdown",
   "metadata": {},
   "source": [
    "Bestem pKa-en for de tre protolysetrinnene ved å studere grafen.\n",
    "\n",
    "\n",
    "SVAR:\n",
    "nøyaktige løsninger er 2.25963731051, 6.76955107862 og 11.2924298239"
   ]
  },
  {
   "cell_type": "markdown",
   "metadata": {},
   "source": [
    "TIL LÆRERE:\n",
    "\n",
    "Det er ikke noe problem å bruke funksjonen til to-protiske syrer også. Det gjøres enkelt ved å sette Ka3 til 0. Dette leddet faller da bare bort ved utregning av, i dette tilfellet, $ H_2CO_3 $, og den siste konsentrasjonen som returneres vil være null. (Som stemmer ganske bra). Det eneste \"problemet\" er mer et estetisk problem, nemlig at variabelnavnene blir noe misvisende. \n",
    "\n",
    "\n",
    "Her er et plot som er helt likt side 218:"
   ]
  },
  {
   "cell_type": "code",
   "execution_count": null,
   "metadata": {
    "collapsed": false
   },
   "outputs": [],
   "source": [
    "N = 400\n",
    "pH = np.linspace(1e-5, 14, N)\n",
    "\n",
    "# Carbonic acid\n",
    "Ka1 = 4.3e-7\n",
    "Ka2 = 4.8e-11\n",
    "Ka3 = 0\n",
    "\n",
    "nothing = np.zeros(N)\n",
    "H2CO3 = np.zeros(N)\n",
    "HCO3 = np.zeros(N)\n",
    "CO3 = np.zeros(N)\n",
    "\n",
    "H2CO3, HCO3, CO3, nothing = triprotic_acid(pH, Ka1, Ka2, Ka3)\n",
    "\n",
    "plt.plot(pH, H2CO3, label='$H_{2}CO_{3}$')\n",
    "plt.plot(pH, HCO3, label='$HCO_{3}^{-1}$')\n",
    "plt.plot(pH, CO3, label='$CO_{3}^{-2}$')\n",
    "plt.legend()\n",
    "plt.title('Carbonic acid')\n",
    "plt.xlabel('pH')\n",
    "plt.ylabel('fraction')\n",
    "plt.show()"
   ]
  }
 ],
 "metadata": {
  "kernelspec": {
   "display_name": "Python 2",
   "language": "python",
   "name": "python2"
  },
  "language_info": {
   "codemirror_mode": {
    "name": "ipython",
    "version": 2
   },
   "file_extension": ".py",
   "mimetype": "text/x-python",
   "name": "python",
   "nbconvert_exporter": "python",
   "pygments_lexer": "ipython2",
   "version": "2.7.13"
  }
 },
 "nbformat": 4,
 "nbformat_minor": 2
}
