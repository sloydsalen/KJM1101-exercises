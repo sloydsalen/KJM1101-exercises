{
 "cells": [
  {
   "cell_type": "markdown",
   "metadata": {
    "nbgrader": {
     "grade": false,
     "grade_id": "tittel",
     "locked": true,
     "schema_version": 1,
     "solution": false
    }
   },
   "source": [
    "# Ideell versus van der Waals"
   ]
  },
  {
   "cell_type": "markdown",
   "metadata": {
    "nbgrader": {
     "grade": false,
     "grade_id": "intro",
     "locked": true,
     "schema_version": 1,
     "solution": false
    }
   },
   "source": [
    "Programmet du skal skrive i denne oppgaven, skal regne ut trykk ved å bruke van der Waals ligning. For å kunne sammenligne avviket med en ideell gass, skal du holde alle andre parametere konstant i utregningene.\n",
    "\n",
    "\n",
    "Dette programmet skal inheholde:\n",
    "    - en funksjon som regner ut trykk ved å bruke den ideelle gassloven\n",
    "    - en funksjon som regner ut trykk ved å bruke van der Waals' likning\n",
    "    - en kodesnutt som leser av van der Waalskonstantene fra filen vanDerWaalsConstants.txt, og printer ut utregnet trykk for hver gass som er oppgitt i filen\n",
    " \n",
    "Mye av koden er allerede skrevet, men steder hvor kode mangler er markert slik:\n",
    "     # FORKLARING PÅ HVA SOM SKAL IMPLEMENTERES\n",
    "    \n",
    " \n",
    " \n",
    "Det ligger en testfunksjon i dette programmet. Koden til testfunksjonen er ferdig skrevet, og alt du trenger å gjøre er å kjøre koden når du har skrevet ferdig ideal(n, T, V) og van_der_Waals(n, T, V, a, b). Testfunksjonen vil fortelle deg hvilken av funksjonene som eventuelt ikke returnerer forventet verdi. Merk at testfunksjonen ikke alltid vil finne alle feil, og er ingen absolutt garanti på at funksjonen er implementert helt riktig.\n",
    "\n",
    "Du kjører koden ved å trykke:   shift + enter\n",
    "\n",
    "\n",
    "HUSK: Programmet vil lagre variabler og funksjoner når du kjører bitene av programmet. For å unngå feil bør du nullstille \"output\"-en ofte. Dette gjør du slik:\n",
    "    - klikk på \"Cell\"\n",
    "    - velg \"All Output\"\n",
    "    - klikk på \"Clear\"\n",
    "\n",
    "\n",
    "Gasskonstanten er oppgitt nedenfor. Denne skal ikke redigeres, men du må kjøre koden for at programmet aktiverer og dermed husker variabelen."
   ]
  },
  {
   "cell_type": "code",
   "execution_count": null,
   "metadata": {
    "collapsed": true,
    "nbgrader": {
     "grade": false,
     "grade_id": "gasskonstant",
     "locked": true,
     "schema_version": 1,
     "solution": false
    }
   },
   "outputs": [],
   "source": [
    "R = 0.0821"
   ]
  },
  {
   "cell_type": "markdown",
   "metadata": {
    "nbgrader": {
     "grade": false,
     "grade_id": "forklaring_ideell",
     "locked": true,
     "schema_version": 1,
     "solution": false
    }
   },
   "source": [
    "I neste celle skal du skrive en funksjon som regner ut trykk ved å bruke den ideelle gassloven: $$ P = \\frac{nRT}{V} $$ Hvor P er trykk, T er temperatur målt i Kelvin, n er antall mol og R er gasskonstanten.Gasskonstanten er definert ovenfor som global variabel, og vil derfor kunne brukes så lenge du har kjørt cellen over en gang etter du nullstilte output. Funksjonen tar inn n, T og V som parameter."
   ]
  },
  {
   "cell_type": "code",
   "execution_count": null,
   "metadata": {
    "collapsed": false,
    "nbgrader": {
     "grade": false,
     "grade_id": "Ideell",
     "locked": false,
     "schema_version": 1,
     "solution": true
    }
   },
   "outputs": [],
   "source": [
    "def ideal(n, T, V):\n",
    "    P =    #fyll inn formel her\n",
    "    return P"
   ]
  },
  {
   "cell_type": "markdown",
   "metadata": {
    "nbgrader": {
     "grade": false,
     "grade_id": "beskrivelse_van_der_Waals",
     "locked": true,
     "schema_version": 1,
     "solution": false
    }
   },
   "source": [
    "I neste celle skal du skrive en ny funksjon som regner ut trykk ved å bruke van der Waals' likning: $$ P = \\frac{nRT}{V - nb} - \\frac{an^2}{V^2}$$ Hvor a er konstanten for korreksjon av trykk og b er konstanten for korreksjon av volum. \n",
    "\n",
    "I tillegg til n, T og V, tar funksjonen også inn a og b som parameter."
   ]
  },
  {
   "cell_type": "code",
   "execution_count": null,
   "metadata": {
    "collapsed": false,
    "nbgrader": {
     "grade": false,
     "grade_id": "van_der_Waals",
     "locked": false,
     "schema_version": 1,
     "solution": true
    }
   },
   "outputs": [],
   "source": [
    "def van_der_Waals(n, T, V, a, b):\n",
    "    P =    #fyll inn formel her\n",
    "    return P"
   ]
  },
  {
   "cell_type": "markdown",
   "metadata": {
    "nbgrader": {
     "grade": false,
     "grade_id": "beskrivelse_testfunk",
     "locked": true,
     "schema_version": 1,
     "solution": false
    }
   },
   "source": [
    "Neste celle er en ferdigskrevet testfunksjon som tester de funkjsonene du har skrevet ovenfor. Kjør denne når du er ferdig med å implementere ideal(n, T, V) og van_der_Waals(n, T, V, a, b)."
   ]
  },
  {
   "cell_type": "code",
   "execution_count": null,
   "metadata": {
    "collapsed": false,
    "nbgrader": {
     "grade": true,
     "grade_id": "tester",
     "locked": true,
     "points": 0,
     "schema_version": 1,
     "solution": false
    }
   },
   "outputs": [],
   "source": [
    "n = 1\n",
    "V = 1.30\n",
    "T = 300\n",
    "tol = 1e-8\n",
    "\n",
    "def test_ideal():\n",
    "    expected = 18.9461538462\n",
    "    computed = ideal(n, T, V)\n",
    "    success = abs(expected - computed) < tol\n",
    "    message = 'Funksjonen ideal gir uventet svar!'\n",
    "    assert success, message\n",
    "    \n",
    "def test_van_der_Waals():\n",
    "    expected = 19.2778523533\n",
    "    computed = van_der_Waals(n, T, V, 0.034, 0.0237)\n",
    "    success = abs(expected - computed) < tol\n",
    "    message = 'Funksjonen van_der_Waals gir uventet svar!'\n",
    "    assert success, message\n",
    "\n",
    "test_ideal()\n",
    "\n",
    "test_van_der_Waals()"
   ]
  },
  {
   "cell_type": "markdown",
   "metadata": {
    "nbgrader": {
     "grade": false,
     "grade_id": "skriv_ut_trykk_forklaring",
     "locked": true,
     "schema_version": 1,
     "solution": false
    }
   },
   "source": [
    "I neste celle skal du oppgi antall mol, volum og trykk. Du kan selv velge passende verdier.\n",
    "\n",
    "Filen som skal leses er på denne formen:\n",
    "```\n",
    "Gas     a(atm L^2/mol^2)    b(L/mol)\n",
    "He           0.034           0.0237\n",
    "Ne           0.211           0.0171\n",
    ".              .                .\n",
    ".              .                .\n",
    ".              .                .\n",
    "NH3          4.17            0.0371\n",
    "(values from table 5.3, Chemical Principles)\n",
    "```\n",
    "Fyll inn slik som kommentert nedenfor. Være obs på at verdier hentet ut fra fil alltid vil være av type string. Du må derfor konvertere om a og b til float. Det kan gjøres slik:\n",
    "```\n",
    "        a = float(avlest_verdi_for_a)\n",
    "```\n",
    "\n",
    "Print-statments skal inneholde navnet på gassen, og hva trykket ble. Trykket skal formatteres slik at du begrenser antall siffer som printes ut. Koden for første print-statment er allerede skrevet slik at du kan se på denne om du er usikker på hvordan dette gjøres.\n",
    "\n",
    "Programmet vil åpne filen og lese første linje uten å lagre informasjonen. Resten av linjene hentes ut gjennom en for-løkke. Denne avsluttes når if-testen gjenkjenner siste linje, som begynner med parentes. Fyll in nødvenig kode som beskrevet i for-løkken.\n"
   ]
  },
  {
   "cell_type": "code",
   "execution_count": null,
   "metadata": {
    "collapsed": false,
    "nbgrader": {
     "grade": true,
     "grade_id": "skriv_ut_trykk",
     "locked": false,
     "points": 0,
     "schema_version": 1,
     "solution": true
    }
   },
   "outputs": [],
   "source": [
    "n =    #oppgi antall mol\n",
    "V =    #oppgi volum\n",
    "T =    #oppgi temperatur\n",
    "\n",
    "gas = 'Ideell'\n",
    "ideell = ideal(n, T, V)\n",
    "print '%s : %.1f atm' %(gas, ideell)\n",
    "\n",
    "with open('vanDerWaalsConstants.txt', 'r') as infile:\n",
    "    infile.readline()\n",
    "    for line in infile:\n",
    "        if line[0] == '(':\n",
    "            break\n",
    "        newLine =    #bruk split() for å dele opp line til en liste\n",
    "        gas =        #hent nullte element fra newLine\n",
    "        a =          #hent første element fra newLine og cast til float\n",
    "        b =          #hent andre element fra newLine og cast til float\n",
    "        real =       #kall på van_der_Waals, pass på at du setter inn parameter i riktig rekkefølge\n",
    "        #print ut som vist for ideell\n"
   ]
  }
 ],
 "metadata": {
  "celltoolbar": "Create Assignment",
  "kernelspec": {
   "display_name": "Python 2",
   "language": "python",
   "name": "python2"
  },
  "language_info": {
   "codemirror_mode": {
    "name": "ipython",
    "version": 2
   },
   "file_extension": ".py",
   "mimetype": "text/x-python",
   "name": "python",
   "nbconvert_exporter": "python",
   "pygments_lexer": "ipython2",
   "version": "2.7.13"
  }
 },
 "nbformat": 4,
 "nbformat_minor": 2
}
