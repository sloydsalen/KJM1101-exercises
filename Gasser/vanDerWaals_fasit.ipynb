{
 "cells": [
  {
   "cell_type": "markdown",
   "metadata": {
    "nbgrader": {
     "grade": false,
     "grade_id": "tittel",
     "locked": true,
     "schema_version": 1,
     "solution": false
    }
   },
   "source": [
    "# Reelle gasser\n",
    "\n",
    "Programmet du skal skrive i denne oppgaven, skal regne ut trykk ved å bruke van der Waals ligning. For å kunne sammenligne avviket med en ideell gass, skal du holde alle andre parametere konstant i utregningene.\n",
    "\n",
    "\n",
    "Dette programmet skal inheholde:\n",
    "    - en funksjon som regner ut trykk ved å bruke van der Waals' likning\n",
    "    - en kodesnutt som leser av van der Waalskonstantene fra filen vanDerWaalsConstants.txt, og printer ut utregnet trykk for hver gass som er oppgitt i filen\n",
    " \n",
    "Mye av koden er allerede skrevet, men steder hvor kode mangler er markert slik:\n",
    "     ### FORKLARING PÅ HVA SOM SKAL IMPLEMENTERES ###\n",
    "    \n",
    " \n",
    " \n",
    "Det ligger en testfunksjon i dette programmet. Koden til testfunksjonen er ferdig skrevet, og alt du trenger å gjøre er å kjøre koden når du har skrevet ferdig `van_der_Waals(n, T, V, a, b)`. Testfunksjonen vil fortelle deg om funksjonen eventuelt ikke returnerer forventet verdi. Merk at testfunksjonen ikke alltid vil finne alle feil, og er ingen absolutt garanti på at funksjonen er implementert helt riktig.\n",
    "\n",
    "Du kjører koden ved å trykke:   shift + enter\n",
    "\n",
    "\n",
    "**HUSK:** Programmet vil lagre variabler og funksjoner når du kjører bitene av programmet. For å unngå feil bør du nullstille \"output\"-en ofte. Dette gjør du slik:\n",
    "    - klikk på \"Cell\"\n",
    "    - velg \"All Output\"\n",
    "    - klikk på \"Clear\"\n",
    "\n",
    "I neste celle skal du skrive en ny funksjon som regner ut trykk ved å bruke van der Waals' likning: \n",
    "\n",
    "$$ P = \\frac{nRT}{V - nb} - \\frac{an^2}{V^2}$$ \n",
    "\n",
    "Hvor $a$ er konstanten for korreksjon av trykk og $b$ er konstanten for korreksjon av volum.\n",
    "```\n",
    "\n",
    "```\n",
    "\n",
    "`van_der_Waals` tar inn `n`, ` T`, `V`, `a` og `b` som parameter. Fyll inn utrykket for $P$."
   ]
  },
  {
   "cell_type": "code",
   "execution_count": null,
   "metadata": {
    "collapsed": true,
    "nbgrader": {
     "grade": false,
     "grade_id": "van_der_Waals",
     "locked": false,
     "schema_version": 1,
     "solution": true
    }
   },
   "outputs": [],
   "source": [
    "R =  0.0821   # gas constant\n",
    "\n",
    "def van_der_Waals(n, T, V, a, b):\n",
    "    P = n*R*T/(V - n*b) - a*(n/V)**2\n",
    "    return P"
   ]
  },
  {
   "cell_type": "markdown",
   "metadata": {
    "nbgrader": {
     "grade": false,
     "grade_id": "beskrivelse_testfunk",
     "locked": true,
     "schema_version": 1,
     "solution": false
    }
   },
   "source": [
    "Neste celle er en ferdigskrevet testfunksjon som tester de funkjsonene du har skrevet ovenfor. Kjør denne når du er ferdig med å implementere van_der_Waals(n, T, V, a, b)."
   ]
  },
  {
   "cell_type": "code",
   "execution_count": null,
   "metadata": {
    "collapsed": true,
    "nbgrader": {
     "grade": true,
     "grade_id": "tester",
     "locked": true,
     "points": 0,
     "schema_version": 1,
     "solution": false
    }
   },
   "outputs": [],
   "source": [
    "def test_van_der_Waals():\n",
    "    n = 1\n",
    "    V = 1.30\n",
    "    T = 300\n",
    "    tol = 1e-8\n",
    "    expected = 19.2778523533\n",
    "    computed = van_der_Waals(n, T, V, 0.034, 0.0237)\n",
    "    success = abs(expected - computed) < tol\n",
    "    message = 'Funksjonen van_der_Waals gir uventet svar!'\n",
    "    assert success, message\n",
    "\n",
    "test_van_der_Waals()"
   ]
  },
  {
   "cell_type": "markdown",
   "metadata": {
    "nbgrader": {
     "grade": false,
     "grade_id": "ideell_beskrivelse",
     "locked": true,
     "schema_version": 1,
     "solution": false
    }
   },
   "source": [
    "Vis at van der Waals ligning er lik den ideelle gassloven hvis man setter $a$ og $b$ til å være null. \n",
    "```\n",
    "\n",
    "```\n",
    "I neste celle skal du oppgi antall mol, volum og trykk. Du kan selv velge passende verdier. Kjør så koden for å lagre variablene."
   ]
  },
  {
   "cell_type": "code",
   "execution_count": null,
   "metadata": {
    "collapsed": true,
    "nbgrader": {
     "grade": true,
     "grade_id": "ideell",
     "locked": false,
     "points": 0,
     "schema_version": 1,
     "solution": true
    }
   },
   "outputs": [],
   "source": [
    "moles = 1\n",
    "volume = 1.3\n",
    "temperature = 300\n",
    "\n",
    "gas = 'Ideal'\n",
    "ideal = van_der_Waals(moles, temperature, volume, 0, 0)"
   ]
  },
  {
   "cell_type": "markdown",
   "metadata": {
    "nbgrader": {
     "grade": false,
     "grade_id": "skriv_ut_trykk_forklaring",
     "locked": true,
     "schema_version": 1,
     "solution": false
    }
   },
   "source": [
    "## Lese fil\n",
    "\n",
    "Filen som skal leses er på denne formen:\n",
    "```\n",
    "Gas     a(atm L^2/mol^2)    b(L/mol)\n",
    "He           0.034           0.0237\n",
    "Ne           0.211           0.0171\n",
    ".              .                .\n",
    ".              .                .\n",
    ".              .                .\n",
    "NH3          4.17            0.0371\n",
    "(values from table 5.3, Chemical Principles)\n",
    "```\n",
    "Fyll inn slik som kommentert nedenfor. Være obs på at verdier hentet ut fra fil alltid vil være av type string. Du må derfor konvertere om $a$ og $b$ til float. Det kan gjøres slik:\n",
    "```\n",
    "        a = float(avlest_verdi_for_a)\n",
    "```\n",
    "\n",
    "Print-statments skal inneholde navnet på gassen, og hva trykket ble. Trykket skal formatteres slik at du begrenser antall siffer som printes ut. Koden for første print-statment er allerede skrevet slik at du kan se på denne om du er usikker på hvordan dette gjøres.\n",
    "\n",
    "Programmet vil åpne filen og lese første linje uten å lagre informasjonen. Resten av linjene hentes ut gjennom en for-løkke. Denne avsluttes når if-testen gjenkjenner siste linje, som begynner med parentes. Fyll in nødvenig kode som beskrevet i for-løkken.\n",
    "\n"
   ]
  },
  {
   "cell_type": "code",
   "execution_count": null,
   "metadata": {
    "collapsed": true,
    "nbgrader": {
     "grade": true,
     "grade_id": "skriv_ut_trykk",
     "locked": false,
     "points": 0,
     "schema_version": 1,
     "solution": true
    }
   },
   "outputs": [],
   "source": [
    "print('%s : %.1f atm' %(gas, ideal))\n",
    "\n",
    "with open('vanDerWaalsConstants.txt', 'r') as infile:\n",
    "    # getting rid of first line\\n\",\n",
    "    infile.readline()\n",
    "    for line in infile:\n",
    "        # recognizing the last line in the file\\n\",\n",
    "        if line[0] == '(':\n",
    "            break\n",
    "        newLine = line.split()\n",
    "        gas = newLine[0]\n",
    "        a = float(newLine[1])\n",
    "        b = float(newLine[2])\n",
    "        real = van_der_Waals(moles, temperature, volume, a, b)\n",
    "        print('%s : %.1f atm' %(gas, real))"
   ]
  }
 ],
 "metadata": {
  "kernelspec": {
   "display_name": "Python 3",
   "language": "python",
   "name": "python3"
  },
  "language_info": {
   "codemirror_mode": {
    "name": "ipython",
    "version": 3
   },
   "file_extension": ".py",
   "mimetype": "text/x-python",
   "name": "python",
   "nbconvert_exporter": "python",
   "pygments_lexer": "ipython3",
   "version": "3.6.0"
  }
 },
 "nbformat": 4,
 "nbformat_minor": 2
}
