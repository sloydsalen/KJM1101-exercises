{
 "cells": [
  {
   "cell_type": "markdown",
   "metadata": {},
   "source": [
    "# Reelle gasser\n",
    "\n",
    "\n",
    "\n",
    "Du skal skrive et Python program som beregner trykk for flere ulike <b>reelle</b> gasser.\n",
    "\n",
    "Programmet skal regne ut trykk ved å bruke van der Waals ligning. \n",
    "$$ P = \\frac{nRT}{V - nb} - \\frac{an^2}{V^2}$$ \n",
    "\n",
    "Hvor $a$ er konstanten for korreksjon av trykk og $b$ er konstanten for korreksjon av volum.\n",
    "\n",
    "Verdiene for de empirisk bestemte konstantene a og b skal du hente ut fra filen vanDerWaalsConstants.txt.\n",
    "\n",
    "Til slutt skal du sammenlikne beregningene med trykket for en <b>ideell</b> gass med samme volum, temperatur og stoffmengde.\n",
    "\n",
    "\n",
    "\n",
    "Programmet skal inneholde:\n",
    "    -  en funksjon som regner ut trykk ved å bruke van der Waals likning.\n",
    "    -  kode som leser van der Waalskonstantene fra filen vanDerWaalsConstants.txt.\n",
    "    -  kode som printer ut utregnet trykk for hver gass som er oppgitt i filen.    \n",
    "\n",
    "\n",
    "\n",
    " Mye av koden er allerede skrevet. Steder hvor du skal skrive inn kode er markert slik:\n",
    "     ### FORKLARING PÅ HVA SOM SKAL IMPLEMENTERES ###\n"
   ]
  },
  {
   "cell_type": "markdown",
   "metadata": {},
   "source": [
    "### Tips og triks:\n",
    "\n",
    "Du kjører koden ved å trykke: shift + enter\n",
    "\n",
    "\n",
    "HUSK! Programmet vil lagre variabler og funksjoner når du kjører bitene av programmet. For å unngå feil bør du nullstille \"output\"-en ofte. Dette gjør du slik:\n",
    "    - klikk på \"Cell\"\n",
    "    - velg \"All Output\"\n",
    "    - klikk på \"Clear\"\n",
    "    \n",
    "  <div class=\"alert alert-danger\"> Du må sørge for at alle benevninger er riktige. I denne oppgaven skal stoffmengde (n) være oppgitt i mol, temperatur (T) i Kelvin, trykk (P) i atmosfærer og volum (V) i liter. R= 0.0821 L atm K<sup>-1</sup> mol<sup>-1</sup>.\n",
    "  \n",
    "<p>\n",
    "a og b er oppgitt som henholdsvis atm L<sup>2</sup>mol<sup>-2</sup> og L mol<sup>-1</sup>.\n",
    "  \n",
    "</div>  \n",
    "    \n",
    "\n"
   ]
  },
  {
   "cell_type": "markdown",
   "metadata": {},
   "source": [
    "### Oppgave:\n",
    "\n",
    "I neste celle skal du skrive en funksjon som regner ut trykk ved å bruke van der Waals' likning:\n",
    "$$ P = \\frac{nRT}{V - nb} - \\frac{an^2}{V^2}$$ \n",
    "\n",
    "\n",
    "Funksjonen skal hete: van_der_Waals \n",
    "\n",
    "Funksjonen skal ta inn n, T, V, a og b som parameter. \n",
    "\n",
    "Fyll inn utrykket for $P$."
   ]
  },
  {
   "cell_type": "code",
   "execution_count": null,
   "metadata": {
    "collapsed": true
   },
   "outputs": [],
   "source": [
    "R = 0.0821    # gasskonstant \n",
    "\n",
    "def van_der_Waals(n, T, V, a, b):\n",
    "    P = ### Skriv inn van der Waals tilstandsligning ###\n",
    "    return P"
   ]
  },
  {
   "cell_type": "markdown",
   "metadata": {},
   "source": [
    "<div class=\"alert alert-warning\">Det er lagt inn en testfunksjon i neste celle. Koden til testfunksjonen er ferdig skrevet, og alt du trenger å gjøre er å kjøre koden. \n",
    "Testen går ut på å bruke din funksjon med verdiene n=1, T=300, V=1.30, a=0.034 og b=0.0237. Den sammenlikner så resultatet fra din funksjon med fasiten som ligger i variabelen expected=19.2778523533.</div>\n",
    " \n",
    "### Oppgave:\n",
    " Kjør funksjonen i cellen under når du er ferdig med å implementere van_der_Waals(n, T, V, a, b).\n",
    " \n",
    " <div class=\"alert alert-danger\">Testfunksjonen vil gi en feilmelding hvis funksjonen din ikke returnerer forventet verdi. Hvis du ikke får noen tilbakemelding når du kjører testfunksjonen, regner programmet ditt riktig. </div>\n"
   ]
  },
  {
   "cell_type": "code",
   "execution_count": null,
   "metadata": {
    "collapsed": true
   },
   "outputs": [],
   "source": [
    "def test_van_der_Waals():\n",
    "    expected = 19.2778523533\n",
    "    computed = van_der_Waals(1, 300, 1.30, 0.034, 0.0237)\n",
    "    success = abs(expected - computed) < 1e-8\n",
    "    assert success\n",
    "\n",
    "test_van_der_Waals()"
   ]
  },
  {
   "cell_type": "markdown",
   "metadata": {},
   "source": [
    "### Oppgave:\n",
    "I neste celle skal du oppgi antall mol, volum og trykk. Du kan selv velge passende verdier. Kjør så koden for å lagre variablene. Programmet regner ut ideelt trykk for de oppgitte verdiene.  Overbevis deg selv om at du regner ut det ideelle trykket i cellen under!"
   ]
  },
  {
   "cell_type": "code",
   "execution_count": null,
   "metadata": {
    "collapsed": true
   },
   "outputs": [],
   "source": [
    "moles = ### FYLL INN ###        \n",
    "volume = ### FYLL INN###     \n",
    "temperature = ### FYLL INN ###\n",
    "\n",
    "gas = 'Ideal'\n",
    "ideal = van_der_Waals(moles, temperature, volume, a=0, b=0)"
   ]
  },
  {
   "cell_type": "markdown",
   "metadata": {},
   "source": [
    "## Lese fil\n",
    "\n",
    "Filen som skal leses er på denne formen:\n",
    "```\n",
    "Gas     a(atm L^2/mol^2)    b(L/mol)\n",
    "He           0.034           0.0237\n",
    "Ne           0.211           0.0171\n",
    ".              .                .\n",
    ".              .                .\n",
    ".              .                .\n",
    "NH3          4.17            0.0371\n",
    "(values from table 5.3, Chemical Principles)\n",
    "```\n",
    "Koden i cellen under leser navn på gass og tilhørende verdier for a og b fra filen vanDerWaalsConstants.txt. Vær obs på at verdier hentet ut fra en fil alltid vil være av type string. Du må derfor konvertere om $a$ og $b$ til float. Det kan gjøres slik:\n",
    "```\n",
    "        a = float(avlest_verdi_for_a)\n",
    "```\n",
    "```waan_der_Waals``` skal så kalles på med verdiene for mol, volum, temperatur, a og b som parametre. Pass på at du har skrevet variabelnavnene riktig og i korrekt rekkefølge.\n",
    "\n",
    "Print-statements skal inneholde navnet på gassen, og det utregnede trykket. Trykket skal formateres slik at du begrenser antall siffer som printes ut. Koden for første print-statment er allerede skrevet slik at du kan se på denne om du er usikker på hvordan dette gjøres.\n",
    "\n",
    "Programmet vil åpne filen og lese første linje uten å lagre informasjonen. Resten av linjene hentes ut gjennom en for-løkke. Denne avsluttes når if-testen gjenkjenner siste linje, som begynner med parentes. Fyll inn nødvendig kode som beskrevet i for-løkken.\n",
    "\n"
   ]
  },
  {
   "cell_type": "code",
   "execution_count": null,
   "metadata": {
    "collapsed": true
   },
   "outputs": [],
   "source": [
    "print('%s : %.3f atm' %(gas, ideal))\n",
    "\n",
    "with open('vanDerWaalsConstants.txt', 'r') as infile:\n",
    "    # getting rid of first line\n",
    "    infile.readline()\n",
    "    for line in infile:\n",
    "        # recognizing the last line in the file\n",
    "        if line[0] == '(':\n",
    "            break\n",
    "        newLine =    ### USE split() TO DIVIDE line TO A LIST ###\n",
    "        gas =        ### GET ELEMENT NR. 0 FROM newLine ###\n",
    "        a =          ### GET FIRST ELEMENT FROM newLine AND CAST TO FLOAT ###\n",
    "        b =          ### GET SECOND ELEMENT FROM newLine AND CAST TO FLOAT ###\n",
    "        real =       ### USE van_der_Waals TO CALCULATE PRESSURE ###\n",
    "        ### PRINT NAME OF GAS AND CORRESPONDING PRESSURE ###\n",
    "\n"
   ]
  },
  {
   "cell_type": "markdown",
   "metadata": {},
   "source": [
    "## Spørsmål\n",
    "\n",
    "\n",
    "\n",
    "For hvilke gasser er forskjellen mellom ideelt og reelt trykk minst og størst?\n",
    "\n",
    "Hvilke egenskaper tror du påvirker forskjellen mellom ideelt og reelt trykk, og hvorfor?\n",
    "\n",
    "Prøv å endre noen av parametrene mol, temperatur og volum, og se hvordan det påvirker forskjellen mellom reelt og ideelt trykk. Dette gjør du ved å gå tilbake til cellen der du la inn parametrene, endre dem og kjøre cellen på nytt. Deretter kjører du den siste cellen på nytt. Hva ser du?\n",
    "\n",
    "Vi bør alltid runde av svaret slik at usikkerheten ligger i det siste sifferet. Hva blir antall gjeldende siffer i trykkberegningene du har gjort?\n",
    "\n",
    "Hvordan får du skrevet ut dette riktig fra Python programmet?"
   ]
  },
  {
   "cell_type": "markdown",
   "metadata": {},
   "source": [
    "## Referanse til INF-KJM1900\n",
    "Hvis du trenger litt hjelp med fillesing i Python kan du ta en titt på hvordan læreren i informatikkurset løser oppgave 4.3 i læreboken (A primer on Scientific programming with python, Langtangen).\n",
    "\n",
    "Forelesningen fra 15 September 2016 finner du her:\n",
    "http://www.uio.no/studier/emner/matnat/ifi/INF1100/h16/ressurser/podcast.html\n",
    "\n",
    "15. september, oppgave 4.1, 4.2, 4.3 ca 30 minutter ut i forelesningen.\n",
    "\n",
    "Etterhvert kommer sikkert tilsvarende podcast for 2017."
   ]
  }
 ],
 "metadata": {
  "celltoolbar": "Raw Cell Format",
  "kernelspec": {
   "display_name": "Python 3",
   "language": "python",
   "name": "python3"
  },
  "language_info": {
   "codemirror_mode": {
    "name": "ipython",
    "version": 3
   },
   "file_extension": ".py",
   "mimetype": "text/x-python",
   "name": "python",
   "nbconvert_exporter": "python",
   "pygments_lexer": "ipython3",
   "version": "3.6.1"
  }
 },
 "nbformat": 4,
 "nbformat_minor": 2
}
