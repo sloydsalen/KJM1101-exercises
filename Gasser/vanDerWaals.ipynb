{
 "cells": [
  {
   "cell_type": "markdown",
   "metadata": {},
   "source": [
    "# Reelle gasser\n",
    "\n",
    "Programmet du skal skrive i denne oppgaven, skal regne ut trykk ved å bruke van der Waals ligning. For å kunne sammenligne avviket med en ideell gass, skal du holde alle andre parametere konstant i utregningene.\n",
    "\n",
    "\n",
    "Dette programmet skal inheholde:\n",
    "    - en funksjon som regner ut trykk ved å bruke van der Waals' likning\n",
    "    - en kodesnutt som leser av van der Waalskonstantene fra filen vanDerWaalsConstants.txt, og printer ut utregnet trykk for hver gass som er oppgitt i filen\n",
    " \n",
    "Mye av koden er allerede skrevet, men steder hvor kode mangler er markert slik:\n",
    "     ### FORKLARING PÅ HVA SOM SKAL IMPLEMENTERES ###\n",
    "    \n",
    " \n",
    " \n",
    "Det ligger en testfunksjon i dette programmet. Koden til testfunksjonen er ferdig skrevet, og alt du trenger å gjøre er å kjøre koden når du har skrevet ferdig `van_der_Waals(n, T, V, a, b)`. Testfunksjonen vil fortelle deg om funksjonen eventuelt ikke returnerer forventet verdi. Merk at testfunksjonen ikke alltid vil finne alle feil, og er ingen absolutt garanti på at funksjonen er implementert helt riktig.\n",
    "\n",
    "Du kjører koden ved å trykke:   shift + enter\n",
    "\n",
    "\n",
    "<mark> <strong>HUSK!</strong></mark> Programmet vil lagre variabler og funksjoner når du kjører bitene av programmet. For å unngå feil bør du nullstille \"output\"-en ofte. Dette gjør du slik: \n",
    "        - klikk på \"Cell\"\n",
    "        - velg \"All Output\"\n",
    "        - klikk på \"Clear\"\n",
    " \n",
    " \n",
    "    \n",
    "## van der Waals' likning\n",
    "```\n",
    "```\n",
    "    \n",
    "I neste celle skal du skrive en ny funksjon som regner ut trykk ved å bruke van der Waals' likning: \n",
    "\n",
    "$$ P = \\frac{nRT}{V - nb} - \\frac{an^2}{V^2}$$ \n",
    "\n",
    "Hvor $a$ er konstanten for korreksjon av trykk og $b$ er konstanten for korreksjon av volum.\n",
    "```\n",
    "\n",
    "```\n",
    "\n",
    "`van_der_Waals` tar inn `n`, ` T`, `V`, `a` og `b` som parameter. Fyll inn utrykket for $P$."
   ]
  },
  {
   "cell_type": "code",
   "execution_count": null,
   "metadata": {
    "collapsed": false
   },
   "outputs": [],
   "source": [
    "# gas constant\n",
    "R = 0.0821\n",
    "\n",
    "def van_der_Waals(n, T, V, a, b):\n",
    "    P =    ### FILL IN WAN DER WAALS' FORMULA ###\n",
    "    return P"
   ]
  },
  {
   "cell_type": "markdown",
   "metadata": {},
   "source": [
    "Neste celle er en ferdigskrevet testfunksjon som tester funkjsonen du har skrevet ovenfor. Kjør denne når du er ferdig med å implementere van_der_Waals(n, T, V, a, b)."
   ]
  },
  {
   "cell_type": "code",
   "execution_count": null,
   "metadata": {
    "collapsed": false
   },
   "outputs": [],
   "source": [
    "def test_van_der_Waals():\n",
    "    expected = 19.2778523533\n",
    "    computed = van_der_Waals(1, 300, 1.30, 0.034, 0.0237)\n",
    "    success = abs(expected - computed) < 1e-8\n",
    "    assert success\n",
    "\n",
    "test_van_der_Waals()"
   ]
  },
  {
   "cell_type": "markdown",
   "metadata": {},
   "source": [
    "Vis at van der Waals likning er lik den ideelle gassloven hvis man setter $a$ og $b$ til å være null. \n",
    "```\n",
    "\n",
    "```\n",
    "I neste celle skal du oppgi antall mol, volum og trykk. Du kan selv velge passende verdier. Kjør så koden for å lagre variablene. Programmet regner ut ideelt trykk for de oppgitte verdiene."
   ]
  },
  {
   "cell_type": "code",
   "execution_count": null,
   "metadata": {
    "collapsed": false
   },
   "outputs": [],
   "source": [
    "moles =         ### FILL IN ###\n",
    "volume =        ### FILL IN ###\n",
    "temperature =   ### FILL IN ###\n",
    "\n",
    "gas = 'Ideal'\n",
    "ideal = van_der_Waals(moles, temperature, volume, a=0, b=0)"
   ]
  },
  {
   "cell_type": "markdown",
   "metadata": {},
   "source": [
    "Filen som skal leses er på denne formen:\n",
    "```\n",
    "Gas     a(atm L^2/mol^2)    b(L/mol)\n",
    "He           0.034           0.0237\n",
    "Ne           0.211           0.0171\n",
    ".              .                .\n",
    ".              .                .\n",
    ".              .                .\n",
    "NH3          4.17            0.0371\n",
    "(values from table 5.3, Chemical Principles)\n",
    "```\n",
    "Fyll inn slik som kommentert nedenfor. Være obs på at verdier hentet ut fra fil alltid vil være av type string. Du må derfor konvertere om $a$ og $b$ til float. Det kan gjøres slik:\n",
    "```\n",
    "        a = float(avlest_verdi_for_a)\n",
    "```\n",
    "```waan_der_Waals``` skal så kalles på med verdiene for mol, volum, temperatur, a og b som parametre. Pass på at du har skrevet variabelnavnene riktig og i korrekt rekkefølge.\n",
    "\n",
    "Print-statments skal inneholde navnet på gassen, og det utregnede trykket. Trykket skal formatteres slik at du begrenser antall siffer som printes ut. Koden for første print-statment er allerede skrevet slik at du kan se på denne om du er usikker på hvordan dette gjøres.\n",
    "\n",
    "Programmet vil åpne filen og lese første linje uten å lagre informasjonen. Resten av linjene hentes ut gjennom en for-løkke. Denne avsluttes når if-testen gjenkjenner siste linje, som begynner med parentes. Fyll in nødvenig kode som beskrevet i for-løkken.\n",
    "\n"
   ]
  },
  {
   "cell_type": "code",
   "execution_count": null,
   "metadata": {
    "collapsed": false
   },
   "outputs": [],
   "source": [
    "print '%s : %.1f atm' %(gas, ideal)\n",
    "\n",
    "with open('vanDerWaalsConstants.txt', 'r') as infile:\n",
    "    # getting rid of first line\n",
    "    infile.readline()\n",
    "    for line in infile:\n",
    "        # recognizing the last line in the file\n",
    "        if line[0] == '(':\n",
    "            break\n",
    "        newLine =    ### USE split() TO DIVIDE LINE TO A LIST ###\n",
    "        gas =        ### GET ELEMENT NR. 0 FROM newLine ###\n",
    "        a =          ### GET FIRST ELEMENT FROM newLine AND CAST TO FLOAT ###\n",
    "        b =          ### GET SECOND ELEMENT FROM newLine AND CAST TO FLOAT ###\n",
    "        real =       ### USE van_der_Waals TO CALCULATE PRESSURE ###\n",
    "        ### PRINT NAME OF GAS AND CORRESPONDING PRESSURE ###\n"
   ]
  }
 ],
 "metadata": {
  "celltoolbar": "Raw Cell Format",
  "kernelspec": {
   "display_name": "Python 2",
   "language": "python",
   "name": "python2"
  },
  "language_info": {
   "codemirror_mode": {
    "name": "ipython",
    "version": 2
   },
   "file_extension": ".py",
   "mimetype": "text/x-python",
   "name": "python",
   "nbconvert_exporter": "python",
   "pygments_lexer": "ipython2",
   "version": "2.7.13"
  }
 },
 "nbformat": 4,
 "nbformat_minor": 2
}
