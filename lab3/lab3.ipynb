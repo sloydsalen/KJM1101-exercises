{
 "cells": [
  {
   "cell_type": "markdown",
   "metadata": {},
   "source": [
    "# Lab 3 - statistikk\n",
    "\n",
    "## Vektdata\n",
    "Etter labøvelsen burde du ha minst fem datasett med vekter over tid for de forskjellige syrekonsentrasjonene. For å kunne gjøre noe statistikk på datasettene må de først leses inn i variabler. I dette tilfellet er det *litt* mer komplisert siden LabView, programmet som skriver datafilen, bruker komma som desimaltegn i stedet for punktum og NumPy sin function `genfromtxt` isisterer på at punktum skal være desimaltegnet. Den enkleste løsningen på dette er å lage en ny fil der alle kommaene er byttet ut med punktum. Gjør dette i cellen under."
   ]
  },
  {
   "cell_type": "code",
   "execution_count": null,
   "metadata": {
    "collapsed": true
   },
   "outputs": [],
   "source": []
  },
  {
   "cell_type": "markdown",
   "metadata": {},
   "source": [
    "Under er det gitt et eksempel på hvordan NumPy-funksjonen `genfromtxt` brukes til å lese dataene inn i variabler (se [forrige øvelse](../lab2/lab2.ipynb) for mer informasjon) . Legg merke til argumentet `usecols=(0,1)` som vil si at NumPy bare skal lese første og andre rad med data, den tredje er bare kommentarer. Endre filnavnet til den nye filen som ble laget i cellen over."
   ]
  },
  {
   "cell_type": "code",
   "execution_count": null,
   "metadata": {},
   "outputs": [],
   "source": [
    "import numpy as np\n",
    "\n",
    "path = ### FILL IN FILE PATH / NAME ###\n",
    "time, weight = np.genfromtxt(path, skip_header=23, usecols=(0,1), unpack=True)\n",
    "\n",
    "import matplotlib.pyplot as plt\n",
    "plt.plot(time, weight, label='display scale')\n",
    "plt.legend()\n",
    "plt.xlabel('time / [s]')\n",
    "plt.ylabel('mass / [g]')\n",
    "plt.show()"
   ]
  },
  {
   "cell_type": "markdown",
   "metadata": {},
   "source": [
    "## Masse $\\mathrm{CO_2}$\n",
    "Fra dataene du hentet ut over, lag en variabel med massen $\\mathrm{CO_2}$ som er produsert og plott denne over tid."
   ]
  },
  {
   "cell_type": "code",
   "execution_count": null,
   "metadata": {
    "collapsed": true
   },
   "outputs": [],
   "source": [
    "m_CO2 = weight[0]-weight\n",
    "plt.plot(time, m_CO2, label='$\\mathrm{CO_2}$')\n",
    "plt.legend()\n",
    "plt.xlabel('time / [s]')\n",
    "plt.ylabel('mass / [g]')\n",
    "plt.show()"
   ]
  },
  {
   "cell_type": "markdown",
   "metadata": {},
   "source": [
    "## Starthastighet\n",
    "Man kan bestemme reaksjonsordenen fra starthastighetene. Hastigheten er endringen i masse (eller stoffmengde) altså den deriverte. Men det er mye støy i målingene så man kan ikke si at starthastighten bare er differansen mellom de to første verdiene. Den enkleste løsningen er nok å bare regne den gjennomsnittlige stigningen over et litt større intervall."
   ]
  },
  {
   "cell_type": "code",
   "execution_count": null,
   "metadata": {
    "collapsed": true
   },
   "outputs": [],
   "source": [
    "crop = 50\n",
    "slope = m_CO2[crop] / time[crop]\n",
    "\n",
    "plt.plot(time, m_CO2)\n",
    "plt.plot(time, slope * time, '--')\n",
    "plt.show()"
   ]
  },
  {
   "cell_type": "markdown",
   "metadata": {},
   "source": [
    "En litt bedre metode er å bruke lineærregresjon på et lite intervall. SciPy har en statistikkmodul som gjør dette veldig lett."
   ]
  },
  {
   "cell_type": "code",
   "execution_count": null,
   "metadata": {
    "collapsed": true
   },
   "outputs": [],
   "source": [
    "from scipy import stats\n",
    "crop = 30\n",
    "slope, intercept, r_value, p_value, std_err = stats.linregress(time[:crop], m_CO2[:crop])\n",
    "\n",
    "def initial_rate_eqn(t):\n",
    "    return intercept + t * slope\n",
    "\n",
    "plt.plot(time, m_CO2)\n",
    "plt.plot(time, initial_rate_eqn(time), '--')\n",
    "plt.show()"
   ]
  },
  {
   "cell_type": "markdown",
   "metadata": {},
   "source": [
    "En enda mer sofistikert metode er ikke-lineær regresjon. Dersom man *vet* hvilken form funksjonen skal kan man bruke minste kvadraters metode for å finne en tilpasning. Dersom det er en førsteordens reaksjon burde dataene anta den eksponentielle formen\n",
    "$$\\hat{m}_{\\mathrm{CO_2}}=A\\left(1-e^{-\\lambda t}\\right)$$\n",
    "for to parametre $A$ og $\\lambda$. $A$ er den maksimale mengden $\\mathrm{CO_2}$ som kan bli produsert og $\\lambda$ er relatert til hvor fort $\\mathrm{CO_2}$ produseres.\n",
    "\n",
    "Starthastigheten er da gitt ved $k_0 = A\\lambda$. \n",
    "\n",
    "SciPy har en modul kalt `optimize` som kan gjøre kurvetilpasning. Under er det et eksempel der denne eksponentielle kurven tilpasses måledataene. Legg merke til at det er lagt til en kostant `eps` i uttrykket fordi nullpunktet i dataene ikke nødvendigvis er det faktiske nullpunktet på grunn av støy.\n",
    "\n",
    "<div class=\"alert alert-danger\">\n",
    "Legg merke til at man ikke kan bruke variabelnavnet `lambda` for $\\lambda$ i Python. `lambda` brukes til å definiere såkalte lambdafunksjoner som er en rask måte å skrive små funksjoner på. For å definere $f(x) = x^2$ kan man skrive `f = lambda x: x**2`.\n",
    "</div>"
   ]
  },
  {
   "cell_type": "code",
   "execution_count": null,
   "metadata": {
    "collapsed": true
   },
   "outputs": [],
   "source": [
    "def first_order(t, l, A, eps):\n",
    "    return A * (1 - np.exp(-l*t)) + eps\n",
    "\n",
    "from scipy.optimize import curve_fit\n",
    "opt_params, opt_params_cov = curve_fit(first_order, time, m_CO2)\n",
    "l, A, eps = opt_params\n",
    "\n",
    "plt.plot(time, m_CO2, label='observed rate')\n",
    "plt.plot(time, first_order(time, l, A, eps), '--', label='1st order rate best fit')\n",
    "plt.plot(time, l*time*A+eps, ',', label='initial growth rate')\n",
    "plt.legend()\n",
    "plt.ylim((min(eps, 0), A))\n",
    "plt.show()"
   ]
  },
  {
   "cell_type": "markdown",
   "metadata": {},
   "source": [
    "Velg en av metodene over for å bestemme starthastighet (eller gjør det på din egen måte) på alle reaksjonene du utførte.\n"
   ]
  },
  {
   "cell_type": "code",
   "execution_count": null,
   "metadata": {
    "collapsed": true
   },
   "outputs": [],
   "source": []
  },
  {
   "cell_type": "markdown",
   "metadata": {},
   "source": [
    "## Reaksjonsorden\n",
    "Reaksjonshastigheten når $\\mathrm{H^+}$ og $\\mathrm{HCO_3^-}$ reagerer kan generelt skrives \n",
    "$$R=\\frac{\\mathrm{d}}{\\mathrm{d}t}\\mathrm{[CO_2]} = [\\mathrm{H^+}]^n[\\mathrm{HCO_3^-}]^m$$\n",
    "så ved tid $t=0$ er hastigheten avhengig av startkonsentrasjonene av $\\mathrm{H^+}$ og $\\mathrm{HCO_3^-}$. Tar man logaritmen på begge sider får man\n",
    "$$\\begin{align*}\n",
    "\\ln\\left(\\frac{\\mathrm{d}}{\\mathrm{d}t}\\mathrm{[CO_2]_0}\\right) &= \\ln\\left([\\mathrm{H^+}]_0^n[\\mathrm{HCO_3^-}]_0^m\\right)\\\\\n",
    "&= n\\ln[\\mathrm{H^+}]_0 + m\\ln[\\mathrm{HCO_3^-}]\\\\\n",
    "&= a\\ln[\\mathrm{H^+}]_0 + b.\n",
    "\\end{align*}$$\n",
    "Dette er en lineær likning som man kan finne ved lineærregresjon der stigningen, $a$, er reaksjonsordenen, $n$, og skjæringspunktet, $b$, er bidraget til reaksjonshastigeten fra $\\mathrm{HCO_3^-}$.\n",
    "\n",
    "Bestem reaksjonsordenen med hensyn på $\\mathrm{H^+}$ fra starthastighetene ved å bruke lineærregresjon."
   ]
  },
  {
   "cell_type": "code",
   "execution_count": null,
   "metadata": {
    "collapsed": true
   },
   "outputs": [],
   "source": []
  }
 ],
 "metadata": {
  "kernelspec": {
   "display_name": "Python 3",
   "language": "python",
   "name": "python3"
  },
  "language_info": {
   "codemirror_mode": {
    "name": "ipython",
    "version": 3
   },
   "file_extension": ".py",
   "mimetype": "text/x-python",
   "name": "python",
   "nbconvert_exporter": "python",
   "pygments_lexer": "ipython3",
   "version": "3.6.1"
  }
 },
 "nbformat": 4,
 "nbformat_minor": 2
}
